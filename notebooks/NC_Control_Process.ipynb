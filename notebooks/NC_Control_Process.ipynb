{
 "cells": [
  {
   "cell_type": "markdown",
   "id": "712acb2a-58ff-4f5e-94f3-f46d239fbab6",
   "metadata": {},
   "source": [
    "## Block Matching Regisrtation\n",
    "\n",
    "This notebook outputs transformaed pointclouds + alignmnet matrices + warped images. \n",
    "This notebut is run in WSL since it is using ants , which is not awailable for windows. \n",
    "\n",
    "For vizualisation, go to \" NC_Control_View\" notebook , which is run from windows ... "
   ]
  },
  {
   "cell_type": "code",
   "execution_count": 38,
   "id": "590c73f9-6070-460f-9397-5fe0d84cc3a0",
   "metadata": {},
   "outputs": [
    {
     "name": "stdout",
     "output_type": "stream",
     "text": [
      "The autoreload extension is already loaded. To reload it, use:\n",
      "  %reload_ext autoreload\n"
     ]
    }
   ],
   "source": [
    "import sys\n",
    "# win:\n",
    "# project_path = 'D:/Code/repos/gad1b-redistribution/src'\n",
    "# wsl:\n",
    "project_path = '/mnt/d/Code/repos/pwreg'\n",
    "sys.path.insert(1, f'{project_path}/pwreg')\n",
    "\n",
    "from core.core import *\n",
    "from visualize.viewers import *\n",
    "\n",
    "import inspect\n",
    "# print(inspect.getsource(Something))\n",
    "\n",
    "%load_ext autoreload\n",
    "%autoreload 2"
   ]
  },
  {
   "cell_type": "code",
   "execution_count": 3,
   "id": "1a2fa943-6b27-4aa2-aae8-7904e9304e34",
   "metadata": {},
   "outputs": [
    {
     "data": {
      "text/plain": [
       "'/mnt/d/Code/repos/pwreg'"
      ]
     },
     "execution_count": 3,
     "metadata": {},
     "output_type": "execute_result"
    }
   ],
   "source": [
    "project_path"
   ]
  },
  {
   "cell_type": "markdown",
   "id": "5e0131b4-368e-4bd8-a0fe-6afe43e7244c",
   "metadata": {},
   "source": [
    "### Whole image alignment ( TODO : allow rigid ) "
   ]
  },
  {
   "cell_type": "code",
   "execution_count": 4,
   "id": "e967cb31-1e6e-4338-bb8d-176399c674d8",
   "metadata": {},
   "outputs": [
    {
     "name": "stdout",
     "output_type": "stream",
     "text": [
      "shape\n",
      "Fixed (114, 1024, 1024),\n",
      "Moving (118, 1024, 1024)\n",
      "masks :\n",
      "Fixed {'zmin': 51, 'zmax': 165, 'xmin': None, 'xmax': None, 'ymin': None, 'ymax': None},\n",
      "Moving {'zmin': 51, 'zmax': 169, 'xmin': None, 'xmax': None, 'ymin': None, 'ymax': None}\n"
     ]
    }
   ],
   "source": [
    "fixed = Image([0.658, 0.23, 0.23], filename = f'{project_path}/data/raw/img/no_change_control/Image_1-20FM.ome.tif', mask= {'zmin': 51,'zmax': 164 + 1}) # tp 2\n",
    "moving = Image([0.658, 0.23, 0.23], filename = f'{project_path}/data/raw/img/no_change_control/Image_1-20FJ.ome.tif', mask= {'zmin': 51,'zmax': 168 + 1}) # tp 1\n",
    "\n",
    "print(f'shape\\nFixed {fixed.shape},\\nMoving {moving.shape}')\n",
    "print(f'masks :\\nFixed {fixed.mask},\\nMoving {moving.mask}')"
   ]
  },
  {
   "cell_type": "code",
   "execution_count": 5,
   "id": "7411443b-ebb3-495b-a38f-f7e01a2b53da",
   "metadata": {},
   "outputs": [],
   "source": [
    "# put the whole image size here\n",
    "voxels_f = fixed.split([114,1024,1024],0)\n",
    "voxels_m = moving.split([118,1024,1024],0)"
   ]
  },
  {
   "cell_type": "code",
   "execution_count": 6,
   "id": "3bd40fe2-8a3d-4691-ba83-9914ed92aa2e",
   "metadata": {},
   "outputs": [],
   "source": [
    "pair = BlockPair(voxels_f[0],voxels_m[0])\n",
    "pair.register()"
   ]
  },
  {
   "cell_type": "code",
   "execution_count": 20,
   "id": "c6178733-4ebe-47cd-9e7d-0bd7474288b0",
   "metadata": {},
   "outputs": [],
   "source": [
    "save_image = 0\n",
    "if save_image: \n",
    "    tif.imsave(f'{project_path}/data/processed/registered/no_change_control/1-20FJ_to_1-20FM_affine.tif', pair.warp(), imagej=True)\n",
    "    "
   ]
  },
  {
   "cell_type": "code",
   "execution_count": 33,
   "id": "51d07a1c-8079-45f4-a5df-1ba50b714a9e",
   "metadata": {},
   "outputs": [],
   "source": [
    "af = {'matrix': pair.alignment['affine'].matrix, 'center' : pair.alignment['affine'].center}\n",
    "with open(f'{project_path}/data/processed/registered/no_change_control/1-20FJ_to_1-20FM_affine.pkl', 'wb') as f:\n",
    "    pickle.dump(af, f)"
   ]
  },
  {
   "cell_type": "code",
   "execution_count": 34,
   "id": "52e74134-a407-426b-ac11-78537874e2ef",
   "metadata": {},
   "outputs": [
    {
     "data": {
      "text/plain": [
       "{'matrix': array([[ 1.01343539e+00,  5.01786922e-03, -3.49930976e-02,\n",
       "          0.00000000e+00],\n",
       "        [-7.74445434e-04,  1.00188341e+00, -1.23891263e-02,\n",
       "          0.00000000e+00],\n",
       "        [ 3.71186197e-04,  1.20298269e-02,  1.00269345e+00,\n",
       "          0.00000000e+00],\n",
       "        [-1.54117430e-01, -2.22441956e+00,  3.30081141e+00,\n",
       "          1.00000000e+00]]),\n",
       " 'center': array([0., 0., 0.])}"
      ]
     },
     "execution_count": 34,
     "metadata": {},
     "output_type": "execute_result"
    }
   ],
   "source": [
    "# with open(f'{project_path}/data/processed/registered/no_change_control/1-20FJ_to_1-20FM_affine.pkl', 'rb') as f:\n",
    "#     af = pickle.load(f)"
   ]
  },
  {
   "cell_type": "markdown",
   "id": "0ebf8416-d013-4205-beb4-21c7314dc1b8",
   "metadata": {},
   "source": [
    "### Block affine registration"
   ]
  },
  {
   "cell_type": "code",
   "execution_count": 14,
   "id": "72bffba5-3a9d-455b-8da4-8b185020e08c",
   "metadata": {},
   "outputs": [],
   "source": [
    "# use the pre-registered \n",
    "prereg = Image([0.658, 0.23, 0.23],img = pair.warp())"
   ]
  },
  {
   "cell_type": "markdown",
   "id": "eeade928-1e65-4082-b6da-9820a0f73ee2",
   "metadata": {},
   "source": [
    "Let's try with the overlap:"
   ]
  },
  {
   "cell_type": "code",
   "execution_count": 15,
   "id": "dad042f0-bc7a-4d5f-9384-3226bc723cc1",
   "metadata": {},
   "outputs": [
    {
     "name": "stderr",
     "output_type": "stream",
     "text": [
      "/mnt/d/Code/repos/pwreg/pwreg/core/core.py:89: UserWarning:\n",
      "\n",
      "Specified voxel size + overlap don't cover the whole image.Image size is [ 114 1024 1024], block size [ 18 102 102], overlap [2 5 5] results in [ 7.         10.50515464 10.50515464] blocks.\n",
      "Leaving some image out. \n",
      "\n"
     ]
    }
   ],
   "source": [
    "voxels_f = fixed.split([18,102,102],[2,5,5])\n",
    "voxels_m = prereg.split([18,102,102],[2,5,5])"
   ]
  },
  {
   "cell_type": "code",
   "execution_count": 16,
   "id": "ac21bd1b-3440-45b9-83a2-93b5b3d4db94",
   "metadata": {},
   "outputs": [],
   "source": [
    "pairs = [BlockPair(voxf,voxm) for voxf,voxm in zip(voxels_f,voxels_m)]\n",
    "for pair in pairs: \n",
    "    pair.register()"
   ]
  },
  {
   "cell_type": "code",
   "execution_count": 26,
   "id": "aa708ca0-21aa-4f3e-9878-761781eb877b",
   "metadata": {},
   "outputs": [
    {
     "name": "stdout",
     "output_type": "stream",
     "text": [
      "(1, 1, 186, 1110, 1110)\n"
     ]
    }
   ],
   "source": [
    "BlockPairView(pairs, 10).write_volume(f'{project_path}/data/processed/registered/no_change_control/pw_registration_moving_1-20FJ_overlap_NN.tif')\n",
    "BlockView(voxels_f,10).write_volume(f'{project_path}/data/processed/registered/no_change_control/pw_registration_fixed_1-20FM_overlap_NN.tif')"
   ]
  },
  {
   "cell_type": "markdown",
   "id": "74a005b9-f0a9-42b0-a7b7-92ed77f52044",
   "metadata": {},
   "source": [
    "### Load points"
   ]
  },
  {
   "cell_type": "code",
   "execution_count": 29,
   "id": "78f1cd52-a1d5-4582-adc4-00f2d047bf62",
   "metadata": {},
   "outputs": [],
   "source": [
    "import pandas as pd\n",
    "\n",
    "segmentation_folder = '/mnt/d/Code/repos/psd95_segmentation/models/two_small_cnns/predictions/Gad1b_2021/Sequential_2tp_control/'\n",
    "ml_seg1 = pd.read_csv(f'{segmentation_folder}ML_segmentation_1-20GA_12-22-2021_2CNN_gui.csv')\n",
    "ml_seg2 = pd.read_csv(f'{segmentation_folder}ML_segmentation_1-20G6_12-22-2021_2CNN_gui.csv')"
   ]
  },
  {
   "cell_type": "code",
   "execution_count": 40,
   "id": "8659c66b-fb1f-4d90-af88-76f6702f9de7",
   "metadata": {},
   "outputs": [],
   "source": [
    "prob_thr = 0.5\n",
    "ptc1 = Points(ml_seg1[['X','Y','Z']][ml_seg1[\"prob\"]>prob_thr].to_numpy(), units='pix', resolution=[0.23, 0.23, 0.658])\n",
    "ptc2 = Points(ml_seg2[['X','Y','Z']][ml_seg2[\"prob\"]>prob_thr].to_numpy(), units='pix', resolution=[0.23, 0.23, 0.658])"
   ]
  },
  {
   "cell_type": "code",
   "execution_count": 41,
   "id": "10cffb08-8d54-4fa1-8ba0-d30de6e32ca0",
   "metadata": {},
   "outputs": [],
   "source": [
    "ptc1 = ptc1.crop({'zmin': 51,'zmax': 164 + 1}, units='pix')\n",
    "ptc1 = ptc1.recenter([0,0,51], units = 'pix')\n",
    "\n",
    "pyc2 = ptc2.crop({'zmin': 51,'zmax': 168 + 1}, units='pix')\n",
    "ptc2 = ptc2.recenter([0,0,51], units = 'pix')"
   ]
  },
  {
   "cell_type": "code",
   "execution_count": 42,
   "id": "70f445d5-eab1-4984-a1ac-19e6a5098452",
   "metadata": {},
   "outputs": [
    {
     "data": {
      "text/plain": [
       "Number of points : 12961\n",
       "Resolution : [0.23  0.23  0.658]\n",
       "Coordinates :\n",
       "- pixels\n",
       "[[ 231  178   25]\n",
       " [ 181  160   27]\n",
       " [ 162  187   27]\n",
       " ...\n",
       " [ 822  993  115]\n",
       " [ 858 1010  115]\n",
       " [ 781  870  116]]\n",
       "- physical units\n",
       "[[ 53.13   40.94   16.45 ]\n",
       " [ 41.63   36.8    17.766]\n",
       " [ 37.26   43.01   17.766]\n",
       " ...\n",
       " [189.06  228.39   75.67 ]\n",
       " [197.34  232.3    75.67 ]\n",
       " [179.63  200.1    76.328]]"
      ]
     },
     "execution_count": 42,
     "metadata": {},
     "output_type": "execute_result"
    }
   ],
   "source": [
    "ptc2"
   ]
  },
  {
   "cell_type": "code",
   "execution_count": 45,
   "id": "87c904e4-b6df-4036-b707-29f7d16425e2",
   "metadata": {},
   "outputs": [
    {
     "data": {
      "text/plain": [
       "Number of points : 12961\n",
       "Resolution : [0.23  0.23  0.658]\n",
       "Coordinates :\n",
       "- pixels\n",
       "[[ 236.  163.   28.]\n",
       " [ 184.  145.   31.]\n",
       " [ 165.  172.   32.]\n",
       " ...\n",
       " [ 842.  993.   97.]\n",
       " [ 879. 1011.   96.]\n",
       " [ 800.  870.  100.]]\n",
       "- physical units\n",
       "[[ 54.20705265  37.58563906  18.41224399]\n",
       " [ 42.40361     33.35094635  20.64988074]\n",
       " [ 37.90574876  39.54105817  20.80440172]\n",
       " ...\n",
       " [193.56218151 228.45929742  63.69346558]\n",
       " [202.05990594 232.46368844  63.01179321]\n",
       " [183.92201709 199.99143649  65.72260089]]"
      ]
     },
     "execution_count": 45,
     "metadata": {},
     "output_type": "execute_result"
    }
   ],
   "source": [
    "# apply the original global transform\n",
    "with open(f'{project_path}/data/processed/registered/no_change_control/1-20FJ_to_1-20FM_affine.pkl', 'rb') as f:\n",
    "    af = pickle.load(f)\n",
    "ptc2 = ptc2.transform(AffineTransform(af['matrix'],center = af['center']), units='phs')\n",
    "ptc2"
   ]
  },
  {
   "cell_type": "code",
   "execution_count": 51,
   "id": "68a7981c-7fdf-4f40-9deb-87516cb80b55",
   "metadata": {},
   "outputs": [],
   "source": [
    "ptc2.to_json(f'{project_path}/data/processed/registered/no_change_control/ptc2_global_tansformed.json')\n",
    "ptc1.to_json(f'{project_path}/data/processed/registered/no_change_control/ptc1_global.json')"
   ]
  },
  {
   "cell_type": "markdown",
   "id": "412e6188-0c05-4d9d-8275-17f5a584f7ad",
   "metadata": {},
   "source": []
  },
  {
   "cell_type": "code",
   "execution_count": null,
   "id": "6ea34287-512e-45fd-8ac9-98240dabd031",
   "metadata": {},
   "outputs": [],
   "source": []
  },
  {
   "cell_type": "markdown",
   "id": "4bf18dea-4c4d-44e3-9fd7-dc4f93c9a771",
   "metadata": {},
   "source": [
    "Now need to look at the image and pointcloud ... "
   ]
  },
  {
   "cell_type": "code",
   "execution_count": 115,
   "id": "2610765a-d2a0-4f44-982c-ceb03069d445",
   "metadata": {},
   "outputs": [],
   "source": [
    "class ImagePointsView:\n",
    "    def __init__(self, img, ptc):\n",
    "        self.img = img\n",
    "        self.ptc = ptc\n",
    "\n",
    "    def view_in_napari(self):\n",
    "        \"\"\"\n",
    "        Display image with the corresponding point cloud.\n",
    "        \"\"\"\n",
    "        resolution = self.img.resolution\n",
    "        with napari.gui_qt():\n",
    "            viewer = napari.Viewer()\n",
    "            viewer.add_image(self.img.img,\n",
    "                             scale=resolution,\n",
    "                             name='image',\n",
    "                             colormap='grey',\n",
    "                             blending='additive')\n",
    "\n",
    "            viewer.add_layer(FixedPoints(\n",
    "                            self.ptc.xyz['pix'],\n",
    "                            ndim=3,\n",
    "                            size=2,\n",
    "                            edge_width=1,\n",
    "                            scale=resolution,\n",
    "                            name='points',\n",
    "                            face_color='cyan'))"
   ]
  },
  {
   "cell_type": "code",
   "execution_count": 116,
   "id": "44f5106b-2a33-4f90-8236-f5649c2bcc3c",
   "metadata": {},
   "outputs": [
    {
     "ename": "AttributeError",
     "evalue": "module 'scipy' has no attribute 'sparse'",
     "output_type": "error",
     "traceback": [
      "\u001b[0;31m---------------------------------------------------------------------------\u001b[0m",
      "\u001b[0;31mAttributeError\u001b[0m                            Traceback (most recent call last)",
      "\u001b[0;32m<ipython-input-116-64d15f3d773e>\u001b[0m in \u001b[0;36m<module>\u001b[0;34m\u001b[0m\n\u001b[1;32m      1\u001b[0m \u001b[0mimgptc\u001b[0m \u001b[0;34m=\u001b[0m \u001b[0mImagePointsView\u001b[0m\u001b[0;34m(\u001b[0m\u001b[0mfixed\u001b[0m\u001b[0;34m,\u001b[0m\u001b[0mptc1\u001b[0m\u001b[0;34m)\u001b[0m\u001b[0;34m\u001b[0m\u001b[0;34m\u001b[0m\u001b[0m\n\u001b[0;32m----> 2\u001b[0;31m \u001b[0mimgptc\u001b[0m\u001b[0;34m.\u001b[0m\u001b[0mview_in_napari\u001b[0m\u001b[0;34m(\u001b[0m\u001b[0;34m)\u001b[0m\u001b[0;34m\u001b[0m\u001b[0;34m\u001b[0m\u001b[0m\n\u001b[0m",
      "\u001b[0;32m<ipython-input-115-c91cecfab6fb>\u001b[0m in \u001b[0;36mview_in_napari\u001b[0;34m(self)\u001b[0m\n\u001b[1;32m      9\u001b[0m         \"\"\"\n\u001b[1;32m     10\u001b[0m         \u001b[0mresolution\u001b[0m \u001b[0;34m=\u001b[0m \u001b[0mself\u001b[0m\u001b[0;34m.\u001b[0m\u001b[0mimg\u001b[0m\u001b[0;34m.\u001b[0m\u001b[0mresolution\u001b[0m\u001b[0;34m\u001b[0m\u001b[0;34m\u001b[0m\u001b[0m\n\u001b[0;32m---> 11\u001b[0;31m         \u001b[0;32mwith\u001b[0m \u001b[0mnapari\u001b[0m\u001b[0;34m.\u001b[0m\u001b[0mgui_qt\u001b[0m\u001b[0;34m(\u001b[0m\u001b[0;34m)\u001b[0m\u001b[0;34m:\u001b[0m\u001b[0;34m\u001b[0m\u001b[0;34m\u001b[0m\u001b[0m\n\u001b[0m\u001b[1;32m     12\u001b[0m             \u001b[0mviewer\u001b[0m \u001b[0;34m=\u001b[0m \u001b[0mnapari\u001b[0m\u001b[0;34m.\u001b[0m\u001b[0mViewer\u001b[0m\u001b[0;34m(\u001b[0m\u001b[0;34m)\u001b[0m\u001b[0;34m\u001b[0m\u001b[0;34m\u001b[0m\u001b[0m\n\u001b[1;32m     13\u001b[0m             viewer.add_image(self.img.img,\n",
      "\u001b[0;32m~/anaconda3/envs/ants/lib/python3.8/site-packages/napari/_lazy.py\u001b[0m in \u001b[0;36m__getattr__\u001b[0;34m(name)\u001b[0m\n\u001b[1;32m     45\u001b[0m             \u001b[0;32mreturn\u001b[0m \u001b[0mimport_module\u001b[0m\u001b[0;34m(\u001b[0m\u001b[0;34mf'{module_name}.{name}'\u001b[0m\u001b[0;34m)\u001b[0m\u001b[0;34m\u001b[0m\u001b[0;34m\u001b[0m\u001b[0m\n\u001b[1;32m     46\u001b[0m         \u001b[0;32melif\u001b[0m \u001b[0mname\u001b[0m \u001b[0;32min\u001b[0m \u001b[0mattr_to_modules\u001b[0m\u001b[0;34m:\u001b[0m\u001b[0;34m\u001b[0m\u001b[0;34m\u001b[0m\u001b[0m\n\u001b[0;32m---> 47\u001b[0;31m             \u001b[0msubmod\u001b[0m \u001b[0;34m=\u001b[0m \u001b[0mimport_module\u001b[0m\u001b[0;34m(\u001b[0m\u001b[0;34mf'{module_name}.{attr_to_modules[name]}'\u001b[0m\u001b[0;34m)\u001b[0m\u001b[0;34m\u001b[0m\u001b[0;34m\u001b[0m\u001b[0m\n\u001b[0m\u001b[1;32m     48\u001b[0m             \u001b[0;32mreturn\u001b[0m \u001b[0mgetattr\u001b[0m\u001b[0;34m(\u001b[0m\u001b[0msubmod\u001b[0m\u001b[0;34m,\u001b[0m \u001b[0mname\u001b[0m\u001b[0;34m)\u001b[0m\u001b[0;34m\u001b[0m\u001b[0;34m\u001b[0m\u001b[0m\n\u001b[1;32m     49\u001b[0m         \u001b[0;32melse\u001b[0m\u001b[0;34m:\u001b[0m\u001b[0;34m\u001b[0m\u001b[0;34m\u001b[0m\u001b[0m\n",
      "\u001b[0;32m~/anaconda3/envs/ants/lib/python3.8/importlib/__init__.py\u001b[0m in \u001b[0;36mimport_module\u001b[0;34m(name, package)\u001b[0m\n\u001b[1;32m    125\u001b[0m                 \u001b[0;32mbreak\u001b[0m\u001b[0;34m\u001b[0m\u001b[0;34m\u001b[0m\u001b[0m\n\u001b[1;32m    126\u001b[0m             \u001b[0mlevel\u001b[0m \u001b[0;34m+=\u001b[0m \u001b[0;36m1\u001b[0m\u001b[0;34m\u001b[0m\u001b[0;34m\u001b[0m\u001b[0m\n\u001b[0;32m--> 127\u001b[0;31m     \u001b[0;32mreturn\u001b[0m \u001b[0m_bootstrap\u001b[0m\u001b[0;34m.\u001b[0m\u001b[0m_gcd_import\u001b[0m\u001b[0;34m(\u001b[0m\u001b[0mname\u001b[0m\u001b[0;34m[\u001b[0m\u001b[0mlevel\u001b[0m\u001b[0;34m:\u001b[0m\u001b[0;34m]\u001b[0m\u001b[0;34m,\u001b[0m \u001b[0mpackage\u001b[0m\u001b[0;34m,\u001b[0m \u001b[0mlevel\u001b[0m\u001b[0;34m)\u001b[0m\u001b[0;34m\u001b[0m\u001b[0;34m\u001b[0m\u001b[0m\n\u001b[0m\u001b[1;32m    128\u001b[0m \u001b[0;34m\u001b[0m\u001b[0m\n\u001b[1;32m    129\u001b[0m \u001b[0;34m\u001b[0m\u001b[0m\n",
      "\u001b[0;32m~/anaconda3/envs/ants/lib/python3.8/importlib/_bootstrap.py\u001b[0m in \u001b[0;36m_gcd_import\u001b[0;34m(name, package, level)\u001b[0m\n",
      "\u001b[0;32m~/anaconda3/envs/ants/lib/python3.8/importlib/_bootstrap.py\u001b[0m in \u001b[0;36m_find_and_load\u001b[0;34m(name, import_)\u001b[0m\n",
      "\u001b[0;32m~/anaconda3/envs/ants/lib/python3.8/importlib/_bootstrap.py\u001b[0m in \u001b[0;36m_find_and_load_unlocked\u001b[0;34m(name, import_)\u001b[0m\n",
      "\u001b[0;32m~/anaconda3/envs/ants/lib/python3.8/importlib/_bootstrap.py\u001b[0m in \u001b[0;36m_load_unlocked\u001b[0;34m(spec)\u001b[0m\n",
      "\u001b[0;32m~/anaconda3/envs/ants/lib/python3.8/importlib/_bootstrap_external.py\u001b[0m in \u001b[0;36mexec_module\u001b[0;34m(self, module)\u001b[0m\n",
      "\u001b[0;32m~/anaconda3/envs/ants/lib/python3.8/importlib/_bootstrap.py\u001b[0m in \u001b[0;36m_call_with_frames_removed\u001b[0;34m(f, *args, **kwds)\u001b[0m\n",
      "\u001b[0;32m~/anaconda3/envs/ants/lib/python3.8/site-packages/napari/_event_loop.py\u001b[0m in \u001b[0;36m<module>\u001b[0;34m\u001b[0m\n\u001b[1;32m      1\u001b[0m \u001b[0;32mtry\u001b[0m\u001b[0;34m:\u001b[0m\u001b[0;34m\u001b[0m\u001b[0;34m\u001b[0m\u001b[0m\n\u001b[0;32m----> 2\u001b[0;31m     \u001b[0;32mfrom\u001b[0m \u001b[0;34m.\u001b[0m\u001b[0m_qt\u001b[0m\u001b[0;34m.\u001b[0m\u001b[0mqt_event_loop\u001b[0m \u001b[0;32mimport\u001b[0m \u001b[0mgui_qt\u001b[0m\u001b[0;34m,\u001b[0m \u001b[0mrun\u001b[0m\u001b[0;34m\u001b[0m\u001b[0;34m\u001b[0m\u001b[0m\n\u001b[0m\u001b[1;32m      3\u001b[0m \u001b[0;34m\u001b[0m\u001b[0m\n\u001b[1;32m      4\u001b[0m \u001b[0;31m# qtpy raises a RuntimeError if no Qt bindings can be found\u001b[0m\u001b[0;34m\u001b[0m\u001b[0;34m\u001b[0m\u001b[0;34m\u001b[0m\u001b[0m\n\u001b[1;32m      5\u001b[0m \u001b[0;32mexcept\u001b[0m \u001b[0;34m(\u001b[0m\u001b[0mImportError\u001b[0m\u001b[0;34m,\u001b[0m \u001b[0mRuntimeError\u001b[0m\u001b[0;34m)\u001b[0m \u001b[0;32mas\u001b[0m \u001b[0me\u001b[0m\u001b[0;34m:\u001b[0m\u001b[0;34m\u001b[0m\u001b[0;34m\u001b[0m\u001b[0m\n",
      "\u001b[0;32m~/anaconda3/envs/ants/lib/python3.8/site-packages/napari/_qt/__init__.py\u001b[0m in \u001b[0;36m<module>\u001b[0;34m\u001b[0m\n\u001b[1;32m      4\u001b[0m \u001b[0;32mfrom\u001b[0m \u001b[0mwarnings\u001b[0m \u001b[0;32mimport\u001b[0m \u001b[0mwarn\u001b[0m\u001b[0;34m\u001b[0m\u001b[0;34m\u001b[0m\u001b[0m\n\u001b[1;32m      5\u001b[0m \u001b[0;34m\u001b[0m\u001b[0m\n\u001b[0;32m----> 6\u001b[0;31m \u001b[0;32mfrom\u001b[0m \u001b[0;34m.\u001b[0m\u001b[0;34m.\u001b[0m\u001b[0mutils\u001b[0m\u001b[0;34m.\u001b[0m\u001b[0mtranslations\u001b[0m \u001b[0;32mimport\u001b[0m \u001b[0mtrans\u001b[0m\u001b[0;34m\u001b[0m\u001b[0;34m\u001b[0m\u001b[0m\n\u001b[0m\u001b[1;32m      7\u001b[0m \u001b[0;34m\u001b[0m\u001b[0m\n\u001b[1;32m      8\u001b[0m \u001b[0;32mtry\u001b[0m\u001b[0;34m:\u001b[0m\u001b[0;34m\u001b[0m\u001b[0;34m\u001b[0m\u001b[0m\n",
      "\u001b[0;32m~/anaconda3/envs/ants/lib/python3.8/site-packages/napari/utils/__init__.py\u001b[0m in \u001b[0;36m<module>\u001b[0;34m\u001b[0m\n\u001b[0;32m----> 1\u001b[0;31m \u001b[0;32mfrom\u001b[0m \u001b[0;34m.\u001b[0m\u001b[0m_dask_utils\u001b[0m \u001b[0;32mimport\u001b[0m \u001b[0mresize_dask_cache\u001b[0m\u001b[0;34m\u001b[0m\u001b[0;34m\u001b[0m\u001b[0m\n\u001b[0m\u001b[1;32m      2\u001b[0m \u001b[0;32mfrom\u001b[0m \u001b[0;34m.\u001b[0m\u001b[0mcolormaps\u001b[0m \u001b[0;32mimport\u001b[0m \u001b[0mColormap\u001b[0m\u001b[0;34m\u001b[0m\u001b[0;34m\u001b[0m\u001b[0m\n\u001b[1;32m      3\u001b[0m \u001b[0;32mfrom\u001b[0m \u001b[0;34m.\u001b[0m\u001b[0minfo\u001b[0m \u001b[0;32mimport\u001b[0m \u001b[0mcitation_text\u001b[0m\u001b[0;34m,\u001b[0m \u001b[0msys_info\u001b[0m\u001b[0;34m\u001b[0m\u001b[0;34m\u001b[0m\u001b[0m\n\u001b[1;32m      4\u001b[0m \u001b[0;32mfrom\u001b[0m \u001b[0;34m.\u001b[0m\u001b[0mnotebook_display\u001b[0m \u001b[0;32mimport\u001b[0m \u001b[0mnbscreenshot\u001b[0m\u001b[0;34m\u001b[0m\u001b[0;34m\u001b[0m\u001b[0m\n\u001b[1;32m      5\u001b[0m \u001b[0;32mfrom\u001b[0m \u001b[0;34m.\u001b[0m\u001b[0mprogress\u001b[0m \u001b[0;32mimport\u001b[0m \u001b[0mprogrange\u001b[0m\u001b[0;34m,\u001b[0m \u001b[0mprogress\u001b[0m\u001b[0;34m\u001b[0m\u001b[0;34m\u001b[0m\u001b[0m\n",
      "\u001b[0;32m~/anaconda3/envs/ants/lib/python3.8/site-packages/napari/utils/_dask_utils.py\u001b[0m in \u001b[0;36m<module>\u001b[0;34m\u001b[0m\n\u001b[1;32m      6\u001b[0m \u001b[0;34m\u001b[0m\u001b[0m\n\u001b[1;32m      7\u001b[0m \u001b[0;32mimport\u001b[0m \u001b[0mdask\u001b[0m\u001b[0;34m\u001b[0m\u001b[0;34m\u001b[0m\u001b[0m\n\u001b[0;32m----> 8\u001b[0;31m \u001b[0;32mimport\u001b[0m \u001b[0mdask\u001b[0m\u001b[0;34m.\u001b[0m\u001b[0marray\u001b[0m \u001b[0;32mas\u001b[0m \u001b[0mda\u001b[0m\u001b[0;34m\u001b[0m\u001b[0;34m\u001b[0m\u001b[0m\n\u001b[0m\u001b[1;32m      9\u001b[0m \u001b[0;32mfrom\u001b[0m \u001b[0mdask\u001b[0m\u001b[0;34m.\u001b[0m\u001b[0mcache\u001b[0m \u001b[0;32mimport\u001b[0m \u001b[0mCache\u001b[0m\u001b[0;34m\u001b[0m\u001b[0;34m\u001b[0m\u001b[0m\n\u001b[1;32m     10\u001b[0m \u001b[0;34m\u001b[0m\u001b[0m\n",
      "\u001b[0;32m~/anaconda3/envs/ants/lib/python3.8/site-packages/dask/array/__init__.py\u001b[0m in \u001b[0;36m<module>\u001b[0;34m\u001b[0m\n\u001b[1;32m      1\u001b[0m \u001b[0;32mtry\u001b[0m\u001b[0;34m:\u001b[0m\u001b[0;34m\u001b[0m\u001b[0;34m\u001b[0m\u001b[0m\n\u001b[1;32m      2\u001b[0m     \u001b[0;32mfrom\u001b[0m \u001b[0;34m.\u001b[0m\u001b[0;34m.\u001b[0m\u001b[0mbase\u001b[0m \u001b[0;32mimport\u001b[0m \u001b[0mcompute\u001b[0m\u001b[0;34m\u001b[0m\u001b[0;34m\u001b[0m\u001b[0m\n\u001b[0;32m----> 3\u001b[0;31m     \u001b[0;32mfrom\u001b[0m \u001b[0;34m.\u001b[0m \u001b[0;32mimport\u001b[0m \u001b[0mbackends\u001b[0m\u001b[0;34m,\u001b[0m \u001b[0mfft\u001b[0m\u001b[0;34m,\u001b[0m \u001b[0mlib\u001b[0m\u001b[0;34m,\u001b[0m \u001b[0mlinalg\u001b[0m\u001b[0;34m,\u001b[0m \u001b[0mma\u001b[0m\u001b[0;34m,\u001b[0m \u001b[0moverlap\u001b[0m\u001b[0;34m,\u001b[0m \u001b[0mrandom\u001b[0m\u001b[0;34m\u001b[0m\u001b[0;34m\u001b[0m\u001b[0m\n\u001b[0m\u001b[1;32m      4\u001b[0m     \u001b[0;32mfrom\u001b[0m \u001b[0;34m.\u001b[0m\u001b[0mblockwise\u001b[0m \u001b[0;32mimport\u001b[0m \u001b[0matop\u001b[0m\u001b[0;34m,\u001b[0m \u001b[0mblockwise\u001b[0m\u001b[0;34m\u001b[0m\u001b[0;34m\u001b[0m\u001b[0m\n\u001b[1;32m      5\u001b[0m     \u001b[0;32mfrom\u001b[0m \u001b[0;34m.\u001b[0m\u001b[0mchunk_types\u001b[0m \u001b[0;32mimport\u001b[0m \u001b[0mregister_chunk_type\u001b[0m\u001b[0;34m\u001b[0m\u001b[0;34m\u001b[0m\u001b[0m\n",
      "\u001b[0;32m~/anaconda3/envs/ants/lib/python3.8/site-packages/dask/array/backends.py\u001b[0m in \u001b[0;36m<module>\u001b[0;34m\u001b[0m\n\u001b[1;32m     11\u001b[0m \u001b[0;32mfrom\u001b[0m \u001b[0;34m.\u001b[0m\u001b[0mnumpy_compat\u001b[0m \u001b[0;32mimport\u001b[0m \u001b[0mdivide\u001b[0m \u001b[0;32mas\u001b[0m \u001b[0mnp_divide\u001b[0m\u001b[0;34m\u001b[0m\u001b[0;34m\u001b[0m\u001b[0m\n\u001b[1;32m     12\u001b[0m \u001b[0;32mfrom\u001b[0m \u001b[0;34m.\u001b[0m\u001b[0mnumpy_compat\u001b[0m \u001b[0;32mimport\u001b[0m \u001b[0mma_divide\u001b[0m\u001b[0;34m\u001b[0m\u001b[0;34m\u001b[0m\u001b[0m\n\u001b[0;32m---> 13\u001b[0;31m \u001b[0;32mfrom\u001b[0m \u001b[0;34m.\u001b[0m\u001b[0mpercentile\u001b[0m \u001b[0;32mimport\u001b[0m \u001b[0m_percentile\u001b[0m\u001b[0;34m\u001b[0m\u001b[0;34m\u001b[0m\u001b[0m\n\u001b[0m\u001b[1;32m     14\u001b[0m \u001b[0;34m\u001b[0m\u001b[0m\n\u001b[1;32m     15\u001b[0m \u001b[0mconcatenate_lookup\u001b[0m\u001b[0;34m.\u001b[0m\u001b[0mregister\u001b[0m\u001b[0;34m(\u001b[0m\u001b[0;34m(\u001b[0m\u001b[0mobject\u001b[0m\u001b[0;34m,\u001b[0m \u001b[0mnp\u001b[0m\u001b[0;34m.\u001b[0m\u001b[0mndarray\u001b[0m\u001b[0;34m)\u001b[0m\u001b[0;34m,\u001b[0m \u001b[0mnp\u001b[0m\u001b[0;34m.\u001b[0m\u001b[0mconcatenate\u001b[0m\u001b[0;34m)\u001b[0m\u001b[0;34m\u001b[0m\u001b[0;34m\u001b[0m\u001b[0m\n",
      "\u001b[0;32m~/anaconda3/envs/ants/lib/python3.8/site-packages/dask/array/percentile.py\u001b[0m in \u001b[0;36m<module>\u001b[0;34m\u001b[0m\n\u001b[1;32m      9\u001b[0m \u001b[0;32mfrom\u001b[0m \u001b[0;34m.\u001b[0m\u001b[0;34m.\u001b[0m\u001b[0mbase\u001b[0m \u001b[0;32mimport\u001b[0m \u001b[0mtokenize\u001b[0m\u001b[0;34m\u001b[0m\u001b[0;34m\u001b[0m\u001b[0m\n\u001b[1;32m     10\u001b[0m \u001b[0;32mfrom\u001b[0m \u001b[0;34m.\u001b[0m\u001b[0;34m.\u001b[0m\u001b[0mhighlevelgraph\u001b[0m \u001b[0;32mimport\u001b[0m \u001b[0mHighLevelGraph\u001b[0m\u001b[0;34m\u001b[0m\u001b[0;34m\u001b[0m\u001b[0m\n\u001b[0;32m---> 11\u001b[0;31m \u001b[0;32mfrom\u001b[0m \u001b[0;34m.\u001b[0m\u001b[0mcore\u001b[0m \u001b[0;32mimport\u001b[0m \u001b[0mArray\u001b[0m\u001b[0;34m\u001b[0m\u001b[0;34m\u001b[0m\u001b[0m\n\u001b[0m\u001b[1;32m     12\u001b[0m \u001b[0;32mfrom\u001b[0m \u001b[0;34m.\u001b[0m\u001b[0mnumpy_compat\u001b[0m \u001b[0;32mimport\u001b[0m \u001b[0m_numpy_122\u001b[0m\u001b[0;34m\u001b[0m\u001b[0;34m\u001b[0m\u001b[0m\n\u001b[1;32m     13\u001b[0m \u001b[0;32mfrom\u001b[0m \u001b[0;34m.\u001b[0m\u001b[0mnumpy_compat\u001b[0m \u001b[0;32mimport\u001b[0m \u001b[0mpercentile\u001b[0m \u001b[0;32mas\u001b[0m \u001b[0mnp_percentile\u001b[0m\u001b[0;34m\u001b[0m\u001b[0;34m\u001b[0m\u001b[0m\n",
      "\u001b[0;32m~/anaconda3/envs/ants/lib/python3.8/site-packages/dask/array/core.py\u001b[0m in \u001b[0;36m<module>\u001b[0;34m\u001b[0m\n\u001b[1;32m     75\u001b[0m \u001b[0;32mfrom\u001b[0m \u001b[0;34m.\u001b[0m \u001b[0;32mimport\u001b[0m \u001b[0mchunk\u001b[0m\u001b[0;34m\u001b[0m\u001b[0;34m\u001b[0m\u001b[0m\n\u001b[1;32m     76\u001b[0m \u001b[0;32mfrom\u001b[0m \u001b[0;34m.\u001b[0m\u001b[0mchunk\u001b[0m \u001b[0;32mimport\u001b[0m \u001b[0mgetitem\u001b[0m\u001b[0;34m\u001b[0m\u001b[0;34m\u001b[0m\u001b[0m\n\u001b[0;32m---> 77\u001b[0;31m \u001b[0;32mfrom\u001b[0m \u001b[0;34m.\u001b[0m\u001b[0mchunk_types\u001b[0m \u001b[0;32mimport\u001b[0m \u001b[0mis_valid_array_chunk\u001b[0m\u001b[0;34m,\u001b[0m \u001b[0mis_valid_chunk_type\u001b[0m\u001b[0;34m\u001b[0m\u001b[0;34m\u001b[0m\u001b[0m\n\u001b[0m\u001b[1;32m     78\u001b[0m \u001b[0;34m\u001b[0m\u001b[0m\n\u001b[1;32m     79\u001b[0m \u001b[0;31m# Keep einsum_lookup and tensordot_lookup here for backwards compatibility\u001b[0m\u001b[0;34m\u001b[0m\u001b[0;34m\u001b[0m\u001b[0;34m\u001b[0m\u001b[0m\n",
      "\u001b[0;32m~/anaconda3/envs/ants/lib/python3.8/site-packages/dask/array/chunk_types.py\u001b[0m in \u001b[0;36m<module>\u001b[0;34m\u001b[0m\n\u001b[1;32m    129\u001b[0m     \u001b[0;32mimport\u001b[0m \u001b[0mscipy\u001b[0m\u001b[0;34m.\u001b[0m\u001b[0msparse\u001b[0m\u001b[0;34m\u001b[0m\u001b[0;34m\u001b[0m\u001b[0m\n\u001b[1;32m    130\u001b[0m \u001b[0;34m\u001b[0m\u001b[0m\n\u001b[0;32m--> 131\u001b[0;31m     \u001b[0mregister_chunk_type\u001b[0m\u001b[0;34m(\u001b[0m\u001b[0mscipy\u001b[0m\u001b[0;34m.\u001b[0m\u001b[0msparse\u001b[0m\u001b[0;34m.\u001b[0m\u001b[0mspmatrix\u001b[0m\u001b[0;34m)\u001b[0m\u001b[0;34m\u001b[0m\u001b[0;34m\u001b[0m\u001b[0m\n\u001b[0m\u001b[1;32m    132\u001b[0m \u001b[0;32mexcept\u001b[0m \u001b[0mImportError\u001b[0m\u001b[0;34m:\u001b[0m\u001b[0;34m\u001b[0m\u001b[0;34m\u001b[0m\u001b[0m\n\u001b[1;32m    133\u001b[0m     \u001b[0;32mpass\u001b[0m\u001b[0;34m\u001b[0m\u001b[0;34m\u001b[0m\u001b[0m\n",
      "\u001b[0;31mAttributeError\u001b[0m: module 'scipy' has no attribute 'sparse'"
     ]
    }
   ],
   "source": [
    "imgptc = ImagePointsView(fixed,ptc1)\n",
    "imgptc.view_in_napari()"
   ]
  },
  {
   "cell_type": "code",
   "execution_count": 104,
   "id": "83eeabbf-d8f5-4962-8b98-e4877239d203",
   "metadata": {},
   "outputs": [],
   "source": []
  },
  {
   "cell_type": "code",
   "execution_count": null,
   "id": "a114138e-e687-4973-9e8b-23ca5a4c9196",
   "metadata": {},
   "outputs": [],
   "source": []
  }
 ],
 "metadata": {
  "kernelspec": {
   "display_name": "Python 3 (ipykernel)",
   "language": "python",
   "name": "python3"
  },
  "language_info": {
   "codemirror_mode": {
    "name": "ipython",
    "version": 3
   },
   "file_extension": ".py",
   "mimetype": "text/x-python",
   "name": "python",
   "nbconvert_exporter": "python",
   "pygments_lexer": "ipython3",
   "version": "3.8.5"
  }
 },
 "nbformat": 4,
 "nbformat_minor": 5
}
