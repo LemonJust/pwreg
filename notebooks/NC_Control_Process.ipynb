{
 "cells": [
  {
   "cell_type": "markdown",
   "id": "712acb2a-58ff-4f5e-94f3-f46d239fbab6",
   "metadata": {},
   "source": [
    "## Block Matching Regisrtation\n",
    "\n",
    "This notebook outputs transformaed pointclouds + alignmnet matrices + warped images. \n",
    "This notebut is run in WSL since it is using ants , which is not available for windows. \n",
    "\n",
    "For vizualisation, go to \" NC_Control_View\" notebook , which is run from windows ... "
   ]
  },
  {
   "cell_type": "code",
   "execution_count": 79,
   "id": "590c73f9-6070-460f-9397-5fe0d84cc3a0",
   "metadata": {},
   "outputs": [
    {
     "name": "stdout",
     "output_type": "stream",
     "text": [
      "The autoreload extension is already loaded. To reload it, use:\n",
      "  %reload_ext autoreload\n"
     ]
    }
   ],
   "source": [
    "import sys\n",
    "# win:\n",
    "# project_path = 'D:/Code/repos/gad1b-redistribution/src'\n",
    "# wsl:\n",
    "project_path = '/mnt/d/Code/repos/pwreg'\n",
    "sys.path.insert(1, f'{project_path}/pwreg')\n",
    "\n",
    "from core.core import *\n",
    "from visualize.viewers import *\n",
    "\n",
    "import pickle\n",
    "import pandas as pd\n",
    "\n",
    "import inspect\n",
    "# print(inspect.getsource(Something))\n",
    "\n",
    "%load_ext autoreload\n",
    "%autoreload 2"
   ]
  },
  {
   "cell_type": "code",
   "execution_count": 2,
   "id": "1a2fa943-6b27-4aa2-aae8-7904e9304e34",
   "metadata": {},
   "outputs": [
    {
     "data": {
      "text/plain": [
       "'/mnt/d/Code/repos/pwreg'"
      ]
     },
     "execution_count": 2,
     "metadata": {},
     "output_type": "execute_result"
    }
   ],
   "source": [
    "project_path"
   ]
  },
  {
   "cell_type": "markdown",
   "id": "5e0131b4-368e-4bd8-a0fe-6afe43e7244c",
   "metadata": {},
   "source": [
    "### Global image alignment \n",
    "( TODO : allow rigid ) "
   ]
  },
  {
   "cell_type": "code",
   "execution_count": 28,
   "id": "e967cb31-1e6e-4338-bb8d-176399c674d8",
   "metadata": {},
   "outputs": [
    {
     "name": "stdout",
     "output_type": "stream",
     "text": [
      "shape\n",
      "Fixed (114, 1024, 1024),\n",
      "Moving (118, 1024, 1024)\n",
      "masks :\n",
      "Fixed {'zmin': 51, 'zmax': 165, 'xmin': None, 'xmax': None, 'ymin': None, 'ymax': None},\n",
      "Moving {'zmin': 51, 'zmax': 169, 'xmin': None, 'xmax': None, 'ymin': None, 'ymax': None}\n"
     ]
    }
   ],
   "source": [
    "mask_tp2 = {'zmin': 51,'zmax': 164 + 1}\n",
    "mask_tp1 = {'zmin': 51,'zmax': 168 + 1}\n",
    "\n",
    "fixed = Image([0.658, 0.23, 0.23], filename = f'{project_path}/data/raw/img/no_change_control/Image_1-20FM.ome.tif', mask = mask_tp2) # tp 2\n",
    "moving = Image([0.658, 0.23, 0.23], filename = f'{project_path}/data/raw/img/no_change_control/Image_1-20FJ.ome.tif', mask = mask_tp1) # tp 1\n",
    "\n",
    "print(f'shape\\nFixed {fixed.shape},\\nMoving {moving.shape}')\n",
    "print(f'masks :\\nFixed {fixed.mask},\\nMoving {moving.mask}')"
   ]
  },
  {
   "cell_type": "code",
   "execution_count": 29,
   "id": "7411443b-ebb3-495b-a38f-f7e01a2b53da",
   "metadata": {},
   "outputs": [],
   "source": [
    "# put the whole image size here\n",
    "voxels_f = fixed.split([114,1024,1024],0)\n",
    "voxels_m = moving.split([118,1024,1024],0)"
   ]
  },
  {
   "cell_type": "code",
   "execution_count": 30,
   "id": "3bd40fe2-8a3d-4691-ba83-9914ed92aa2e",
   "metadata": {},
   "outputs": [
    {
     "name": "stdout",
     "output_type": "stream",
     "text": [
      "fixed : ANTsImage (RAI)\n",
      "\t Pixel Type : float (float32)\n",
      "\t Components : 1\n",
      "\t Dimensions : (114, 1024, 1024)\n",
      "\t Spacing    : (0.658, 0.23, 0.23)\n",
      "\t Origin     : (0.0, 0.0, 0.0)\n",
      "\t Direction  : [1. 0. 0. 0. 1. 0. 0. 0. 1.]\n",
      "\n",
      "moving : ANTsImage (RAI)\n",
      "\t Pixel Type : float (float32)\n",
      "\t Components : 1\n",
      "\t Dimensions : (118, 1024, 1024)\n",
      "\t Spacing    : (0.658, 0.23, 0.23)\n",
      "\t Origin     : (0.0, 0.0, 0.0)\n",
      "\t Direction  : [1. 0. 0. 0. 1. 0. 0. 0. 1.]\n",
      "\n"
     ]
    }
   ],
   "source": [
    "pair = BlockPair(voxels_f[0],voxels_m[0])\n",
    "pair.register(verbose = True) # block 2 (blc2) -to-> block 1 (blc1)"
   ]
  },
  {
   "cell_type": "code",
   "execution_count": 31,
   "id": "c6178733-4ebe-47cd-9e7d-0bd7474288b0",
   "metadata": {},
   "outputs": [],
   "source": [
    "save_image = 1\n",
    "if save_image: \n",
    "    tif.imsave(f'{project_path}/data/processed/registered/no_change_control/1-20FJ_to_1-20FM_affine_TS_resolution_ZYX.tif', pair.warp(), imagej=True)\n",
    "\n",
    "pair.alignment['affine'].to_json(f'{project_path}/data/processed/registered/no_change_control/1-20FJ_to_1-20FM_affine_TS_resolution_ZYX.json')"
   ]
  },
  {
   "cell_type": "code",
   "execution_count": 33,
   "id": "51d07a1c-8079-45f4-a5df-1ba50b714a9e",
   "metadata": {},
   "outputs": [],
   "source": [
    "# af = {'matrix': pair.alignment['affine'].matrix, 'center' : pair.alignment['affine'].center}\n",
    "# with open(f'{project_path}/data/processed/registered/no_change_control/1-20FJ_to_1-20FM_affine.pkl', 'wb') as f:\n",
    "#     pickle.dump(af, f)"
   ]
  },
  {
   "cell_type": "code",
   "execution_count": 34,
   "id": "52e74134-a407-426b-ac11-78537874e2ef",
   "metadata": {},
   "outputs": [
    {
     "data": {
      "text/plain": [
       "{'matrix': array([[ 1.01343539e+00,  5.01786922e-03, -3.49930976e-02,\n",
       "          0.00000000e+00],\n",
       "        [-7.74445434e-04,  1.00188341e+00, -1.23891263e-02,\n",
       "          0.00000000e+00],\n",
       "        [ 3.71186197e-04,  1.20298269e-02,  1.00269345e+00,\n",
       "          0.00000000e+00],\n",
       "        [-1.54117430e-01, -2.22441956e+00,  3.30081141e+00,\n",
       "          1.00000000e+00]]),\n",
       " 'center': array([0., 0., 0.])}"
      ]
     },
     "execution_count": 34,
     "metadata": {},
     "output_type": "execute_result"
    }
   ],
   "source": [
    "# with open(f'{project_path}/data/processed/registered/no_change_control/1-20FJ_to_1-20FM_affine.pkl', 'rb') as f:\n",
    "#     af = pickle.load(f)"
   ]
  },
  {
   "cell_type": "markdown",
   "id": "ef5f4cb7-d66a-4c8f-9599-51fb90b26601",
   "metadata": {},
   "source": [
    "### Global points alignment"
   ]
  },
  {
   "cell_type": "code",
   "execution_count": null,
   "id": "c019796b-51e3-4712-a64b-c82ce10b8123",
   "metadata": {},
   "outputs": [],
   "source": [
    "segmentation_folder = '/mnt/d/Code/repos/psd95_segmentation/models/two_small_cnns/predictions/Gad1b_2021/Sequential_2tp_control/'\n",
    "ml_seg1 = pd.read_csv(f'{segmentation_folder}ML_segmentation_1-20GA_12-22-2021_2CNN_gui.csv') # tp1\n",
    "ml_seg2 = pd.read_csv(f'{segmentation_folder}ML_segmentation_1-20G6_12-22-2021_2CNN_gui.csv') # tp2\n",
    "\n",
    "prob_thr = 0.5\n",
    "ptc1 = Points(ml_seg1[['Z','Y','X']][ml_seg1[\"prob\"]>prob_thr].to_numpy(), units='pix', resolution=[0.658, 0.23, 0.23])\n",
    "ptc2 = Points(ml_seg2[['Z','Y','X']][ml_seg2[\"prob\"]>prob_thr].to_numpy(), units='pix', resolution=[0.658, 0.23, 0.23])"
   ]
  },
  {
   "cell_type": "code",
   "execution_count": null,
   "id": "febb4081-5be7-47b3-ac3d-d6e4a183be56",
   "metadata": {},
   "outputs": [],
   "source": [
    "ptc1 = ptc1.crop({'zmin': 51,'zmax': 164 + 1}, units='pix')\n",
    "ptc1 = ptc1.recenter([51,0,0], units = 'pix')\n",
    "\n",
    "ptc2 = ptc2.crop({'zmin': 51,'zmax': 168 + 1}, units='pix')\n",
    "ptc2 = ptc2.recenter([51,0,0], units = 'pix')"
   ]
  },
  {
   "cell_type": "code",
   "execution_count": null,
   "id": "ea5a9b75-e4c1-4f19-9108-919e85509222",
   "metadata": {},
   "outputs": [],
   "source": [
    "ptc1.to_json(f'{project_path}/data/processed/registered/no_change_control/ptc1_global.json')\n",
    "ptc2.to_json(f'{project_path}/data/processed/registered/no_change_control/ptc2_global.json')"
   ]
  },
  {
   "cell_type": "code",
   "execution_count": null,
   "id": "25e44659-da8f-431d-a518-ae583ebd7c65",
   "metadata": {},
   "outputs": [],
   "source": [
    "af = AffineTransform.from_json(f'{project_path}/data/processed/registered/no_change_control/1-20FJ_to_1-20FM_affine_TS_resolution_ZYX.json')\n",
    "    \n",
    "ptc1_tf = ptc1.transform(af, units='phs')\n",
    "ptc1_tf.to_json(f'{project_path}/data/processed/registered/no_change_control/ptc1_to_ptc2_global.json')"
   ]
  },
  {
   "cell_type": "markdown",
   "id": "0ebf8416-d013-4205-beb4-21c7314dc1b8",
   "metadata": {},
   "source": [
    "### Block affine registration"
   ]
  },
  {
   "cell_type": "code",
   "execution_count": 39,
   "id": "72bffba5-3a9d-455b-8da4-8b185020e08c",
   "metadata": {},
   "outputs": [],
   "source": [
    "# use the pre-registered \n",
    "prereg = Image([0.658, 0.23, 0.23],img = pair.warp())"
   ]
  },
  {
   "cell_type": "markdown",
   "id": "eeade928-1e65-4082-b6da-9820a0f73ee2",
   "metadata": {},
   "source": [
    "Let's try with the overlap:"
   ]
  },
  {
   "cell_type": "code",
   "execution_count": 41,
   "id": "dad042f0-bc7a-4d5f-9384-3226bc723cc1",
   "metadata": {},
   "outputs": [
    {
     "name": "stderr",
     "output_type": "stream",
     "text": [
      "/mnt/d/Code/repos/pwreg/pwreg/core/core.py:102: UserWarning:\n",
      "\n",
      "Specified voxel size + overlap don't cover the whole image.Image size is [ 114 1024 1024], block size [ 18 102 102], overlap [2 5 5] results in [ 7.         10.50515464 10.50515464] blocks.\n",
      "Leaving some image out. \n",
      "\n"
     ]
    }
   ],
   "source": [
    "voxels_f = fixed.split([18,102,102],[2,5,5])\n",
    "voxels_m = prereg.split([18,102,102],[2,5,5])"
   ]
  },
  {
   "cell_type": "code",
   "execution_count": 43,
   "id": "ac21bd1b-3440-45b9-83a2-93b5b3d4db94",
   "metadata": {},
   "outputs": [],
   "source": [
    "pairs = [BlockPair(voxf,voxm) for voxf,voxm in zip(voxels_f,voxels_m)]\n",
    "for pair in pairs: \n",
    "    pair.register()"
   ]
  },
  {
   "cell_type": "code",
   "execution_count": 44,
   "id": "aa708ca0-21aa-4f3e-9878-761781eb877b",
   "metadata": {},
   "outputs": [],
   "source": [
    "BlockPairView(pairs, 10).write_volume(f'{project_path}/data/processed/registered/no_change_control/pw_registration_moving_1-20FJ_overlap_NN_ZYX.tif')\n",
    "BlockView(voxels_f,10).write_volume(f'{project_path}/data/processed/registered/no_change_control/pw_registration_fixed_1-20FM_overlap_NN_ZYX.tif')"
   ]
  },
  {
   "cell_type": "code",
   "execution_count": null,
   "id": "f24fec0c-7b3a-428c-bf23-75f12453e85c",
   "metadata": {},
   "outputs": [],
   "source": []
  },
  {
   "cell_type": "markdown",
   "id": "9949f8c1-f677-4ab3-a1fa-ed52e8eb2e52",
   "metadata": {},
   "source": [
    "### Block points registration"
   ]
  },
  {
   "cell_type": "code",
   "execution_count": 74,
   "id": "6d850069-6a82-4bc7-82b0-8f4d87aaea60",
   "metadata": {},
   "outputs": [],
   "source": [
    "segmentation_folder = '/mnt/d/Code/repos/psd95_segmentation/models/two_small_cnns/predictions/Gad1b_2021/Sequential_2tp_control/'\n",
    "ptc2 = Points.from_predictions(f'{segmentation_folder}ML_segmentation_1-20G6_12-22-2021_2CNN_gui.csv', prob_thr=0.5, units='pix', resolution=[0.658, 0.23, 0.23]) # tp2\n",
    "\n",
    "ptc2 = ptc2.crop(mask_tp2, units='pix')\n",
    "ptc2 = ptc2.recenter([51,0,0], units = 'pix')"
   ]
  },
  {
   "cell_type": "code",
   "execution_count": 82,
   "id": "2c771fe2-7587-4d9b-92eb-e5088c6c9d85",
   "metadata": {},
   "outputs": [],
   "source": [
    "ptc2_in_blocks = ptc2.split(voxels_f)\n",
    "PointsBlockView(ptc2_in_blocks, voxels_f, 10).to_json(f'{project_path}/data/processed/registered/no_change_control/ptc2_block_ZYX.json')"
   ]
  },
  {
   "cell_type": "code",
   "execution_count": 90,
   "id": "b60c7255-426e-40d5-8809-f9084726949d",
   "metadata": {},
   "outputs": [],
   "source": [
    "ptc1_global = Points.from_json(f'{project_path}/data/processed/registered/no_change_control/ptc1_global_tansformed_to_ptc2_TS_resolution_ZYX.json')\n",
    "ptc1_to_ptc2_in_blocks = ptc1_global.pw_transform(pairs)\n",
    "PointsBlockView(ptc1_to_ptc2_in_blocks, voxels_f, 10).to_json(f'{project_path}/data/processed/registered/no_change_control/ptc1_to_ptc2_block_ZYX.json')"
   ]
  },
  {
   "cell_type": "code",
   "execution_count": null,
   "id": "5bc4f162-6f4b-42ac-90ff-3a919473cee7",
   "metadata": {},
   "outputs": [],
   "source": []
  },
  {
   "cell_type": "code",
   "execution_count": 83,
   "id": "28df6046-7603-44ef-a2b3-b504730d9e2a",
   "metadata": {},
   "outputs": [],
   "source": []
  },
  {
   "cell_type": "code",
   "execution_count": null,
   "id": "84f92b07-23f0-4edb-9e35-a1992201cc39",
   "metadata": {},
   "outputs": [],
   "source": []
  },
  {
   "cell_type": "code",
   "execution_count": null,
   "id": "1601288d-ee2b-4694-8a08-d824ec36ca8b",
   "metadata": {},
   "outputs": [],
   "source": []
  }
 ],
 "metadata": {
  "kernelspec": {
   "display_name": "Python 3 (ipykernel)",
   "language": "python",
   "name": "python3"
  },
  "language_info": {
   "codemirror_mode": {
    "name": "ipython",
    "version": 3
   },
   "file_extension": ".py",
   "mimetype": "text/x-python",
   "name": "python",
   "nbconvert_exporter": "python",
   "pygments_lexer": "ipython3",
   "version": "3.8.5"
  }
 },
 "nbformat": 4,
 "nbformat_minor": 5
}
