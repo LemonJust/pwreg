{
 "cells": [
  {
   "cell_type": "code",
   "execution_count": 1,
   "id": "cfdb967e",
   "metadata": {},
   "outputs": [
    {
     "name": "stderr",
     "output_type": "stream",
     "text": [
      "<frozen importlib._bootstrap>:219: RuntimeWarning: scipy._lib.messagestream.MessageStream size changed, may indicate binary incompatibility. Expected 56 from C header, got 64 from PyObject\n",
      "/home/ply/anaconda3/envs/ants/lib/python3.8/site-packages/statsmodels/compat/pandas.py:65: FutureWarning: pandas.Int64Index is deprecated and will be removed from pandas in a future version. Use pandas.Index with the appropriate dtype instead.\n",
      "  from pandas import Int64Index as NumericIndex\n"
     ]
    }
   ],
   "source": [
    "import sys\n",
    "import pwreg as pw\n",
    "import matplotlib.pyplot as plt\n",
    "import numpy as np\n",
    "\n",
    "import pickle\n",
    "import pandas as pd"
   ]
  },
  {
   "cell_type": "code",
   "execution_count": 2,
   "id": "9b8aadd2",
   "metadata": {},
   "outputs": [],
   "source": [
    "project_path = \"/mnt/d/Code/repos/UGPy\""
   ]
  },
  {
   "cell_type": "code",
   "execution_count": 3,
   "id": "5da06dde",
   "metadata": {},
   "outputs": [
    {
     "name": "stderr",
     "output_type": "stream",
     "text": [
      "TiffPage 0: TypeError: read_bytes() missing 3 required positional arguments: 'dtype', 'count', and 'offsetsize'\n"
     ]
    }
   ],
   "source": [
    "fixed = pw.Image([0.658, 0.23, 0.23],\n",
    "                 filename = f'{project_path}/data/changes/learners/1-23C4/crops/map_id_375xg1vd_ckpt_3m51q4ne_1-23E2_left_main.tif') # tp1\n",
    "moving = pw.Image([0.658, 0.23, 0.23], \n",
    "                  filename = f'{project_path}/data/changes/learners/1-23C4/registered/crops/gadReg_map_id_375xg1vd_ckpt_3m51q4ne_1-23E4_to_1-23E2_left_main.tif') # tp 2"
   ]
  },
  {
   "cell_type": "code",
   "execution_count": 4,
   "id": "1e033e73",
   "metadata": {},
   "outputs": [
    {
     "data": {
      "image/png": "[encoded data removed]",
      "text/plain": [
       "<Figure size 432x288 with 1 Axes>"
      ]
     },
     "metadata": {
      "needs_background": "light"
     },
     "output_type": "display_data"
    }
   ],
   "source": [
    "# We can set the number of bins with the *bins* keyword argument.\n",
    "bins = np.arange(0, 34000, 1000)\n",
    "plt.hist(fixed.img.flatten(), bins= bins, alpha = 0.5); \n",
    "plt.hist(moving.img.flatten(), bins= bins, alpha = 0.5);"
   ]
  },
  {
   "cell_type": "code",
   "execution_count": 18,
   "id": "32c26091",
   "metadata": {},
   "outputs": [
    {
     "data": {
      "text/plain": [
       "33763"
      ]
     },
     "execution_count": 18,
     "metadata": {},
     "output_type": "execute_result"
    }
   ],
   "source": [
    "np.max(fixed.img)"
   ]
  },
  {
   "cell_type": "code",
   "execution_count": 19,
   "id": "3e5a4037",
   "metadata": {},
   "outputs": [
    {
     "data": {
      "text/plain": [
       "33760"
      ]
     },
     "execution_count": 19,
     "metadata": {},
     "output_type": "execute_result"
    }
   ],
   "source": [
    "np.max(moving.img[moving.img>0])"
   ]
  },
  {
   "cell_type": "code",
   "execution_count": 22,
   "id": "e88eed83",
   "metadata": {},
   "outputs": [
    {
     "data": {
      "text/plain": [
       "dtype('<u2')"
      ]
     },
     "execution_count": 22,
     "metadata": {},
     "output_type": "execute_result"
    }
   ],
   "source": [
    "fixed.img.dtype"
   ]
  },
  {
   "cell_type": "code",
   "execution_count": 23,
   "id": "7b05fc7b",
   "metadata": {},
   "outputs": [
    {
     "data": {
      "text/plain": [
       "dtype('uint16')"
      ]
     },
     "execution_count": 23,
     "metadata": {},
     "output_type": "execute_result"
    }
   ],
   "source": [
    "moving.img.dtype"
   ]
  },
  {
   "cell_type": "code",
   "execution_count": 8,
   "id": "0862d44e",
   "metadata": {},
   "outputs": [
    {
     "data": {
      "image/png": "[encoded data removed]",
      "text/plain": [
       "<Figure size 432x288 with 1 Axes>"
      ]
     },
     "metadata": {
      "needs_background": "light"
     },
     "output_type": "display_data"
    }
   ],
   "source": [
    "fixed_n = fixed.normalize(min_value = 32768)\n",
    "moving_n = moving.normalize(min_value = 32768)\n",
    "\n",
    "# We can set the number of bins with the *bins* keyword argument.\n",
    "bins = np.arange(960, 980, 1)\n",
    "plt.hist(fixed_n.img.flatten(), bins= bins, alpha = 0.5); \n",
    "plt.hist(moving_n.img.flatten(), bins= bins, alpha = 0.5);\n",
    "# plt.ylim([0,1000])\n"
   ]
  },
  {
   "cell_type": "code",
   "execution_count": 16,
   "id": "db6d2b48",
   "metadata": {},
   "outputs": [
    {
     "data": {
      "text/plain": [
       "1000.0"
      ]
     },
     "execution_count": 16,
     "metadata": {},
     "output_type": "execute_result"
    }
   ],
   "source": [
    "np.max(fixed_n.img)"
   ]
  },
  {
   "cell_type": "code",
   "execution_count": 17,
   "id": "fce3bf21",
   "metadata": {},
   "outputs": [
    {
     "data": {
      "text/plain": [
       "33032.25806451613"
      ]
     },
     "execution_count": 17,
     "metadata": {},
     "output_type": "execute_result"
    }
   ],
   "source": [
    "np.max(moving_n.img)"
   ]
  },
  {
   "cell_type": "code",
   "execution_count": null,
   "id": "0569a56e",
   "metadata": {},
   "outputs": [],
   "source": [
    "\n",
    "fixed.imwrite(f'{project_path}/data/changes/learners/1-23C4/crops/norm_map_id_375xg1vd_ckpt_3m51q4ne_1-23E2_left_main.tif')\n",
    "moving.imwrite(f'{project_path}/data/changes/learners/1-23C4/registered/crops/norm_gadReg_map_id_375xg1vd_ckpt_3m51q4ne_1-23E4_to_1-23E2_left_main.tif')"
   ]
  }
 ],
 "metadata": {
  "kernelspec": {
   "display_name": "Python 3 (ipykernel)",
   "language": "python",
   "name": "python3"
  },
  "language_info": {
   "codemirror_mode": {
    "name": "ipython",
    "version": 3
   },
   "file_extension": ".py",
   "mimetype": "text/x-python",
   "name": "python",
   "nbconvert_exporter": "python",
   "pygments_lexer": "ipython3",
   "version": "3.8.5"
  }
 },
 "nbformat": 4,
 "nbformat_minor": 5
}
