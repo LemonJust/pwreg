{
 "cells": [
  {
   "cell_type": "markdown",
   "id": "712acb2a-58ff-4f5e-94f3-f46d239fbab6",
   "metadata": {},
   "source": [
    "## Object Detection : probability map + box merging"
   ]
  },
  {
   "cell_type": "code",
   "execution_count": 49,
   "id": "50e967cb-dbb5-4f0e-801e-25047af06ec4",
   "metadata": {},
   "outputs": [
    {
     "name": "stdout",
     "output_type": "stream",
     "text": [
      "The autoreload extension is already loaded. To reload it, use:\n",
      "  %reload_ext autoreload\n"
     ]
    }
   ],
   "source": [
    "import sys\n",
    "# win:\n",
    "project_path = 'D:/Code/repos/pwreg'\n",
    "sys.path.insert(1, f'{project_path}/pwreg')\n",
    "\n",
    "\n",
    "from core.core import *\n",
    "from visualize.viewers import *\n",
    "from utils.napari_utils import *\n",
    "from utils.utils import *\n",
    "from utils.cnn import *\n",
    "\n",
    "\n",
    "%load_ext autoreload\n",
    "%autoreload 2"
   ]
  },
  {
   "cell_type": "code",
   "execution_count": 63,
   "id": "750e6b17-660d-4cfe-ade0-1a290195a46a",
   "metadata": {},
   "outputs": [
    {
     "data": {
      "text/plain": [
       "(31, 440, 371)"
      ]
     },
     "execution_count": 63,
     "metadata": {},
     "output_type": "execute_result"
    }
   ],
   "source": [
    "resolution = [0.658, 0.23, 0.23]\n",
    "fixed_prob = Image(resolution, filename = \"D:/Code/repos/pwreg/data/processed/registered/no_change_control/testing_April/test_prob_maps/1-20FJ_global_040422_prob_map_crop11.tif\")\n",
    "fixed_prob.shape"
   ]
  },
  {
   "cell_type": "code",
   "execution_count": 64,
   "id": "38c46236-7dc1-4372-9717-9f53acbda8d0",
   "metadata": {},
   "outputs": [
    {
     "data": {
      "text/plain": [
       "(31, 440, 371)"
      ]
     },
     "execution_count": 64,
     "metadata": {},
     "output_type": "execute_result"
    }
   ],
   "source": [
    "fixed = Image(resolution, filename = \"D:/Code/repos/pwreg/data/processed/registered/no_change_control/testing_April/test_prob_maps/fixed_crop11.tif\")\n",
    "fixed.shape"
   ]
  },
  {
   "cell_type": "code",
   "execution_count": 68,
   "id": "9181722c-6aa9-4c2c-95a0-4431d5a6e2d8",
   "metadata": {},
   "outputs": [
    {
     "data": {
      "text/plain": [
       "23011"
      ]
     },
     "execution_count": 68,
     "metadata": {},
     "output_type": "execute_result"
    }
   ],
   "source": [
    "boxes = Boxes.make_boxes(fixed_prob, 38000 , [5,7,7])\n",
    "\n",
    "len(boxes.boxes)"
   ]
  },
  {
   "cell_type": "code",
   "execution_count": 69,
   "id": "2cc96e19-9eda-432e-95bc-9c2f72365efd",
   "metadata": {
    "tags": []
   },
   "outputs": [
    {
     "data": {
      "text/plain": [
       "1610"
      ]
     },
     "execution_count": 69,
     "metadata": {},
     "output_type": "execute_result"
    }
   ],
   "source": [
    "good_boxes = boxes.nms(0.1)\n",
    "len(good_boxes.boxes)"
   ]
  },
  {
   "cell_type": "code",
   "execution_count": 70,
   "id": "7e608b72-97e5-4b70-877b-ce664f2b136d",
   "metadata": {
    "tags": []
   },
   "outputs": [],
   "source": [
    "imgptc = ImagePointsView(images = {'fixed' : fixed, 'fixed_prob' : fixed_prob},boxes = {'good_boxes':good_boxes}, resolution = [0.658, 0.23, 0.23])\n",
    "imgptc.view_in_napari(img_cm = ['cyan', 'magenta'],box_cm = ['yellow'])"
   ]
  },
  {
   "cell_type": "code",
   "execution_count": 12,
   "id": "6621e6a8-c0a4-49ec-92a9-067e63508830",
   "metadata": {},
   "outputs": [
    {
     "data": {
      "text/plain": [
       "<Shapes layer 'my_box' at 0x17c01166e20>"
      ]
     },
     "execution_count": 12,
     "metadata": {},
     "output_type": "execute_result"
    }
   ],
   "source": [
    "import napari \n",
    "\n",
    "viewer = napari.Viewer()     \n",
    "viewer.add_layer(nl.Shapes(\n",
    "    data = [[1, 10, 10], [1, 10, 20], [1, 20, 20], [1, 20, 10]],\n",
    "    ndim=3,\n",
    "    shape_type = 'rectangle',\n",
    "    scale=[0.658, 0.23, 0.23],\n",
    "    name='my_box'))"
   ]
  },
  {
   "cell_type": "code",
   "execution_count": null,
   "id": "9fa0c544-ea82-4c2d-a733-3bbede8121ae",
   "metadata": {},
   "outputs": [],
   "source": []
  }
 ],
 "metadata": {
  "kernelspec": {
   "display_name": "Python 3 (ipykernel)",
   "language": "python",
   "name": "python3"
  },
  "language_info": {
   "codemirror_mode": {
    "name": "ipython",
    "version": 3
   },
   "file_extension": ".py",
   "mimetype": "text/x-python",
   "name": "python",
   "nbconvert_exporter": "python",
   "pygments_lexer": "ipython3",
   "version": "3.10.4"
  }
 },
 "nbformat": 4,
 "nbformat_minor": 5
}
