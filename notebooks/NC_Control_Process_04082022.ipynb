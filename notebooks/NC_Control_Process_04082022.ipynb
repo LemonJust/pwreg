{
 "cells": [
  {
   "cell_type": "markdown",
   "id": "712acb2a-58ff-4f5e-94f3-f46d239fbab6",
   "metadata": {},
   "source": [
    "## Block Matching Regisrtation\n",
    "\n",
    "This notebook outputs transformaed pointclouds + alignmnet matrices + warped images. \n",
    "This notebut is run in WSL since it is using ants , which is not available for windows. \n",
    "\n",
    "For vizualisation, go to \" NC_Control_View\" notebook , which is run from windows ... "
   ]
  },
  {
   "cell_type": "code",
   "execution_count": 33,
   "id": "590c73f9-6070-460f-9397-5fe0d84cc3a0",
   "metadata": {},
   "outputs": [
    {
     "name": "stdout",
     "output_type": "stream",
     "text": [
      "The autoreload extension is already loaded. To reload it, use:\n",
      "  %reload_ext autoreload\n"
     ]
    }
   ],
   "source": [
    "import sys\n",
    "# win:\n",
    "# project_path = 'D:/Code/repos/gad1b-redistribution/src'\n",
    "# wsl:\n",
    "project_path = '/mnt/d/Code/repos/pwreg'\n",
    "sys.path.insert(1, f'{project_path}/pwreg')\n",
    "\n",
    "from core.core import *\n",
    "from utils.utils import *\n",
    "from utils.synapse import *\n",
    "from visualize.viewers import *\n",
    "\n",
    "\n",
    "import pickle\n",
    "import pandas as pd\n",
    "\n",
    "import inspect\n",
    "# print(inspect.getsource(Something))\n",
    "\n",
    "%load_ext autoreload\n",
    "%autoreload 2"
   ]
  },
  {
   "cell_type": "code",
   "execution_count": 7,
   "id": "1a2fa943-6b27-4aa2-aae8-7904e9304e34",
   "metadata": {},
   "outputs": [
    {
     "data": {
      "text/plain": [
       "'/mnt/d/Code/repos/pwreg'"
      ]
     },
     "execution_count": 7,
     "metadata": {},
     "output_type": "execute_result"
    }
   ],
   "source": [
    "project_path"
   ]
  },
  {
   "cell_type": "markdown",
   "id": "5e0131b4-368e-4bd8-a0fe-6afe43e7244c",
   "metadata": {},
   "source": [
    "### Global image alignment \n",
    "( TODO : allow rigid ) "
   ]
  },
  {
   "cell_type": "code",
   "execution_count": 4,
   "id": "1f7e0102-a00c-40d4-9eca-7a3327d69ea4",
   "metadata": {},
   "outputs": [],
   "source": [
    "mask_tp2 = {'zmin': 51,'zmax': 164 + 1}\n",
    "mask_tp1 = {'zmin': 51,'zmax': 168 + 1} "
   ]
  },
  {
   "cell_type": "code",
   "execution_count": 10,
   "id": "e967cb31-1e6e-4338-bb8d-176399c674d8",
   "metadata": {},
   "outputs": [
    {
     "data": {
      "text/plain": [
       "{'fixed': (118, 1024, 1024), 'moving': (114, 1024, 1024)}"
      ]
     },
     "execution_count": 10,
     "metadata": {},
     "output_type": "execute_result"
    }
   ],
   "source": [
    "spec = {\n",
    "    'fixed':\n",
    "        {'filename' : f'{project_path}/data/raw/img/no_change_control/Image_1-20FJ.ome.tif',\n",
    "         'resolution' : [0.658, 0.23, 0.23],\n",
    "         'mask' : mask_tp1,\n",
    "         'img' : None, \n",
    "         'info' : None},\n",
    "    'moving':\n",
    "        {'filename' : f'{project_path}/data/raw/img/no_change_control/Image_1-20FM.ome.tif',\n",
    "         'resolution' : [0.658, 0.23, 0.23],\n",
    "         'mask' : mask_tp2,\n",
    "         'img' : None, \n",
    "         'info' : None}\n",
    "        }\n",
    "\n",
    "imp = ImagePair.from_dict(spec)\n",
    "imp.shape"
   ]
  },
  {
   "cell_type": "code",
   "execution_count": 11,
   "id": "7411443b-ebb3-495b-a38f-f7e01a2b53da",
   "metadata": {},
   "outputs": [
    {
     "name": "stdout",
     "output_type": "stream",
     "text": [
      "fixed : ANTsImage (RAI)\n",
      "\t Pixel Type : float (float32)\n",
      "\t Components : 1\n",
      "\t Dimensions : (118, 1024, 1024)\n",
      "\t Spacing    : (0.658, 0.23, 0.23)\n",
      "\t Origin     : (0.0, 0.0, 0.0)\n",
      "\t Direction  : [1. 0. 0. 0. 1. 0. 0. 0. 1.]\n",
      "\n",
      "moving : ANTsImage (RAI)\n",
      "\t Pixel Type : float (float32)\n",
      "\t Components : 1\n",
      "\t Dimensions : (114, 1024, 1024)\n",
      "\t Spacing    : (0.658, 0.23, 0.23)\n",
      "\t Origin     : (0.0, 0.0, 0.0)\n",
      "\t Direction  : [1. 0. 0. 0. 1. 0. 0. 0. 1.]\n",
      "\n"
     ]
    }
   ],
   "source": [
    "# put the whole image size here\n",
    "imp.register(fixed_size=[118,1024,1024], moving_size=[114,1024,1024], fixed_overlap=0, moving_overlap=0, verbose = True)\n"
   ]
  },
  {
   "cell_type": "code",
   "execution_count": 21,
   "id": "42ebcac3-1b0e-448b-aa20-c31b85fb9bae",
   "metadata": {},
   "outputs": [],
   "source": [
    "imp.save(f'{project_path}/data/processed/registered/no_change_control/testing_April/test_imp/global', padding = 0, info = 'Global alignment, after cutting ')"
   ]
  },
  {
   "cell_type": "markdown",
   "id": "0ebf8416-d013-4205-beb4-21c7314dc1b8",
   "metadata": {},
   "source": [
    "### Block affine registration"
   ]
  },
  {
   "cell_type": "code",
   "execution_count": 23,
   "id": "72bffba5-3a9d-455b-8da4-8b185020e08c",
   "metadata": {},
   "outputs": [
    {
     "data": {
      "text/plain": [
       "{'fixed': (118, 1024, 1024), 'moving': (118, 1024, 1024)}"
      ]
     },
     "execution_count": 23,
     "metadata": {},
     "output_type": "execute_result"
    }
   ],
   "source": [
    "# use the pre-registered \n",
    "imp2 = ImagePair(imp.fixed, imp.alignment[0].warp(interpolator = 'linear'))\n",
    "imp2.shape"
   ]
  },
  {
   "cell_type": "code",
   "execution_count": 25,
   "id": "baccabdb-83e1-45f9-8624-ad3bda07fe5e",
   "metadata": {},
   "outputs": [],
   "source": [
    "# put the whole image size here\n",
    "block_size = [18,102,102]\n",
    "overlap = [3,7,7]\n",
    "imp2.register(fixed_size=block_size, moving_size=block_size, fixed_overlap=overlap, moving_overlap=overlap, verbose = False)"
   ]
  },
  {
   "cell_type": "markdown",
   "id": "eeade928-1e65-4082-b6da-9820a0f73ee2",
   "metadata": {},
   "source": [
    "Let's try with the overlap:"
   ]
  },
  {
   "cell_type": "code",
   "execution_count": 26,
   "id": "540d3aba-85e1-451d-9668-99f8cfa41c8e",
   "metadata": {},
   "outputs": [],
   "source": [
    "imp2.save(f'{project_path}/data/processed/registered/no_change_control/testing_April/test_imp/pw_after_glob', padding = [3,10,10], info = 'Pw registration, after global, after cutting')"
   ]
  },
  {
   "cell_type": "markdown",
   "id": "159ae5d2-2731-4a1b-ac99-775aba6751af",
   "metadata": {},
   "source": [
    "### Global points registration"
   ]
  },
  {
   "cell_type": "code",
   "execution_count": 161,
   "id": "a4726213-38d1-4645-bf42-732302ce6e7e",
   "metadata": {},
   "outputs": [
    {
     "name": "stdout",
     "output_type": "stream",
     "text": [
      "Number of points before and after : 10733, 427510\n",
      "Number of points after cropping : 10733, 405267\n"
     ]
    }
   ],
   "source": [
    "segmentation_folder = '/mnt/d/Code/repos/psd95_segmentation/models/two_small_cnns/predictions/Gad1b_2021/Sequential_2tp_control/'\n",
    "\n",
    "ptc1 = Points.from_predictions(f'{segmentation_folder}ML_segmentation_1-20GA_12-22-2021_2CNN_gui.csv', prob_thr = 0.6, units='pix', resolution=[0.658, 0.23, 0.23])\n",
    "ptc2 = Points.from_predictions(f'{segmentation_folder}ML_segmentation_1-20G6_12-22-2021_2CNN_gui.csv', prob_thr = 0.0, units='pix', resolution=[0.658, 0.23, 0.23])\n",
    "\n",
    "numB = ptc1.num_points\n",
    "numA = ptc2.num_points\n",
    "print(f\"Number of points before and after : {numB}, {numA}\")\n",
    "\n",
    "ptc1 = ptc1.crop(mask_tp1, units='pix')\n",
    "ptc1 = ptc1.recenter([mask_tp1['zmin'],0,0], units = 'pix')\n",
    "\n",
    "ptc2 = ptc2.crop(mask_tp2, units='pix')\n",
    "ptc2 = ptc2.recenter([mask_tp2['zmin'],0,0], units = 'pix')\n",
    "\n",
    "print(f\"Number of points after cropping : {ptc1.num_points}, {ptc2.num_points}\")"
   ]
  },
  {
   "cell_type": "code",
   "execution_count": 162,
   "id": "8a08a681-2a23-4c0d-a910-425faf5bf51f",
   "metadata": {},
   "outputs": [],
   "source": [
    "global_transform = from_json(AffineTransform, f'{project_path}/data/processed/registered/no_change_control/testing_April/test_imp/global/transform_list.json')\n",
    "ptc2 = ptc2.transform(global_transform[0])"
   ]
  },
  {
   "cell_type": "code",
   "execution_count": 166,
   "id": "4e4e6624-e090-49f5-adc7-b343f76b2c51",
   "metadata": {},
   "outputs": [
    {
     "name": "stderr",
     "output_type": "stream",
     "text": [
      "100%|█████████████████████████████████████████████████████████████████████████████████████| 1/1 [00:14<00:00, 14.48s/it]\n"
     ]
    }
   ],
   "source": [
    "sp = PwSynapsePair([ptc1], [ptc2], 1.5, numB, numA)"
   ]
  },
  {
   "cell_type": "code",
   "execution_count": 169,
   "id": "c2539cea-626e-4ce3-ab82-fb3a463ab53c",
   "metadata": {},
   "outputs": [
    {
     "name": "stdout",
     "output_type": "stream",
     "text": [
      "N in blocks 10187\n",
      "N lost 620\n",
      "Lost fraction: 0.06086188279179346\n"
     ]
    }
   ],
   "source": [
    "max_pair = np.max(sp.match['per_idx1'][n_in_blocks], axis = 1)\n",
    "n_in_blocks = np.sum(max_pair>-2)\n",
    "n_lost = np.sum(max_pair==-1)\n",
    "l_frac = n_lost/n_in_blocks\n",
    "print(f\"N in blocks {n_in_blocks}\\nN lost {n_lost}\\nLost fraction: {l_frac}\")"
   ]
  },
  {
   "cell_type": "code",
   "execution_count": 170,
   "id": "6b4cafaa-4394-405c-bf5e-2917a5695bd1",
   "metadata": {},
   "outputs": [
    {
     "name": "stdout",
     "output_type": "stream",
     "text": [
      "N in blocks 10733\n",
      "N lost 753\n",
      "Lost fraction: 0.07015745830615858\n"
     ]
    }
   ],
   "source": [
    "def loss_summary(sp):\n",
    "    max_pair = np.max(sp.match['per_idx1'], axis = 1)\n",
    "    n_in_blocks = np.sum(max_pair>-2)\n",
    "    n_lost = np.sum(max_pair==-1)\n",
    "    l_frac = n_lost/n_in_blocks\n",
    "    print(f\"N in blocks {n_in_blocks}\\nN lost {n_lost}\\nLost fraction: {l_frac}\")\n",
    "loss_summary(sp)"
   ]
  },
  {
   "cell_type": "code",
   "execution_count": 154,
   "id": "53b1f7d5-3d7b-466d-94f6-7f5c4ad3fec1",
   "metadata": {},
   "outputs": [
    {
     "name": "stderr",
     "output_type": "stream",
     "text": [
      "100%|█████████████████████████████████████████████████████████████████████████████████████| 1/1 [00:16<00:00, 16.06s/it]"
     ]
    },
    {
     "name": "stdout",
     "output_type": "stream",
     "text": [
      "N in blocks 10733\n",
      "N lost 1315\n",
      "Lost fraction: 0.12251933289853723\n"
     ]
    },
    {
     "name": "stderr",
     "output_type": "stream",
     "text": [
      "\n"
     ]
    }
   ],
   "source": [
    "to_json()"
   ]
  },
  {
   "cell_type": "code",
   "execution_count": 171,
   "id": "bd8e108e-01a8-4dad-a69e-0663beee0193",
   "metadata": {},
   "outputs": [
    {
     "data": {
      "text/plain": [
       "[Number of points : 753\n",
       " Resolution : [0.7 0.2 0.2]\n",
       " Coordinates :\n",
       " - pixels\n",
       " [[29.0 163.0 184.0]\n",
       "  [30.0 183.0 208.0]\n",
       "  [30.0 189.0 197.0]\n",
       "  ...\n",
       "  [111.0 998.0 768.0]\n",
       "  [111.0 1010.0 806.0]\n",
       "  [112.0 993.0 872.0]]\n",
       " - physical units\n",
       " [[19.1 37.5 42.3]\n",
       "  [19.7 42.1 47.8]\n",
       "  [19.7 43.5 45.3]\n",
       "  ...\n",
       "  [73.0 229.5 176.6]\n",
       "  [73.0 232.3 185.4]\n",
       "  [73.7 228.4 200.6]]]"
      ]
     },
     "execution_count": 171,
     "metadata": {},
     "output_type": "execute_result"
    }
   ],
   "source": [
    "sp.lost"
   ]
  },
  {
   "cell_type": "code",
   "execution_count": null,
   "id": "f33ac786-92bc-44a0-9d10-2f537727e1ea",
   "metadata": {},
   "outputs": [],
   "source": []
  },
  {
   "cell_type": "code",
   "execution_count": null,
   "id": "75051d9b-dcfd-4bd4-9b3b-e8f7b5848af0",
   "metadata": {},
   "outputs": [],
   "source": []
  },
  {
   "cell_type": "code",
   "execution_count": null,
   "id": "97399437-f139-4e89-8aa5-025266cc8b33",
   "metadata": {},
   "outputs": [],
   "source": [
    "spec = {'filename' : f'{project_path}/data/raw/img/no_change_control/Image_1-20FJ.ome.tif',\n",
    "         'resolution' : [0.658, 0.23, 0.23],\n",
    "         'mask' : mask_tp1,\n",
    "         'img' : None, \n",
    "         'info' : None}\n",
    "\n",
    "fixed = Image.from_dict(spec)\n",
    "print(fixed.shape)\n",
    "\n",
    "block_size = [118,1024,1024]\n",
    "overlap = 0\n",
    "\n",
    "blocks = fixed.split(block_size,overlap)"
   ]
  },
  {
   "cell_type": "markdown",
   "id": "9949f8c1-f677-4ab3-a1fa-ed52e8eb2e52",
   "metadata": {},
   "source": [
    "### Block points registration"
   ]
  },
  {
   "cell_type": "code",
   "execution_count": 155,
   "id": "6d850069-6a82-4bc7-82b0-8f4d87aaea60",
   "metadata": {},
   "outputs": [
    {
     "name": "stdout",
     "output_type": "stream",
     "text": [
      "Number of points before and after : 10733, 427510\n",
      "Number of points after cropping : 10733, 405267\n"
     ]
    }
   ],
   "source": [
    "segmentation_folder = '/mnt/d/Code/repos/psd95_segmentation/models/two_small_cnns/predictions/Gad1b_2021/Sequential_2tp_control/'\n",
    "\n",
    "ptc1 = Points.from_predictions(f'{segmentation_folder}ML_segmentation_1-20GA_12-22-2021_2CNN_gui.csv', prob_thr = 0.6, units='pix', resolution=[0.658, 0.23, 0.23])\n",
    "ptc2 = Points.from_predictions(f'{segmentation_folder}ML_segmentation_1-20G6_12-22-2021_2CNN_gui.csv', prob_thr = 0.0, units='pix', resolution=[0.658, 0.23, 0.23])\n",
    "\n",
    "numB = ptc1.num_points\n",
    "numA = ptc2.num_points\n",
    "print(f\"Number of points before and after : {numB}, {numA}\")\n",
    "\n",
    "ptc1 = ptc1.crop(mask_tp1, units='pix')\n",
    "ptc1 = ptc1.recenter([mask_tp1['zmin'],0,0], units = 'pix')\n",
    "\n",
    "ptc2 = ptc2.crop(mask_tp2, units='pix')\n",
    "ptc2 = ptc2.recenter([mask_tp2['zmin'],0,0], units = 'pix')\n",
    "\n",
    "print(f\"Number of points after cropping : {ptc1.num_points}, {ptc2.num_points}\")"
   ]
  },
  {
   "cell_type": "code",
   "execution_count": 156,
   "id": "60c6010a-5734-489e-868f-e8cf51c3c411",
   "metadata": {},
   "outputs": [
    {
     "name": "stdout",
     "output_type": "stream",
     "text": [
      "(118, 1024, 1024)\n"
     ]
    },
    {
     "name": "stderr",
     "output_type": "stream",
     "text": [
      "/mnt/d/Code/repos/pwreg/pwreg/core/core.py:112: UserWarning:\n",
      "\n",
      "Specified voxel size + overlap don't cover the whole image.Image size is [ 118 1024 1024], block size [ 18 102 102], overlap [3 7 7] results in [7.7 10.7 10.7] blocks.\n",
      "Leaving some image out. \n",
      "\n"
     ]
    }
   ],
   "source": [
    "spec = {'filename' : f'{project_path}/data/raw/img/no_change_control/Image_1-20FJ.ome.tif',\n",
    "         'resolution' : [0.658, 0.23, 0.23],\n",
    "         'mask' : mask_tp1,\n",
    "         'img' : None, \n",
    "         'info' : None}\n",
    "\n",
    "fixed = Image.from_dict(spec)\n",
    "print(fixed.shape)\n",
    "\n",
    "block_size = [18,102,102]\n",
    "overlap = [3,7,7]\n",
    "\n",
    "blocks = fixed.split(block_size,overlap)"
   ]
  },
  {
   "cell_type": "code",
   "execution_count": 157,
   "id": "503ddb9d-adf7-40d7-8647-7e8d7aa80afb",
   "metadata": {},
   "outputs": [],
   "source": [
    "global_transform = from_json(AffineTransform, f'{project_path}/data/processed/registered/no_change_control/testing_April/test_imp/global/transform_list.json')\n",
    "pw_transforms = from_json(AffineTransform, f'{project_path}/data/processed/registered/no_change_control/testing_April/test_imp/pw_after_glob/transform_list.json')\n",
    "ptc2 = ptc2.transform(global_transform[0])\n",
    "ptc2 = ptc2.pw_transform(pw_transforms)"
   ]
  },
  {
   "cell_type": "code",
   "execution_count": 158,
   "id": "2c771fe2-7587-4d9b-92eb-e5088c6c9d85",
   "metadata": {},
   "outputs": [],
   "source": [
    "ptc1_in_blocks = ptc1.split(blocks)\n",
    "ptc2_in_blocks = [ptc.fit_block(blc) for ptc, blc in zip(ptc2, blocks)]"
   ]
  },
  {
   "cell_type": "code",
   "execution_count": 148,
   "id": "e38ae075-adf5-4603-a414-1201e421d35e",
   "metadata": {},
   "outputs": [
    {
     "name": "stderr",
     "output_type": "stream",
     "text": [
      "100%|█████████████████████████████████████████████████████████████████████████████████| 700/700 [00:09<00:00, 76.12it/s]\n"
     ]
    }
   ],
   "source": [
    "sp = PwSynapsePair(ptc1_in_blocks, ptc2_in_blocks, 1.5, numB, numA)"
   ]
  },
  {
   "cell_type": "code",
   "execution_count": 149,
   "id": "a977a1b6-6fbd-41e7-89eb-3574d010ef8e",
   "metadata": {},
   "outputs": [
    {
     "name": "stdout",
     "output_type": "stream",
     "text": [
      "N in blocks 10187\n",
      "N lost 615\n",
      "Lost fraction: 0.06037106115637577\n"
     ]
    }
   ],
   "source": [
    "def loss_summary(sp):\n",
    "    max_pair = np.max(sp.match['per_idx1'], axis = 1)\n",
    "    n_in_blocks = np.sum(max_pair>-2)\n",
    "    n_lost = np.sum(max_pair==-1)\n",
    "    l_frac = n_lost/n_in_blocks\n",
    "    print(f\"N in blocks {n_in_blocks}\\nN lost {n_lost}\\nLost fraction: {l_frac}\")\n",
    "loss_summary(sp)"
   ]
  },
  {
   "cell_type": "code",
   "execution_count": 129,
   "id": "df29832e-ffdb-4361-934f-f5cc8a0b0db5",
   "metadata": {
    "collapsed": true,
    "jupyter": {
     "outputs_hidden": true
    },
    "tags": []
   },
   "outputs": [
    {
     "name": "stdout",
     "output_type": "stream",
     "text": [
      " idx : pairs\n",
      "148: [151  -1]\n",
      "150: [151]\n",
      "1306: [1360   -1]\n",
      "1322: [1360]\n",
      "1421: [  -1 1499]\n",
      "1439: [1499   -1]\n",
      "2924: [  -1 3202]\n",
      "7117: [3202]\n",
      "3617: [4046   -1]\n",
      "3631: [4046]\n",
      "3836: [4290   -1]\n",
      "3855: [4290]\n",
      "5042: [5573 5573]\n",
      "5060: [  -1   -1 5573 5573]\n",
      "6347: [7042   -1]\n",
      "6385: [7042]\n",
      "7493: [  -1 8309]\n",
      "7523: [8309 8309]\n",
      "7924: [8803 8783]\n",
      "7932: [8803 8803]\n",
      "8040: [8955   -1]\n",
      "8091: [8955]\n",
      "8042: [8958]\n",
      "8092: [8958]\n",
      "8958: [9881]\n",
      "8964: [  -1 9881]\n",
      "8970: [9912 9911]\n",
      "9000: [9912]\n",
      "9520: [10515]\n",
      "9530: [   -1 10515]\n",
      "10038: [11116]\n",
      "10052: [11116]\n",
      "10452: [11545    -1]\n",
      "10461: [11545]\n"
     ]
    }
   ],
   "source": [
    "def show_repeats(match_matrix, rep):\n",
    "    pairs = np.max(match_matrix, axis = 1)\n",
    "    only_syns = pairs[pairs >-1]\n",
    "    in_syns, c = np.unique(only_syns, return_counts=True)\n",
    "    overused = in_syns[c == rep]\n",
    "    print(f\" idx : pairs\")\n",
    "    for idx in overused:\n",
    "        locations = np.where(pairs == idx)[0]\n",
    "        for loc in locations: \n",
    "            all_line = match_matrix[loc,:]\n",
    "            only_meaning = all_line[all_line>-2]\n",
    "            print(f\"{loc}: {only_meaning}\")\n",
    "            \n",
    "show_repeats(sp.match['per_idx1'], 2)"
   ]
  },
  {
   "cell_type": "code",
   "execution_count": 159,
   "id": "75e0096c-5dc9-4215-a0b1-8834fe47fb7c",
   "metadata": {},
   "outputs": [
    {
     "name": "stderr",
     "output_type": "stream",
     "text": [
      "100%|█████████████████████████████████████████████████████████████████████████████████| 700/700 [00:08<00:00, 82.41it/s]\n"
     ]
    },
    {
     "name": "stdout",
     "output_type": "stream",
     "text": [
      "N in blocks 10187\n",
      "N lost 1090\n",
      "Lost fraction: 0.10699911652105625\n"
     ]
    }
   ],
   "source": [
    "sp = PwSynapsePair(ptc1_in_blocks, ptc2_in_blocks, 1.0, numB, numA)\n",
    "loss_summary(sp)"
   ]
  },
  {
   "cell_type": "code",
   "execution_count": 160,
   "id": "a05ec3c4-06fd-463f-90cd-2da5fddeaaee",
   "metadata": {},
   "outputs": [
    {
     "data": {
      "text/plain": [
       "(10733,)"
      ]
     },
     "execution_count": 160,
     "metadata": {},
     "output_type": "execute_result"
    }
   ],
   "source": [
    "n_in_blocks = np.max(sp.match['per_idx1'], axis = 1)>-2\n",
    "n_in_blocks.shape"
   ]
  },
  {
   "cell_type": "code",
   "execution_count": null,
   "id": "f43bc30b-4799-47a9-9563-ba01f44cc873",
   "metadata": {},
   "outputs": [],
   "source": []
  },
  {
   "cell_type": "code",
   "execution_count": null,
   "id": "42c1cd5a-b182-49f4-886d-594b479f314d",
   "metadata": {},
   "outputs": [],
   "source": []
  },
  {
   "cell_type": "code",
   "execution_count": 112,
   "id": "7dcc0b65-ada7-4c91-8fea-cba4dfef00e3",
   "metadata": {},
   "outputs": [
    {
     "data": {
      "text/plain": [
       "array([False, False, False, ..., False, False, False])"
      ]
     },
     "execution_count": 112,
     "metadata": {},
     "output_type": "execute_result"
    }
   ],
   "source": [
    "orig_du = pairs[in_syns[c ==2]]"
   ]
  },
  {
   "cell_type": "code",
   "execution_count": 113,
   "id": "7144a01a-7a66-4094-a12e-88e48efa1c32",
   "metadata": {},
   "outputs": [
    {
     "ename": "IndexError",
     "evalue": "boolean index did not match indexed array along dimension 0; dimension is 10733 but corresponding boolean dimension is 7815",
     "output_type": "error",
     "traceback": [
      "\u001b[0;31m---------------------------------------------------------------------------\u001b[0m",
      "\u001b[0;31mIndexError\u001b[0m                                Traceback (most recent call last)",
      "\u001b[0;32m/tmp/ipykernel_63/593690972.py\u001b[0m in \u001b[0;36m<module>\u001b[0;34m\u001b[0m\n\u001b[0;32m----> 1\u001b[0;31m \u001b[0msp\u001b[0m\u001b[0;34m.\u001b[0m\u001b[0mmatch\u001b[0m\u001b[0;34m[\u001b[0m\u001b[0;34m'per_idx1'\u001b[0m\u001b[0;34m]\u001b[0m\u001b[0;34m[\u001b[0m\u001b[0mdouble_used\u001b[0m\u001b[0;34m,\u001b[0m\u001b[0;34m:\u001b[0m\u001b[0;34m]\u001b[0m\u001b[0;34m\u001b[0m\u001b[0;34m\u001b[0m\u001b[0m\n\u001b[0m",
      "\u001b[0;31mIndexError\u001b[0m: boolean index did not match indexed array along dimension 0; dimension is 10733 but corresponding boolean dimension is 7815"
     ]
    }
   ],
   "source": [
    "sp.match['per_idx1'][double_used,:]"
   ]
  },
  {
   "cell_type": "code",
   "execution_count": null,
   "id": "0b0bce2d-101e-4c25-afbc-5d8ea725a395",
   "metadata": {},
   "outputs": [],
   "source": []
  },
  {
   "cell_type": "code",
   "execution_count": null,
   "id": "abbb49db-9c3a-414d-a28e-f5ce0dfda7af",
   "metadata": {},
   "outputs": [],
   "source": []
  },
  {
   "cell_type": "code",
   "execution_count": null,
   "id": "7246ec3f-cbca-4d57-a0a3-ec8ffb8357b8",
   "metadata": {},
   "outputs": [],
   "source": []
  },
  {
   "cell_type": "code",
   "execution_count": null,
   "id": "df3b40ae-7305-41d5-84cb-333bf442c2f8",
   "metadata": {},
   "outputs": [],
   "source": []
  },
  {
   "cell_type": "code",
   "execution_count": null,
   "id": "4158fe5f-11b0-4d35-ac55-e5f065a9fa5f",
   "metadata": {},
   "outputs": [],
   "source": []
  },
  {
   "cell_type": "code",
   "execution_count": null,
   "id": "2983d532-49fa-4eaf-87cd-28606d0ade51",
   "metadata": {},
   "outputs": [],
   "source": []
  },
  {
   "cell_type": "code",
   "execution_count": null,
   "id": "b6674568-bf0d-4ef0-ac68-909a1a1b0cc6",
   "metadata": {},
   "outputs": [],
   "source": []
  },
  {
   "cell_type": "code",
   "execution_count": null,
   "id": "a800c232-dd0e-413a-8392-95dabb126c63",
   "metadata": {},
   "outputs": [],
   "source": [
    "PointsBlockView(ptc2_in_blocks, voxels_f, 10).to_json(f'{project_path}/data/processed/registered/no_change_control/ptc2_block_ZYX.json')"
   ]
  },
  {
   "cell_type": "code",
   "execution_count": null,
   "id": "b60c7255-426e-40d5-8809-f9084726949d",
   "metadata": {},
   "outputs": [],
   "source": [
    "ptc1_global = Points.from_json(f'{project_path}/data/processed/registered/no_change_control/ptc1_global_tansformed_to_ptc2_TS_resolution_ZYX.json')\n",
    "ptc1_to_ptc2_in_blocks = ptc1_global.pw_transform(pairs)\n",
    "PointsBlockView(ptc1_to_ptc2_in_blocks, voxels_f, 10).to_json(f'{project_path}/data/processed/registered/no_change_control/ptc1_to_ptc2_block_ZYX.json')"
   ]
  },
  {
   "cell_type": "code",
   "execution_count": null,
   "id": "28df6046-7603-44ef-a2b3-b504730d9e2a",
   "metadata": {},
   "outputs": [],
   "source": []
  },
  {
   "cell_type": "code",
   "execution_count": null,
   "id": "84f92b07-23f0-4edb-9e35-a1992201cc39",
   "metadata": {},
   "outputs": [],
   "source": []
  },
  {
   "cell_type": "code",
   "execution_count": null,
   "id": "1601288d-ee2b-4694-8a08-d824ec36ca8b",
   "metadata": {},
   "outputs": [],
   "source": [
    "a = []"
   ]
  },
  {
   "cell_type": "code",
   "execution_count": null,
   "id": "2ed00fc6-616f-4f97-9165-912a6c344e1b",
   "metadata": {},
   "outputs": [
    {
     "data": {
      "text/plain": [
       "[]"
      ]
     },
     "execution_count": 24,
     "metadata": {},
     "output_type": "execute_result"
    }
   ],
   "source": [
    "a"
   ]
  },
  {
   "cell_type": "code",
   "execution_count": 25,
   "id": "3618b514-ce1b-44d5-ae3a-9d1dcd80aaad",
   "metadata": {},
   "outputs": [
    {
     "ename": "IndexError",
     "evalue": "list assignment index out of range",
     "output_type": "error",
     "traceback": [
      "\u001b[0;31m---------------------------------------------------------------------------\u001b[0m",
      "\u001b[0;31mIndexError\u001b[0m                                Traceback (most recent call last)",
      "\u001b[0;32m/tmp/ipykernel_63/1071498877.py\u001b[0m in \u001b[0;36m<module>\u001b[0;34m\u001b[0m\n\u001b[0;32m----> 1\u001b[0;31m \u001b[0ma\u001b[0m\u001b[0;34m[\u001b[0m\u001b[0;36m2\u001b[0m\u001b[0;34m]\u001b[0m \u001b[0;34m=\u001b[0m \u001b[0;36m9\u001b[0m\u001b[0;34m\u001b[0m\u001b[0;34m\u001b[0m\u001b[0m\n\u001b[0m",
      "\u001b[0;31mIndexError\u001b[0m: list assignment index out of range"
     ]
    }
   ],
   "source": [
    "a[2] = 9"
   ]
  },
  {
   "cell_type": "code",
   "execution_count": 67,
   "id": "b823df1e-adbb-4251-af3d-6f9d539a7436",
   "metadata": {},
   "outputs": [
    {
     "data": {
      "text/plain": [
       "10733"
      ]
     },
     "execution_count": 67,
     "metadata": {},
     "output_type": "execute_result"
    }
   ],
   "source": [
    "ptc1_test = Points.from_predictions(f'{segmentation_folder}ML_segmentation_1-20GA_12-22-2021_2CNN_gui.csv', prob_thr = 0.6, units='pix', resolution=[0.658, 0.23, 0.23])\n",
    "ptc2_test = Points.from_predictions(f'{segmentation_folder}ML_segmentation_1-20G6_12-22-2021_2CNN_gui.csv', prob_thr = 0.6, units='pix', resolution=[0.658, 0.23, 0.23])\n",
    "ptc1_test.num_points"
   ]
  },
  {
   "cell_type": "code",
   "execution_count": 68,
   "id": "b208132f-af76-4f07-9ee7-73a94421f2bf",
   "metadata": {},
   "outputs": [
    {
     "data": {
      "text/plain": [
       "11848"
      ]
     },
     "execution_count": 68,
     "metadata": {},
     "output_type": "execute_result"
    }
   ],
   "source": [
    "ptc2_test.num_points"
   ]
  },
  {
   "cell_type": "code",
   "execution_count": null,
   "id": "d0c81fa9-40d5-41b7-9ff5-90c3e4dcb617",
   "metadata": {},
   "outputs": [],
   "source": []
  },
  {
   "cell_type": "code",
   "execution_count": null,
   "id": "43fe709c-a8b6-4f2f-8b77-c43aae15ff4c",
   "metadata": {},
   "outputs": [],
   "source": []
  },
  {
   "cell_type": "code",
   "execution_count": null,
   "id": "2570585f-1268-4a75-8240-e7f0ed7d0ebb",
   "metadata": {},
   "outputs": [],
   "source": []
  },
  {
   "cell_type": "code",
   "execution_count": null,
   "id": "800c54bd-fab6-4697-b2e3-e1a0520e0d6d",
   "metadata": {},
   "outputs": [],
   "source": []
  },
  {
   "cell_type": "code",
   "execution_count": 172,
   "id": "6171e081-335f-48ed-9f4e-0dd1c96089f2",
   "metadata": {},
   "outputs": [
    {
     "data": {
      "text/plain": [
       "(114, 1024, 1024)"
      ]
     },
     "execution_count": 172,
     "metadata": {},
     "output_type": "execute_result"
    }
   ],
   "source": [
    "spec = {'filename' : f'{project_path}/data/raw/img/no_change_control/Image_1-20FM.ome.tif',\n",
    "         'resolution' : [0.658, 0.23, 0.23],\n",
    "         'mask' : mask_tp2,\n",
    "         'img' : None, \n",
    "         'info' : None}\n",
    "\n",
    "imp = Image.from_dict(spec)\n",
    "imp.shape"
   ]
  },
  {
   "cell_type": "code",
   "execution_count": 188,
   "id": "99103416-9abb-44d1-a023-4ddf58947bb1",
   "metadata": {},
   "outputs": [],
   "source": [
    "\n",
    "impb = imp.blur([0.5,1,1])\n",
    "impb.imwrite(f'{project_path}/data/processed/registered/no_change_control/testing_April/test_blur_05_1_1.tif')"
   ]
  },
  {
   "cell_type": "code",
   "execution_count": 187,
   "id": "4aea24ca-e35c-4e93-823e-d972ba3d0ca5",
   "metadata": {},
   "outputs": [],
   "source": [
    "imdog = imp.dog([0.5,1,1],[1,2,2])\n",
    "imdog.imwrite(f'{project_path}/data/processed/registered/no_change_control/testing_April/test_dog.tif')"
   ]
  },
  {
   "cell_type": "code",
   "execution_count": 176,
   "id": "67abbdc5-dab4-4f8a-9e4d-a3667e151f91",
   "metadata": {},
   "outputs": [],
   "source": [
    "ptc2_full = Points.from_predictions(f'{segmentation_folder}ML_segmentation_1-20G6_12-22-2021_2CNN_gui.csv', prob_thr = 0.0, units='pix', resolution=[0.658, 0.23, 0.23])\n",
    "ptc2_full = ptc2_full.crop(mask_tp2, units='pix')\n",
    "ptc2_full = ptc2_full.recenter([mask_tp2['zmin'],0,0], units = 'pix')\n",
    "\n",
    "to_json(ptc2_full, f'{project_path}/data/processed/registered/no_change_control/testing_April/all_candidates_tp2.json')"
   ]
  },
  {
   "cell_type": "code",
   "execution_count": 180,
   "id": "d241bcc1-a2d0-4f11-8bd3-5a76df41a683",
   "metadata": {},
   "outputs": [],
   "source": [
    "from scipy import ndimage as ndi\n",
    "\n",
    "\n",
    "def local_maxima_3D(data, order=1):\n",
    "    \"\"\"Detects local maxima in a 3D array\n",
    "\n",
    "    Parameters\n",
    "    ---------\n",
    "    data : 3d ndarray\n",
    "    order : int\n",
    "        How many points on each side to use for the comparison\n",
    "\n",
    "    Returns\n",
    "    -------\n",
    "    coords : ndarray\n",
    "        coordinates of the local maxima\n",
    "    values : ndarray\n",
    "        values of the local maxima\n",
    "    \"\"\"\n",
    "    size = 1 + 2 * order\n",
    "    footprint = np.ones((size, size, size))\n",
    "    footprint[order, order, order] = 0\n",
    "\n",
    "    filtered = ndi.maximum_filter(data, footprint=footprint)\n",
    "    mask_local_maxima = data > filtered\n",
    "    coords = np.asarray(np.where(mask_local_maxima)).T\n",
    "    # values = data[mask_local_maxima]\n",
    "\n",
    "    return coords"
   ]
  },
  {
   "cell_type": "code",
   "execution_count": 190,
   "id": "80dbac05-1d7e-47be-925d-9ff3abe877c6",
   "metadata": {},
   "outputs": [
    {
     "data": {
      "text/plain": [
       "(379359, 3)"
      ]
     },
     "execution_count": 190,
     "metadata": {},
     "output_type": "execute_result"
    }
   ],
   "source": [
    "coords = local_maxima_3D(impb.img, order=2)\n",
    "coords.shape"
   ]
  },
  {
   "cell_type": "code",
   "execution_count": 182,
   "id": "e3711df9-dd89-4d30-8739-a6ed52449f94",
   "metadata": {},
   "outputs": [],
   "source": [
    "ptc2_lm = Points(coords, units='pix', resolution=[0.658, 0.23, 0.23])\n",
    "to_json(ptc2_lm, f'{project_path}/data/processed/registered/no_change_control/testing_April/local_maximum_small_blur_tp2.json')"
   ]
  },
  {
   "cell_type": "code",
   "execution_count": 192,
   "id": "2221ce5d-fab7-4b51-b478-48b170a0d5db",
   "metadata": {},
   "outputs": [
    {
     "name": "stderr",
     "output_type": "stream",
     "text": [
      "100%|█████████████████████████████████████████████████████████████████████████████████████| 1/1 [00:13<00:00, 13.27s/it]"
     ]
    },
    {
     "name": "stdout",
     "output_type": "stream",
     "text": [
      "N in blocks 10733\n",
      "N lost 1022\n",
      "Lost fraction: 0.09522034845802664\n"
     ]
    },
    {
     "name": "stderr",
     "output_type": "stream",
     "text": [
      "\n"
     ]
    }
   ],
   "source": [
    "ptc1 = Points.from_predictions(f'{segmentation_folder}ML_segmentation_1-20GA_12-22-2021_2CNN_gui.csv', prob_thr = 0.6, units='pix', resolution=[0.658, 0.23, 0.23])\n",
    "ptc1 = ptc1.crop(mask_tp1, units='pix')\n",
    "ptc1 = ptc1.recenter([mask_tp1['zmin'],0,0], units = 'pix')\n",
    "\n",
    "global_transform = from_json(AffineTransform, f'{project_path}/data/processed/registered/no_change_control/testing_April/test_imp/global/transform_list.json')\n",
    "ptc2_lm = ptc2_lm.transform(global_transform[0])\n",
    "\n",
    "sp = PwSynapsePair([ptc1], [ptc2_lm], 1.5, numB, numA)\n",
    "loss_summary(sp)"
   ]
  },
  {
   "cell_type": "code",
   "execution_count": 185,
   "id": "8953e543-9af8-4662-a989-ed32b23f54fd",
   "metadata": {},
   "outputs": [
    {
     "data": {
      "text/plain": [
       "(71567, 3)"
      ]
     },
     "execution_count": 185,
     "metadata": {},
     "output_type": "execute_result"
    }
   ],
   "source": [
    "coords = local_maxima_3D(impb.img, order=2)\n",
    "coords.shape"
   ]
  },
  {
   "cell_type": "code",
   "execution_count": 191,
   "id": "05f74cd3-f4cc-4da8-8ad9-549d36518ec7",
   "metadata": {},
   "outputs": [],
   "source": [
    "ptc2_lm = Points(coords, units='pix', resolution=[0.658, 0.23, 0.23])\n",
    "to_json(ptc2_lm, f'{project_path}/data/processed/registered/no_change_control/testing_April/local_maximum_small_blur_order2_tp2.json')"
   ]
  },
  {
   "cell_type": "code",
   "execution_count": null,
   "id": "6055f3f2-e65c-42d6-be7e-ade348d1cd7a",
   "metadata": {},
   "outputs": [],
   "source": []
  }
 ],
 "metadata": {
  "kernelspec": {
   "display_name": "Python 3 (ipykernel)",
   "language": "python",
   "name": "python3"
  },
  "language_info": {
   "codemirror_mode": {
    "name": "ipython",
    "version": 3
   },
   "file_extension": ".py",
   "mimetype": "text/x-python",
   "name": "python",
   "nbconvert_exporter": "python",
   "pygments_lexer": "ipython3",
   "version": "3.8.5"
  }
 },
 "nbformat": 4,
 "nbformat_minor": 5
}
