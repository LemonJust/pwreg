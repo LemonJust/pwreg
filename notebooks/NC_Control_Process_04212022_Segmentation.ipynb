{
 "cells": [
  {
   "cell_type": "markdown",
   "id": "712acb2a-58ff-4f5e-94f3-f46d239fbab6",
   "metadata": {},
   "source": [
    "## Block Matching Regisrtation\n",
    "\n",
    "This notebook outputs transformaed pointclouds + alignmnet matrices + warped images. \n",
    "This notebut is run in WSL since it is using ants , which is not available for windows. \n",
    "\n",
    "For vizualisation, go to \" NC_Control_View\" notebook , which is run from windows ... "
   ]
  },
  {
   "cell_type": "code",
   "execution_count": 1,
   "id": "50e967cb-dbb5-4f0e-801e-25047af06ec4",
   "metadata": {},
   "outputs": [
    {
     "name": "stdout",
     "output_type": "stream",
     "text": [
      "Exception occured when trying to import ants !\n",
      " BlockPair.register method won't work and will cause an error if you use it. \n"
     ]
    }
   ],
   "source": [
    "import sys\n",
    "# win:\n",
    "project_path = 'D:/Code/repos/pwreg'\n",
    "sys.path.insert(1, f'{project_path}/pwreg')\n",
    "\n",
    "from utils.cnn import CnnPredictor\n",
    "from core.core import *\n",
    "from visualize.viewers import *\n",
    "from utils.napari_utils import *\n",
    "from utils.utils import *\n",
    "\n",
    "\n",
    "%load_ext autoreload\n",
    "%autoreload 2"
   ]
  },
  {
   "cell_type": "code",
   "execution_count": 8,
   "id": "750e6b17-660d-4cfe-ade0-1a290195a46a",
   "metadata": {},
   "outputs": [
    {
     "name": "stdout",
     "output_type": "stream",
     "text": [
      "Fixed : (118, 1024, 1024)\n",
      "max : 9998, min : 0\n",
      "Moving :(118, 1024, 1024)\n",
      "max : 63706, min : 0\n"
     ]
    }
   ],
   "source": [
    "resolution = [0.658, 0.23, 0.23]\n",
    "fixed_prob = Image(resolution, filename = \"D:/Code/repos/pwreg/data/processed/registered/no_change_control/testing_April/test_prob_maps/1-20FJ_global_040422_prob_map.tif\")\n",
    "fixed = Image(resolution, filename = \"D:/Code/repos/pwreg/data/processed/registered/no_change_control/testing_April/test_prob_maps/fixed.tif\")\n",
    "\n",
    "\n",
    "moving_prob = Image(resolution, filename = \"D:/Code/repos/pwreg/data/processed/registered/no_change_control/testing_April/test_prob_maps/1-20FM_global_040422_prob_map.tif\")\n",
    "\n",
    "print(f\"Fixed : {fixed_prob.shape}\")\n",
    "print(f\"max : {np.max(fixed_prob.img)}, min : {np.min(fixed_prob.img)}\")\n",
    "\n",
    "print(f\"Moving :{fixed.shape}\")\n",
    "print(f\"max : {np.max(fixed.img)}, min : {np.min(fixed.img)}\")"
   ]
  },
  {
   "cell_type": "code",
   "execution_count": 18,
   "id": "5ba0f384-1b42-45a5-8571-1c672847ca30",
   "metadata": {},
   "outputs": [],
   "source": [
    "SCALE = 10000\n",
    "thr_prob = fixed_prob.threshold(0.4*SCALE, binary = False)\n",
    "thr_prob.imwrite(\"D:/Code/repos/pwreg/data/processed/registered/no_change_control/testing_April/test_prob_maps/1-20FJ_global_040422_prob_map_thresholded_0p4.tif\")"
   ]
  },
  {
   "cell_type": "code",
   "execution_count": 19,
   "id": "d8f8118a-de25-4b43-8d14-c8ff1c109081",
   "metadata": {},
   "outputs": [],
   "source": [
    "lm_thr_or1 = thr_prob.local_max(1)\n",
    "lm_thr_or2 = thr_prob.local_max(2)\n",
    "\n",
    "to_json(lm_thr_or1, \"D:/Code/repos/pwreg/data/processed/registered/no_change_control/testing_April/test_prob_maps/Points_from_1-20FJ_global_040422_prob_map_thresholded_0p4_order1.json\")\n",
    "to_json(lm_thr_or2, \"D:/Code/repos/pwreg/data/processed/registered/no_change_control/testing_April/test_prob_maps/Points_from_1-20FJ_global_040422_prob_map_thresholded_0p4_order2.json\")"
   ]
  },
  {
   "cell_type": "code",
   "execution_count": 21,
   "id": "18f20e8b-6d6b-46a4-8fa4-c329aa03f3e5",
   "metadata": {},
   "outputs": [
    {
     "data": {
      "text/plain": [
       "{'values': array([9224, 8595, 9338, ..., 7383, 7831, 8478], dtype=int16)}"
      ]
     },
     "execution_count": 21,
     "metadata": {},
     "output_type": "execute_result"
    }
   ],
   "source": [
    "lm_thr_or1.info"
   ]
  },
  {
   "cell_type": "code",
   "execution_count": null,
   "id": "cde681e3-2a54-454b-9c18-fc1b74488230",
   "metadata": {},
   "outputs": [],
   "source": [
    "lm_or1 = fixed_prob.local_max(1)\n",
    "lm_or2 = fixed_prob.local_max(2)\n",
    "\n",
    "to_json(lm_or1, \"D:/Code/repos/pwreg/data/processed/registered/no_change_control/testing_April/test_prob_maps/Points_from_1-20FJ_global_040422_prob_map_order1.json\")\n",
    "to_json(lm_or2, \"D:/Code/repos/pwreg/data/processed/registered/no_change_control/testing_April/test_prob_maps/Points_from_1-20FJ_global_040422_prob_map_order2.json\")"
   ]
  },
  {
   "cell_type": "code",
   "execution_count": null,
   "id": "9181722c-6aa9-4c2c-95a0-4431d5a6e2d8",
   "metadata": {
    "tags": []
   },
   "outputs": [],
   "source": [
    "lm_or1 = from_json(Points, \"D:/Code/repos/pwreg/data/processed/registered/no_change_control/testing_April/test_prob_maps/Points_from_1-20FJ_global_040422_prob_map_order1.json\")\n"
   ]
  },
  {
   "cell_type": "code",
   "execution_count": 4,
   "id": "a0a6e5a0-63b3-4d11-9f3e-e7fa2bebf3b8",
   "metadata": {},
   "outputs": [],
   "source": [
    "lm_thr_or1 = from_json(Points, \"D:/Code/repos/pwreg/data/processed/registered/no_change_control/testing_April/test_prob_maps/Points_from_1-20FJ_global_040422_prob_map_thresholded_0p4_order1.json\")\n",
    "lm_thr_or2 = from_json(Points, \"D:/Code/repos/pwreg/data/processed/registered/no_change_control/testing_April/test_prob_maps/Points_from_1-20FJ_global_040422_prob_map_thresholded_0p4_order2.json\")"
   ]
  },
  {
   "cell_type": "code",
   "execution_count": 9,
   "id": "7e608b72-97e5-4b70-877b-ce664f2b136d",
   "metadata": {},
   "outputs": [],
   "source": [
    "imgptc = ImagePointsView(images = {'fixed':fixed,'fixed_prob' : fixed_prob}, point_clouds = {'lm_thr_or1':lm_thr_or1, 'lm_thr_or2':lm_thr_or2}, resolution = [0.658, 0.23, 0.23])\n",
    "imgptc.view_in_napari(['red', 'green'],['yellow', 'cyan'])"
   ]
  },
  {
   "cell_type": "code",
   "execution_count": 4,
   "id": "24fd591b-5110-475e-8a89-7918f23c5797",
   "metadata": {},
   "outputs": [
    {
     "name": "stdout",
     "output_type": "stream",
     "text": [
      "[[1, 10, 10], [1, 10, 20], [1, 20, 10], [1, 20, 20], [10, 10, 10], [10, 10, 20], [10, 20, 10], [10, 20, 20]]\n"
     ]
    }
   ],
   "source": [
    " \n"
   ]
  },
  {
   "cell_type": "code",
   "execution_count": 12,
   "id": "6621e6a8-c0a4-49ec-92a9-067e63508830",
   "metadata": {},
   "outputs": [
    {
     "data": {
      "text/plain": [
       "<Shapes layer 'my_box' at 0x17c01166e20>"
      ]
     },
     "execution_count": 12,
     "metadata": {},
     "output_type": "execute_result"
    }
   ],
   "source": [
    "import napari \n",
    "\n",
    "viewer = napari.Viewer()     \n",
    "viewer.add_layer(nl.Shapes(\n",
    "    data = [[1, 10, 10], [1, 10, 20], [1, 20, 20], [1, 20, 10]],\n",
    "    ndim=3,\n",
    "    shape_type = 'rectangle',\n",
    "    scale=[0.658, 0.23, 0.23],\n",
    "    name='my_box'))"
   ]
  },
  {
   "cell_type": "code",
   "execution_count": null,
   "id": "9fa0c544-ea82-4c2d-a733-3bbede8121ae",
   "metadata": {},
   "outputs": [],
   "source": []
  }
 ],
 "metadata": {
  "kernelspec": {
   "display_name": "Python 3 (ipykernel)",
   "language": "python",
   "name": "python3"
  },
  "language_info": {
   "codemirror_mode": {
    "name": "ipython",
    "version": 3
   },
   "file_extension": ".py",
   "mimetype": "text/x-python",
   "name": "python",
   "nbconvert_exporter": "python",
   "pygments_lexer": "ipython3",
   "version": "3.9.12"
  }
 },
 "nbformat": 4,
 "nbformat_minor": 5
}
