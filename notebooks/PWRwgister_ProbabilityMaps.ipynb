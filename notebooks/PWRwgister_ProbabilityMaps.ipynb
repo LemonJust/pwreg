{
 "cells": [
  {
   "cell_type": "markdown",
   "id": "712acb2a-58ff-4f5e-94f3-f46d239fbab6",
   "metadata": {},
   "source": [
    "## Block Matching Regisrtation\n",
    "\n",
    "This notebook outputs transformaed pointclouds + alignmnet matrices + warped images. \n",
    "This notebut is run in WSL since it is using ants , which is not available for windows. \n",
    "\n",
    "For vizualisation, go to \" NC_Control_View\" notebook , which is run from windows ... "
   ]
  },
  {
   "cell_type": "code",
   "execution_count": 1,
   "id": "590c73f9-6070-460f-9397-5fe0d84cc3a0",
   "metadata": {},
   "outputs": [
    {
     "name": "stderr",
     "output_type": "stream",
     "text": [
      "<frozen importlib._bootstrap>:219: RuntimeWarning: scipy._lib.messagestream.MessageStream size changed, may indicate binary incompatibility. Expected 56 from C header, got 64 from PyObject\n",
      "/home/ply/anaconda3/envs/ants/lib/python3.8/site-packages/statsmodels/compat/pandas.py:65: FutureWarning: pandas.Int64Index is deprecated and will be removed from pandas in a future version. Use pandas.Index with the appropriate dtype instead.\n",
      "  from pandas import Int64Index as NumericIndex\n"
     ]
    }
   ],
   "source": [
    "import pwreg as pw\n",
    "\n",
    "import pickle\n",
    "import pandas as pd"
   ]
  },
  {
   "cell_type": "code",
   "execution_count": 2,
   "id": "1a2fa943-6b27-4aa2-aae8-7904e9304e34",
   "metadata": {},
   "outputs": [],
   "source": [
    "project_path = \"/mnt/d/Code/repos/UGPy\""
   ]
  },
  {
   "cell_type": "markdown",
   "id": "5e0131b4-368e-4bd8-a0fe-6afe43e7244c",
   "metadata": {},
   "source": [
    "### Global image alignment \n",
    "( TODO : allow rigid ) "
   ]
  },
  {
   "cell_type": "code",
   "execution_count": 3,
   "id": "1f7e0102-a00c-40d4-9eca-7a3327d69ea4",
   "metadata": {},
   "outputs": [],
   "source": [
    "mask_tp2 = None\n",
    "mask_tp1 = None"
   ]
  },
  {
   "cell_type": "code",
   "execution_count": 4,
   "id": "e967cb31-1e6e-4338-bb8d-176399c674d8",
   "metadata": {},
   "outputs": [
    {
     "name": "stderr",
     "output_type": "stream",
     "text": [
      "TiffPage 0: TypeError: read_bytes() missing 3 required positional arguments: 'dtype', 'count', and 'offsetsize'\n",
      "TiffPage 0: TypeError: read_bytes() missing 3 required positional arguments: 'dtype', 'count', and 'offsetsize'\n"
     ]
    },
    {
     "data": {
      "text/plain": [
       "{'fixed': (121, 799, 420), 'moving': (131, 799, 420)}"
      ]
     },
     "execution_count": 4,
     "metadata": {},
     "output_type": "execute_result"
    }
   ],
   "source": [
    "spec = {\n",
    "    'fixed':\n",
    "        {'filename' : f'{project_path}/data/changes/learners/1-23C4/crops/1-23E2_left_main.tif',\n",
    "         'resolution' : [0.658, 0.23, 0.23],\n",
    "         'mask' : mask_tp1,\n",
    "         'img' : None, \n",
    "         'info' : None},\n",
    "    'moving':\n",
    "        {'filename' : f'{project_path}/data/changes/learners/1-23C4/crops/1-23E4_left_main.tif',\n",
    "         'resolution' : [0.658, 0.23, 0.23],\n",
    "         'mask' : mask_tp2,\n",
    "         'img' : None, \n",
    "         'info' : None}\n",
    "        }\n",
    "\n",
    "imp = pw.ImagePair.from_dict(spec)\n",
    "imp.shape"
   ]
  },
  {
   "cell_type": "code",
   "execution_count": 5,
   "id": "7411443b-ebb3-495b-a38f-f7e01a2b53da",
   "metadata": {},
   "outputs": [
    {
     "name": "stderr",
     "output_type": "stream",
     "text": [
      "  0%|                                                                                             | 0/1 [00:00<?, ?it/s]"
     ]
    },
    {
     "name": "stdout",
     "output_type": "stream",
     "text": [
      "fixed : ANTsImage (RAI)\n",
      "\t Pixel Type : float (float32)\n",
      "\t Components : 1\n",
      "\t Dimensions : (121, 799, 420)\n",
      "\t Spacing    : (0.658, 0.23, 0.23)\n",
      "\t Origin     : (0.0, 0.0, 0.0)\n",
      "\t Direction  : [1.0 0.0 0.0 0.0 1.0 0.0 0.0 0.0 1.0]\n",
      "\n",
      "moving : ANTsImage (RAI)\n",
      "\t Pixel Type : float (float32)\n",
      "\t Components : 1\n",
      "\t Dimensions : (131, 799, 420)\n",
      "\t Spacing    : (0.658, 0.23, 0.23)\n",
      "\t Origin     : (0.0, 0.0, 0.0)\n",
      "\t Direction  : [1.0 0.0 0.0 0.0 1.0 0.0 0.0 0.0 1.0]\n",
      "\n"
     ]
    },
    {
     "name": "stderr",
     "output_type": "stream",
     "text": [
      "100%|████████████████████████████████████████████████████████████████████████████████████| 1/1 [01:46<00:00, 106.19s/it]\n"
     ]
    }
   ],
   "source": [
    "# put the whole image size here\n",
    "transform_folder = f\"{project_path}/tmp\"\n",
    "imp.register(transform_folder, fixed_size=[121, 799, 420], moving_size=[131, 799, 420], fixed_overlap=0, moving_overlap=0, verbose = True)\n"
   ]
  },
  {
   "cell_type": "code",
   "execution_count": 9,
   "id": "42ebcac3-1b0e-448b-aa20-c31b85fb9bae",
   "metadata": {},
   "outputs": [],
   "source": [
    "imp.save(f'{project_path}/data/changes/learners/1-23C4/registered/crops/pw_reg/global', padding = 0, info = 'Global alignment, after cutting ')"
   ]
  },
  {
   "cell_type": "markdown",
   "id": "0ebf8416-d013-4205-beb4-21c7314dc1b8",
   "metadata": {},
   "source": [
    "### Block affine registration"
   ]
  },
  {
   "cell_type": "code",
   "execution_count": 6,
   "id": "72bffba5-3a9d-455b-8da4-8b185020e08c",
   "metadata": {},
   "outputs": [
    {
     "data": {
      "text/plain": [
       "{'fixed': (121, 799, 420), 'moving': (121, 799, 420)}"
      ]
     },
     "execution_count": 6,
     "metadata": {},
     "output_type": "execute_result"
    }
   ],
   "source": [
    "# use the pre-registered \n",
    "imp2 = pw.ImagePair(imp.fixed, imp.alignment[0].warp(interpolator = 'linear'))\n",
    "imp2.shape"
   ]
  },
  {
   "cell_type": "code",
   "execution_count": 12,
   "id": "baccabdb-83e1-45f9-8624-ad3bda07fe5e",
   "metadata": {},
   "outputs": [
    {
     "name": "stderr",
     "output_type": "stream",
     "text": [
      "/mnt/d/Code/repos/pwreg/src/pwreg/core.py:164: UserWarning:\n",
      "\n",
      "Specified voxel size + overlap don't cover the whole image.Image size is [121 799 420], block size [ 20 200 200], overlap [ 15 150 150] results in [21.2 13.0 5.4] blocks.\n",
      "Leaving some image out. \n",
      "\n",
      "100%|███████████████████████████████████████████████████████████████████████████████| 1260/1260 [51:21<00:00,  2.45s/it]\n"
     ]
    }
   ],
   "source": [
    "# put the whole image size here\n",
    "block_size = [20,200,200]\n",
    "overlap = [15,150,150]\n",
    "imp2.register(transform_folder, fixed_size=block_size, moving_size=block_size, fixed_overlap=overlap, moving_overlap=overlap, verbose = False)"
   ]
  },
  {
   "cell_type": "markdown",
   "id": "eeade928-1e65-4082-b6da-9820a0f73ee2",
   "metadata": {},
   "source": [
    "Let's try with the overlap:"
   ]
  },
  {
   "cell_type": "code",
   "execution_count": 15,
   "id": "540d3aba-85e1-451d-9668-99f8cfa41c8e",
   "metadata": {},
   "outputs": [],
   "source": [
    "imp2.save(f'{project_path}/data/changes/learners/1-23C4/registered/crops/pw_reg/pw_after_glob_4', padding = [3,10,10],\n",
    "          info = 'Pw registration after global;\\\n",
    "                  fixed= changes/learners/1-23C4/crops/1-23E2_left_main.tif, moving = data/changes/learners/1-23C4/crops/1-23E4_left_main.tif;\\\n",
    "                  block_size = [20,200,200],overlap = [15,150,150]')"
   ]
  },
  {
   "cell_type": "markdown",
   "id": "ea634e1a-3be9-4ace-bc65-137ccb331676",
   "metadata": {},
   "source": [
    "### Apply Block Affine to probability maps"
   ]
  },
  {
   "cell_type": "code",
   "execution_count": 19,
   "id": "7246ec3f-cbca-4d57-a0a3-ec8ffb8357b8",
   "metadata": {},
   "outputs": [],
   "source": [
    "fixed = pw.Image([0.658, 0.23, 0.23],\n",
    "                 filename = f'{project_path}/data/changes/learners/1-23C4/prob_map/crops/map_id_rzn02jyz_ckpt_3m51q4ne_1-23E2_left_main.tif',\n",
    "                 mask = mask_tp1) # tp 1\n",
    "moving = pw.Image([0.658, 0.23, 0.23], \n",
    "                  filename = f'{project_path}/data/changes/learners/1-23C4/prob_map/crops/map_id_74tmf0l2_ckpt_3m51q4ne_1-23E4_left_main.tif',\n",
    "                  mask = mask_tp2) # tp 2\n",
    "# put the whole image size here\n",
    "voxels_f = fixed.split([121, 799, 420],0)\n",
    "voxels_m = moving.split([131, 799, 420],0)"
   ]
  },
  {
   "cell_type": "code",
   "execution_count": 20,
   "id": "df3b40ae-7305-41d5-84cb-333bf442c2f8",
   "metadata": {},
   "outputs": [],
   "source": [
    "pair_pm = pw.BlockPair(voxels_f[0],voxels_m[0], alignment=imp.alignment[0].alignment)\n",
    "pair_pm.warp().imwrite(\n",
    "    f'{project_path}/data/changes/learners/1-23C4/registered/crops/pw_reg/pw_after_glob_4/global_map_id_74tmf0l2_1-23E4_to_1-23E2_left_main.tif')"
   ]
  },
  {
   "cell_type": "code",
   "execution_count": 21,
   "id": "4158fe5f-11b0-4d35-ac55-e5f065a9fa5f",
   "metadata": {},
   "outputs": [],
   "source": [
    "warped = pair_pm.warp()"
   ]
  },
  {
   "cell_type": "code",
   "execution_count": 22,
   "id": "8ba53ded-6bdf-4abc-8780-91d8c7464af6",
   "metadata": {},
   "outputs": [],
   "source": [
    "voxels_f = fixed.split(block_size,overlap)\n",
    "voxels_m = warped.split(block_size,overlap)"
   ]
  },
  {
   "cell_type": "code",
   "execution_count": 24,
   "id": "afb93561-3665-40fb-a264-7f0e90c53ebe",
   "metadata": {},
   "outputs": [],
   "source": [
    "pairs = [pw.BlockPair(voxf,voxm) for voxf,voxm in zip(voxels_f,voxels_m)]\n",
    "for pair, imp2_pair in zip(pairs,imp2.alignment): \n",
    "    pair.alignment = imp2_pair.alignment"
   ]
  },
  {
   "cell_type": "code",
   "execution_count": 26,
   "id": "2983d532-49fa-4eaf-87cd-28606d0ade51",
   "metadata": {},
   "outputs": [],
   "source": [
    "padding = [3,10,10]\n",
    "folder = f'{project_path}/data/changes/learners/1-23C4/registered/crops/pw_reg/pw_after_glob_4'\n",
    "\n",
    "# fixed image\n",
    "blc1 = [pair.blc1 for pair in pairs]\n",
    "bv1 = pw.BlockView(blc1, padding)\n",
    "bv1.write_volume(f\"{folder}/pmap_fixed.tif\")\n",
    "\n",
    "# moving image\n",
    "blc2 = [pair.blc2 for pair in pairs]\n",
    "bv2 = pw.BlockView(blc2, padding)\n",
    "bv2.write_volume(f\"{folder}/pmap_moving.tif\")\n",
    "\n",
    "# warped (registered) image\n",
    "bp = pw.BlockPairView(pairs, padding)\n",
    "bp.write_volume(f\"{folder}/pmap_warped.tif\")"
   ]
  },
  {
   "cell_type": "markdown",
   "id": "0c115614-a51f-4476-a7d8-fdf1cc519bd4",
   "metadata": {},
   "source": [
    "### Compare probability maps"
   ]
  },
  {
   "cell_type": "code",
   "execution_count": 45,
   "id": "5e34fb1a-b7bf-4cc8-86e1-12e1edf8d596",
   "metadata": {},
   "outputs": [],
   "source": [
    "import numpy as np\n",
    "import tifffile as tif\n",
    "import copy"
   ]
  },
  {
   "cell_type": "code",
   "execution_count": 36,
   "id": "468410b7-d239-4612-bd17-67be6d8d54ff",
   "metadata": {},
   "outputs": [],
   "source": [
    "prob1_view = bv1.zero_volume()\n",
    "prob2_view = bv1.zero_volume()"
   ]
  },
  {
   "cell_type": "code",
   "execution_count": 42,
   "id": "6055f3f2-e65c-42d6-be7e-ade348d1cd7a",
   "metadata": {},
   "outputs": [],
   "source": [
    "SCALE = 1000\n",
    "for map_pair, img_pair in zip(pairs,imp2.alignment): \n",
    "    \n",
    "    # create mask based on where images are nonzero\n",
    "    mask = np.logical_and((img_pair.blc1.crop() > 0),(img_pair.blc2.crop() > 0))\n",
    "    \n",
    "    # sum up proabblities in the mask\n",
    "    prob1_avg = np.mean(map_pair.blc1.crop()[mask])\n",
    "    prob2_avg = np.mean(map_pair.blc2.crop()[mask])\n",
    "    \n",
    "    # write to pair\n",
    "    block = img_pair.blc1\n",
    "    z0, y0, x0 = (block.size + padding) * block.idx\n",
    "    z1, y1, x1 = (block.size + padding) * block.idx + block.size\n",
    "    \n",
    "    prob1_view[z0:z1, y0:y1, x0:x1] = prob1_avg * SCALE\n",
    "    prob2_view[z0:z1, y0:y1, x0:x1] = prob2_avg * SCALE"
   ]
  },
  {
   "cell_type": "code",
   "execution_count": 43,
   "id": "39902b53-043f-4e28-b3f6-2a29b9e086b0",
   "metadata": {},
   "outputs": [],
   "source": [
    "tif.imsave(f\"{folder}/pmap_fixed_avg.tif\", np.expand_dims(prob1_view, axis=1).astype(np.uint16), imagej=True)\n",
    "tif.imsave(f\"{folder}/pmap_warped_avg.tif\", np.expand_dims(prob2_view, axis=1).astype(np.uint16), imagej=True)"
   ]
  },
  {
   "cell_type": "code",
   "execution_count": 46,
   "id": "fba365b7-d84b-4df7-b1ca-5d6d9ace6b56",
   "metadata": {},
   "outputs": [
    {
     "name": "stdout",
     "output_type": "stream",
     "text": [
      "282\n",
      "-1468\n",
      "282\n",
      "0\n",
      "1468\n",
      "0\n"
     ]
    }
   ],
   "source": [
    "diff_view = prob2_view-prob1_view\n",
    "\n",
    "change_img_pos = copy.deepcopy(np.round(diff_view)).astype(np.int16)\n",
    "change_img_neg = copy.deepcopy(np.round(diff_view)).astype(np.int16)\n",
    "\n",
    "print(np.max(change_img_pos.flatten()))\n",
    "print(np.min(change_img_pos.flatten()))   \n",
    "\n",
    "change_img_pos[change_img_pos<0] = 0\n",
    "change_img_neg[change_img_neg>0] = 0\n",
    "change_img_neg = -change_img_neg\n",
    "\n",
    "print(np.max(change_img_pos.flatten()))\n",
    "print(np.min(change_img_pos.flatten())) \n",
    "\n",
    "print(np.max(change_img_neg.flatten()))\n",
    "print(np.min(change_img_neg.flatten())) \n",
    "\n",
    "change_pos = pw.Image([0.658, 0.23, 0.23], img = change_img_pos)\n",
    "change_neg = pw.Image([0.658, 0.23, 0.23], img = change_img_neg)\n",
    "change_pos.imwrite( f\"{folder}/pmap_change_up.tif\")\n",
    "change_neg.imwrite( f\"{folder}/pmap_change_down.tif\")"
   ]
  }
 ],
 "metadata": {
  "kernelspec": {
   "display_name": "Python 3 (ipykernel)",
   "language": "python",
   "name": "python3"
  },
  "language_info": {
   "codemirror_mode": {
    "name": "ipython",
    "version": 3
   },
   "file_extension": ".py",
   "mimetype": "text/x-python",
   "name": "python",
   "nbconvert_exporter": "python",
   "pygments_lexer": "ipython3",
   "version": "3.8.5"
  }
 },
 "nbformat": 4,
 "nbformat_minor": 5
}
