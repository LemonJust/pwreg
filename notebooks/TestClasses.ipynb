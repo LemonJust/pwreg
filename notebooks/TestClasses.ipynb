{
 "cells": [
  {
   "cell_type": "code",
   "execution_count": 41,
   "id": "229b3ec7-aea9-44ed-841b-db6a29517387",
   "metadata": {},
   "outputs": [
    {
     "name": "stdout",
     "output_type": "stream",
     "text": [
      "The autoreload extension is already loaded. To reload it, use:\n",
      "  %reload_ext autoreload\n"
     ]
    }
   ],
   "source": [
    "import sys\n",
    "# win:\n",
    "# project_path = 'D:/Code/repos/gad1b-redistribution/src'\n",
    "# wsl:\n",
    "project_path = '/mnt/d/Code/repos/gad1b-redistribution'\n",
    "sys.path.insert(1, f'{project_path}/src')\n",
    "\n",
    "from pw_registratoin.core import *\n",
    "from pw_registratoin.viewers import *\n",
    "\n",
    "%load_ext autoreload\n",
    "%autoreload 2"
   ]
  },
  {
   "cell_type": "markdown",
   "id": "5009aa8b-c095-4a71-be1d-35c123d6e828",
   "metadata": {},
   "source": [
    "## Test Simple Volume Manipulations\n",
    "Here you will split an image into voxels and will create a tiled output view."
   ]
  },
  {
   "cell_type": "code",
   "execution_count": 15,
   "id": "d757a456-01f7-4b3a-b46c-d0cfe6adfdf1",
   "metadata": {},
   "outputs": [
    {
     "data": {
      "text/plain": [
       "(200, 400, 250)"
      ]
     },
     "execution_count": 15,
     "metadata": {},
     "output_type": "execute_result"
    }
   ],
   "source": [
    "test_image = f'{project_path}/data/test/sequence01.tif'\n",
    "img = Image(test_image, [1,1,1])\n",
    "img.shape"
   ]
  },
  {
   "cell_type": "code",
   "execution_count": 20,
   "id": "8ff6aa9d-1930-4d5c-88f0-9d2b6cb4ed79",
   "metadata": {},
   "outputs": [],
   "source": [
    "voxels = img.split(50,25)"
   ]
  },
  {
   "cell_type": "code",
   "execution_count": 21,
   "id": "09ce287b-5ca9-4545-9079-af5147b473e8",
   "metadata": {},
   "outputs": [],
   "source": [
    "filename = f'{project_path}/data/test/test_output_overlap.tif'\n",
    "VoxelView(voxels,20).write_volume(filename)"
   ]
  },
  {
   "cell_type": "markdown",
   "id": "0a37c8de-04ae-469b-b173-ef50caad38b9",
   "metadata": {},
   "source": [
    "## Test Registration ( needs ants )\n",
    "\n",
    "Here you will register volumes and see how it's going. \n",
    "\n",
    "\n",
    "First pre-register the two files. Get the images : "
   ]
  },
  {
   "cell_type": "code",
   "execution_count": 25,
   "id": "0808a60c-f757-474a-885f-e6cdc6813df6",
   "metadata": {},
   "outputs": [],
   "source": [
    "fixed = Image([0.658, 0.23, 0.23], filename = f'{project_path}/data/raw/img/cropped/1-1Z8J_cropped_from51_left.tif')\n",
    "moving = Image([0.658, 0.23, 0.23], filename = f'{project_path}/data/raw/img/cropped/1-1Z8M_cropped_from51_left.tif')"
   ]
  },
  {
   "cell_type": "markdown",
   "id": "00e68d24-dfdf-4997-adc5-8e814b94c80d",
   "metadata": {},
   "source": [
    "split them into 1 giant voxel .. because I only implemented registration for voxels :D "
   ]
  },
  {
   "cell_type": "code",
   "execution_count": 27,
   "id": "3248e090-7b2e-449f-b7b1-441192b4f607",
   "metadata": {},
   "outputs": [],
   "source": [
    "voxels_f = fixed.split([123,1024,512],0)\n",
    "voxels_m = moving.split([138,1024,512],0)"
   ]
  },
  {
   "cell_type": "markdown",
   "id": "68f738bc-dbbc-4ab8-b078-d815701b010c",
   "metadata": {},
   "source": [
    "arrange voxels in pairs and register the pairs "
   ]
  },
  {
   "cell_type": "code",
   "execution_count": 35,
   "id": "f55f8cab-b7d4-4478-a11c-f24f35e06a69",
   "metadata": {},
   "outputs": [],
   "source": [
    "pair = VoxelPair(voxels_f[0],voxels_m[0])\n",
    "pair.register()"
   ]
  },
  {
   "cell_type": "markdown",
   "id": "81696175-3b14-4a37-9613-d360823a19d4",
   "metadata": {},
   "source": [
    "save the resulting registered image to look at it in ImageJ "
   ]
  },
  {
   "cell_type": "code",
   "execution_count": 37,
   "id": "065a71f9-b05d-4b0b-8801-a3b1772369e9",
   "metadata": {},
   "outputs": [],
   "source": [
    "tif.imsave(f'{project_path}/data/test/test_registration.tif', pair.wrapped, imagej=True)"
   ]
  },
  {
   "cell_type": "markdown",
   "id": "81eaccf9-236f-45db-a1c8-dac9daf9acac",
   "metadata": {},
   "source": [
    "Cool! Now use the pre-registered image and fine-tune the registration using smaller voxels : "
   ]
  },
  {
   "cell_type": "code",
   "execution_count": 43,
   "id": "efad7817-15f7-4250-bbff-b9e04c37cf6b",
   "metadata": {},
   "outputs": [],
   "source": [
    "prereg = Image([0.658, 0.23, 0.23],img = pair.wrapped)"
   ]
  },
  {
   "cell_type": "code",
   "execution_count": 51,
   "id": "76e666b4-ffff-443b-8c9e-94368df238b6",
   "metadata": {},
   "outputs": [],
   "source": [
    "voxels_f = fixed.split([20,102,102],0)\n",
    "voxels_m = prereg.split([20,102,102],0)"
   ]
  },
  {
   "cell_type": "code",
   "execution_count": 52,
   "id": "383061e8-6ddd-4431-98c3-998b58cd2149",
   "metadata": {},
   "outputs": [],
   "source": [
    "pairs = [VoxelPair(voxf,voxm) for voxf,voxm in zip(voxels_f,voxels_m)]"
   ]
  },
  {
   "cell_type": "code",
   "execution_count": 55,
   "id": "c1a14953-af68-4659-87fb-4a8ca95e0355",
   "metadata": {},
   "outputs": [],
   "source": [
    "for pair in pairs: \n",
    "    pair.register()"
   ]
  },
  {
   "cell_type": "markdown",
   "id": "372c5402-ecb4-49df-aa27-50addfc552e8",
   "metadata": {},
   "source": [
    "Output the registered and the split image and enjoy ! "
   ]
  },
  {
   "cell_type": "code",
   "execution_count": 61,
   "id": "beec1da3-735e-4800-a8a2-0636ea8531be",
   "metadata": {},
   "outputs": [],
   "source": [
    "VoxelPairView(pairs, 10).write_volume(f'{project_path}/data/test/test_pw_registration_moving.tif')\n",
    "VoxelView(voxels_f,10).write_volume(f'{project_path}/data/test/test_pw_registration_fixed.tif')"
   ]
  }
 ],
 "metadata": {
  "kernelspec": {
   "display_name": "Python 3 (ipykernel)",
   "language": "python",
   "name": "python3"
  },
  "language_info": {
   "codemirror_mode": {
    "name": "ipython",
    "version": 3
   },
   "file_extension": ".py",
   "mimetype": "text/x-python",
   "name": "python",
   "nbconvert_exporter": "python",
   "pygments_lexer": "ipython3",
   "version": "3.8.12"
  }
 },
 "nbformat": 4,
 "nbformat_minor": 5
}
