{
 "cells": [
  {
   "cell_type": "markdown",
   "id": "712acb2a-58ff-4f5e-94f3-f46d239fbab6",
   "metadata": {
    "pycharm": {
     "name": "#%% md\n"
    }
   },
   "source": [
    "## Block Matching Regisrtation\n",
    "\n",
    "This notebook outputs transformaed pointclouds + alignmnet matrices + warped images. \n",
    "This notebut is run in WSL since it is using ants , which is not available for windows. \n",
    "\n",
    "For vizualisation, go to \" NC_Control_View\" notebook , which is run from windows ... "
   ]
  },
  {
   "cell_type": "code",
   "execution_count": 1,
   "id": "50e967cb-dbb5-4f0e-801e-25047af06ec4",
   "metadata": {
    "pycharm": {
     "name": "#%%\n"
    }
   },
   "outputs": [
    {
     "name": "stdout",
     "output_type": "stream",
     "text": [
      "Exception occured when trying to import ants !\n",
      " BlockPair.register method won't work and will cause an error if you use it. \n"
     ]
    }
   ],
   "source": [
    "import sys\n",
    "# win:\n",
    "project_path = 'D:/Code/repos/pwreg'\n",
    "sys.path.insert(1, f'{project_path}/pwreg')\n",
    "\n",
    "from utils.cnn import CnnPredictor\n",
    "from core.core import *\n",
    "from visualize.viewers import *\n",
    "from utils.napari_utils import *\n",
    "from utils.utils import *\n",
    "\n",
    "\n",
    "%load_ext autoreload\n",
    "%autoreload 2"
   ]
  },
  {
   "cell_type": "code",
   "execution_count": 2,
   "id": "750e6b17-660d-4cfe-ade0-1a290195a46a",
   "metadata": {
    "pycharm": {
     "name": "#%%\n"
    }
   },
   "outputs": [],
   "source": [
    "resolution = [0.658, 0.23, 0.23]\n",
    "\n",
    "cnn_model = CnnPredictor()\n",
    "cnn_model.compile()\n",
    "\n",
    "weight_path = 'D:/Code/repos/psd95_segmentation/models/two_small_cnns/weights/'\n",
    "weight_file = {'best':weight_path + 'best_on_1-1WHA_1-1WH8_stop_on_val_fbeta_10-5-2021.hdf5',\n",
    "               'final':weight_path + 'final_on_1-1WHA_1-1WH8_stop_on_val_fbeta_10-5-2021.hdf5'}\n",
    "cnn_model.load_weights(weight_file['best'])"
   ]
  },
  {
   "cell_type": "code",
   "execution_count": 4,
   "id": "49603c34-6a6e-45d2-b5e8-beeedc0eb952",
   "metadata": {
    "pycharm": {
     "name": "#%%\n"
    }
   },
   "outputs": [
    {
     "data": {
      "text/plain": [
       "(118, 1024, 1024)"
      ]
     },
     "execution_count": 4,
     "metadata": {},
     "output_type": "execute_result"
    }
   ],
   "source": [
    "fixed = Image(resolution, filename = \"D:/Code/repos/pwreg/data/processed/registered/no_change_control/testing_April/1-20FJ_global_040422.tif\")\n",
    "fixed.shape"
   ]
  },
  {
   "cell_type": "code",
   "execution_count": 3,
   "id": "47b548a2-434c-4eda-9cf6-788a554e5b34",
   "metadata": {
    "pycharm": {
     "name": "#%%\n"
    }
   },
   "outputs": [
    {
     "data": {
      "text/plain": [
       "(114, 1024, 1024)"
      ]
     },
     "execution_count": 3,
     "metadata": {},
     "output_type": "execute_result"
    }
   ],
   "source": [
    "moving = Image(resolution, filename = \"D:/Code/repos/pwreg/data/processed/registered/no_change_control/testing_April/1-20FM_global_040422.tif\")\n",
    "moving.shape"
   ]
  },
  {
   "cell_type": "code",
   "execution_count": 55,
   "id": "07964fe1-97bd-446d-9049-0363d7f8f4ee",
   "metadata": {
    "pycharm": {
     "name": "#%%\n"
    }
   },
   "outputs": [],
   "source": [
    "# z,y,x = np.meshgrid(np.arange(20,100),np.arange(100,400),np.arange(100,300))\n",
    "# pixels = np.c_[z.flatten(),y.flatten(),x.flatten()]\n",
    "# ptc = Points(pixels, resolution = resolution, units = 'pix')\n",
    "# to_json(ptc, \"D:/Code/repos/pwreg/data/processed/registered/no_change_control/testing_April/testing_cnn/1-20FM_crop_pixels.json\")"
   ]
  },
  {
   "cell_type": "code",
   "execution_count": 56,
   "id": "ba1e99ee-9932-4926-9a21-8bc8c3c53c53",
   "metadata": {
    "pycharm": {
     "name": "#%%\n"
    }
   },
   "outputs": [],
   "source": [
    "# imgptc = ImagePointsView({'test_image' : test_image},{'ptc':ptc}, [0.658, 0.23, 0.23])\n",
    "# imgptc.view_in_napari(['magenta'],['yellow'])"
   ]
  },
  {
   "cell_type": "code",
   "execution_count": 4,
   "id": "792c96b7-dc1b-4f9c-a38d-f66785dcae7e",
   "metadata": {
    "pycharm": {
     "name": "#%%\n"
    }
   },
   "outputs": [
    {
     "name": "stderr",
     "output_type": "stream",
     "text": [
      "100%|██████████████████████████████████████████████████████████████████████████████████| 16/16 [21:28<00:00, 80.55s/it]\n"
     ]
    }
   ],
   "source": [
    "rois = [{'zmin':10, 'zmax':104, 'ymin':10, 'ymax':254, 'xmin':10, 'xmax':254},\n",
    "        {'zmin':10, 'zmax':104, 'ymin':10, 'ymax':254, 'xmin':254, 'xmax':508},\n",
    "        {'zmin':10, 'zmax':104, 'ymin':10, 'ymax':254, 'xmin':508, 'xmax':762},\n",
    "        {'zmin':10, 'zmax':104, 'ymin':10, 'ymax':254, 'xmin':762, 'xmax':1014},\n",
    "        \n",
    "        {'zmin':10, 'zmax':104, 'ymin':254, 'ymax':508, 'xmin':10, 'xmax':254},\n",
    "        {'zmin':10, 'zmax':104, 'ymin':254, 'ymax':508, 'xmin':254, 'xmax':508},\n",
    "        {'zmin':10, 'zmax':104, 'ymin':254, 'ymax':508, 'xmin':508, 'xmax':762},\n",
    "        {'zmin':10, 'zmax':104, 'ymin':254, 'ymax':508, 'xmin':762, 'xmax':1014},\n",
    "        \n",
    "        {'zmin':10, 'zmax':104, 'ymin':508, 'ymax':762, 'xmin':10, 'xmax':254},\n",
    "        {'zmin':10, 'zmax':104, 'ymin':508, 'ymax':762, 'xmin':254, 'xmax':508},\n",
    "        {'zmin':10, 'zmax':104, 'ymin':508, 'ymax':762, 'xmin':508, 'xmax':762},\n",
    "        {'zmin':10, 'zmax':104, 'ymin':508, 'ymax':762, 'xmin':762, 'xmax':1014},\n",
    "        \n",
    "        {'zmin':10, 'zmax':104, 'ymin':762, 'ymax':1014, 'xmin':10, 'xmax':254},\n",
    "        {'zmin':10, 'zmax':104, 'ymin':762, 'ymax':1014, 'xmin':254, 'xmax':508},\n",
    "        {'zmin':10, 'zmax':104, 'ymin':762, 'ymax':1014, 'xmin':508, 'xmax':762},\n",
    "        {'zmin':10, 'zmax':104, 'ymin':762, 'ymax':1014, 'xmin':762, 'xmax':1014} ]\n",
    "\n",
    "prob_map = cnn_model.get_probability_map(rois, moving)\n",
    "prob_image = Image(resolution, img=prob_map.astype(np.int16))\n",
    "prob_image.imwrite(\"D:/Code/repos/pwreg/data/processed/registered/no_change_control/testing_April/1-20FM_global_040422_prob_map.tif\")"
   ]
  },
  {
   "cell_type": "code",
   "execution_count": null,
   "id": "24fd591b-5110-475e-8a89-7918f23c5797",
   "metadata": {
    "pycharm": {
     "name": "#%%\n"
    }
   },
   "outputs": [],
   "source": []
  },
  {
   "cell_type": "code",
   "execution_count": null,
   "id": "6621e6a8-c0a4-49ec-92a9-067e63508830",
   "metadata": {
    "pycharm": {
     "name": "#%%\n"
    }
   },
   "outputs": [],
   "source": []
  },
  {
   "cell_type": "code",
   "execution_count": 2,
   "id": "1709690b-3356-4d90-ae1c-0afaf2636660",
   "metadata": {
    "pycharm": {
     "name": "#%%\n"
    }
   },
   "outputs": [
    {
     "name": "stderr",
     "output_type": "stream",
     "text": [
      "<frozen importlib._bootstrap>:219: RuntimeWarning: scipy._lib.messagestream.MessageStream size changed, may indicate binary incompatibility. Expected 56 from C header, got 64 from PyObject\n",
      "/home/ply/anaconda3/envs/ants/lib/python3.8/site-packages/statsmodels/compat/pandas.py:65: FutureWarning: pandas.Int64Index is deprecated and will be removed from pandas in a future version. Use pandas.Index with the appropriate dtype instead.\n",
      "  from pandas import Int64Index as NumericIndex\n"
     ]
    }
   ],
   "source": [
    "import sys\n",
    "# win:\n",
    "# project_path = 'D:/Code/repos/gad1b-redistribution/src'\n",
    "# wsl:\n",
    "project_path = '/mnt/d/Code/repos/pwreg'\n",
    "sys.path.insert(1, f'{project_path}/pwreg')\n",
    "\n",
    "from core.core import *\n",
    "from utils.utils import *\n",
    "from utils.synapse import *\n",
    "from visualize.viewers import *\n",
    "\n",
    "\n",
    "import pickle\n",
    "import pandas as pd\n",
    "\n",
    "import inspect\n",
    "# print(inspect.getsource(Something))\n",
    "\n",
    "%load_ext autoreload\n",
    "%autoreload 2"
   ]
  },
  {
   "cell_type": "code",
   "execution_count": 5,
   "id": "ebcd615d-dcb6-430d-a136-96168b15f7e1",
   "metadata": {
    "pycharm": {
     "name": "#%%\n"
    }
   },
   "outputs": [
    {
     "data": {
      "text/plain": [
       "{'fixed': (118, 1024, 1024), 'moving': (114, 1024, 1024)}"
      ]
     },
     "execution_count": 5,
     "metadata": {},
     "output_type": "execute_result"
    }
   ],
   "source": [
    "resolution = [0.658, 0.23, 0.23]\n",
    "fixed = Image(resolution, filename = \"/mnt/d/Code/repos/pwreg/data/processed/registered/no_change_control/testing_April/1-20FJ_global_040422.tif\")\n",
    "moving = Image(resolution, filename = \"/mnt/d/Code/repos/pwreg/data/processed/registered/no_change_control/testing_April/1-20FM_global_040422.tif\")\n",
    "imp = ImagePair(fixed, moving)\n",
    "imp.shape"
   ]
  },
  {
   "cell_type": "code",
   "execution_count": 6,
   "id": "28c0d9cc-eb68-4f0a-bbe5-68b556f22763",
   "metadata": {
    "pycharm": {
     "name": "#%%\n"
    }
   },
   "outputs": [
    {
     "name": "stdout",
     "output_type": "stream",
     "text": [
      "fixed : ANTsImage (RAI)\n",
      "\t Pixel Type : float (float32)\n",
      "\t Components : 1\n",
      "\t Dimensions : (118, 1024, 1024)\n",
      "\t Spacing    : (0.658, 0.23, 0.23)\n",
      "\t Origin     : (0.0, 0.0, 0.0)\n",
      "\t Direction  : [1.0 0.0 0.0 0.0 1.0 0.0 0.0 0.0 1.0]\n",
      "\n",
      "moving : ANTsImage (RAI)\n",
      "\t Pixel Type : float (float32)\n",
      "\t Components : 1\n",
      "\t Dimensions : (114, 1024, 1024)\n",
      "\t Spacing    : (0.658, 0.23, 0.23)\n",
      "\t Origin     : (0.0, 0.0, 0.0)\n",
      "\t Direction  : [1.0 0.0 0.0 0.0 1.0 0.0 0.0 0.0 1.0]\n",
      "\n"
     ]
    }
   ],
   "source": [
    "imp.register(fixed_size=[118,1024,1024], moving_size=[114,1024,1024], fixed_overlap=0, moving_overlap=0, verbose = True)\n",
    "imp.save(f'{project_path}/data/processed/registered/no_change_control/testing_April/test_prob_maps', padding = 0, info = 'Global alignment, after cutting ')"
   ]
  },
  {
   "cell_type": "code",
   "execution_count": 10,
   "id": "0fca44b8-cb91-4631-8d41-9909d9af52d8",
   "metadata": {
    "pycharm": {
     "name": "#%%\n"
    }
   },
   "outputs": [],
   "source": [
    "prob_img = Image(resolution, filename = \"/mnt/d/Code/repos/pwreg/data/processed/registered/no_change_control/testing_April/1-20FM_global_040422_prob_map.tif\")\n",
    "prob_warped = imp.alignment[0].warp(img = prob_img)"
   ]
  },
  {
   "cell_type": "code",
   "execution_count": 11,
   "id": "3d32b5c6-bfc6-4b0c-acba-4f22a9835796",
   "metadata": {
    "pycharm": {
     "name": "#%%\n"
    }
   },
   "outputs": [],
   "source": [
    "prob_warped.imwrite(\"/mnt/d/Code/repos/pwreg/data/processed/registered/no_change_control/testing_April/test_prob_maps/prob_map_warped.tif\")"
   ]
  },
  {
   "cell_type": "code",
   "execution_count": 9,
   "id": "feb55e84-60a6-4720-a72b-8235d487a7e4",
   "metadata": {
    "pycharm": {
     "name": "#%%\n"
    }
   },
   "outputs": [
    {
     "data": {
      "text/plain": [
       "[<core.core.BlockPair at 0x7fa47d127100>]"
      ]
     },
     "execution_count": 9,
     "metadata": {},
     "output_type": "execute_result"
    }
   ],
   "source": []
  },
  {
   "cell_type": "code",
   "execution_count": null,
   "id": "ef8a1544-6a80-46e9-85ed-48d46cb20ee9",
   "metadata": {
    "pycharm": {
     "name": "#%%\n"
    }
   },
   "outputs": [],
   "source": []
  },
  {
   "cell_type": "code",
   "execution_count": null,
   "id": "942b066d-d592-4a43-804c-fdc52f81374c",
   "metadata": {
    "pycharm": {
     "name": "#%%\n"
    }
   },
   "outputs": [],
   "source": []
  },
  {
   "cell_type": "code",
   "execution_count": null,
   "id": "5679075b-13ca-4db3-8388-13a5c68e1e04",
   "metadata": {
    "pycharm": {
     "name": "#%%\n"
    }
   },
   "outputs": [],
   "source": []
  },
  {
   "cell_type": "code",
   "execution_count": null,
   "id": "ded1dda3-ffcf-4633-a31a-a0bc18183be3",
   "metadata": {
    "pycharm": {
     "name": "#%%\n"
    }
   },
   "outputs": [],
   "source": []
  },
  {
   "cell_type": "code",
   "execution_count": null,
   "id": "ed608d0f-8d8f-4014-8ff5-b1911ec67b4e",
   "metadata": {
    "pycharm": {
     "name": "#%%\n"
    }
   },
   "outputs": [],
   "source": []
  },
  {
   "cell_type": "markdown",
   "id": "eeade928-1e65-4082-b6da-9820a0f73ee2",
   "metadata": {
    "pycharm": {
     "name": "#%% md\n"
    }
   },
   "source": [
    "Let's try with the overlap:"
   ]
  },
  {
   "cell_type": "markdown",
   "id": "159ae5d2-2731-4a1b-ac99-775aba6751af",
   "metadata": {
    "pycharm": {
     "name": "#%% md\n"
    }
   },
   "source": [
    "### Global points registration"
   ]
  },
  {
   "cell_type": "code",
   "execution_count": 12,
   "id": "a4726213-38d1-4645-bf42-732302ce6e7e",
   "metadata": {
    "pycharm": {
     "name": "#%%\n"
    }
   },
   "outputs": [
    {
     "name": "stdout",
     "output_type": "stream",
     "text": [
      "Number of points before and after : 10733, 427510\n",
      "Number of points after cropping : 10733, 405267\n"
     ]
    }
   ],
   "source": [
    "mask_tp2 = {'zmin': 51,'zmax': 164 + 1}\n",
    "mask_tp1 = {'zmin': 51,'zmax': 168 + 1} \n",
    "\n",
    "segmentation_folder = '/mnt/d/Code/repos/psd95_segmentation/models/two_small_cnns/predictions/Gad1b_2021/Sequential_2tp_control/'\n",
    "\n",
    "ptc1 = Points.from_predictions(f'{segmentation_folder}ML_segmentation_1-20GA_12-22-2021_2CNN_gui.csv', prob_thr = 0.6, units='pix', resolution=[0.658, 0.23, 0.23])\n",
    "ptc2 = Points.from_predictions(f'{segmentation_folder}ML_segmentation_1-20G6_12-22-2021_2CNN_gui.csv', prob_thr = 0.0, units='pix', resolution=[0.658, 0.23, 0.23])\n",
    "\n",
    "numB = ptc1.num_points\n",
    "numA = ptc2.num_points\n",
    "print(f\"Number of points before and after : {numB}, {numA}\")\n",
    "\n",
    "ptc1 = ptc1.crop(mask_tp1, units='pix')\n",
    "ptc1 = ptc1.recenter([mask_tp1['zmin'],0,0], units = 'pix')\n",
    "\n",
    "ptc2 = ptc2.crop(mask_tp2, units='pix')\n",
    "ptc2 = ptc2.recenter([mask_tp2['zmin'],0,0], units = 'pix')\n",
    "\n",
    "print(f\"Number of points after cropping : {ptc1.num_points}, {ptc2.num_points}\")"
   ]
  },
  {
   "cell_type": "code",
   "execution_count": 13,
   "id": "8a08a681-2a23-4c0d-a910-425faf5bf51f",
   "metadata": {
    "pycharm": {
     "name": "#%%\n"
    }
   },
   "outputs": [],
   "source": [
    "global_transform = from_json(AffineTransform, f'{project_path}/data/processed/registered/no_change_control/testing_April/test_prob_maps/transform_list.json')\n",
    "ptc2 = ptc2.transform(global_transform[0])"
   ]
  },
  {
   "cell_type": "code",
   "execution_count": 14,
   "id": "4e4e6624-e090-49f5-adc7-b343f76b2c51",
   "metadata": {
    "pycharm": {
     "name": "#%%\n"
    }
   },
   "outputs": [
    {
     "name": "stderr",
     "output_type": "stream",
     "text": [
      "100%|█████████████████████████████████████████████████████████████████████████████████████| 1/1 [00:13<00:00, 13.64s/it]\n"
     ]
    }
   ],
   "source": [
    "sp = PwSynapsePair([ptc1], [ptc2], 1.5, numB, numA)"
   ]
  },
  {
   "cell_type": "code",
   "execution_count": 16,
   "id": "6b4cafaa-4394-405c-bf5e-2917a5695bd1",
   "metadata": {
    "pycharm": {
     "name": "#%%\n"
    }
   },
   "outputs": [
    {
     "name": "stdout",
     "output_type": "stream",
     "text": [
      "N in blocks 10733\n",
      "N lost 751\n",
      "Lost fraction: 0.06997111711543837\n"
     ]
    }
   ],
   "source": [
    "def loss_summary(sp):\n",
    "    max_pair = np.max(sp.match['per_idx1'], axis = 1)\n",
    "    n_in_blocks = np.sum(max_pair>-2)\n",
    "    n_lost = np.sum(max_pair==-1)\n",
    "    l_frac = n_lost/n_in_blocks\n",
    "    print(f\"N in blocks {n_in_blocks}\\nN lost {n_lost}\\nLost fraction: {l_frac}\")\n",
    "loss_summary(sp)"
   ]
  },
  {
   "cell_type": "code",
   "execution_count": 17,
   "id": "53b1f7d5-3d7b-466d-94f6-7f5c4ad3fec1",
   "metadata": {
    "pycharm": {
     "name": "#%%\n"
    }
   },
   "outputs": [],
   "source": [
    "to_json(sp.lost[0], f'{project_path}/data/processed/registered/no_change_control/testing_April/test_prob_maps/ptc_lost.json')\n",
    "to_json(sp.gained[0], f'{project_path}/data/processed/registered/no_change_control/testing_April/test_prob_maps/ptc_gained.json')\n",
    "to_json(sp.uncB[0], f'{project_path}/data/processed/registered/no_change_control/testing_April/test_prob_maps/ptc_uncB.json')\n",
    "to_json(sp.uncA[0], f'{project_path}/data/processed/registered/no_change_control/testing_April/test_prob_maps/ptc_uncA.json')"
   ]
  },
  {
   "cell_type": "markdown",
   "id": "c45e4af5-4006-438b-969f-f130ca8bd769",
   "metadata": {
    "pycharm": {
     "name": "#%% md\n"
    }
   },
   "source": [
    "## View"
   ]
  },
  {
   "cell_type": "code",
   "execution_count": 2,
   "id": "6055f3f2-e65c-42d6-be7e-ade348d1cd7a",
   "metadata": {
    "pycharm": {
     "name": "#%%\n"
    }
   },
   "outputs": [],
   "source": [
    "resolution = [0.658, 0.23, 0.23]\n",
    "fixed = Image(resolution, filename = \"D:/Code/repos/pwreg/data/processed/registered/no_change_control/testing_April/test_prob_maps/fixed.tif\")\n",
    "warped = Image(resolution, filename = \"D:/Code/repos/pwreg/data/processed/registered/no_change_control/testing_April/test_prob_maps/warped.tif\")\n",
    "prob_map_fixed = Image(resolution, filename = \"D:/Code/repos/pwreg/data/processed/registered/no_change_control/testing_April/test_prob_maps/1-20FJ_global_040422_prob_map.tif\")\n",
    "prob_map_warped = Image(resolution, filename = \"D:/Code/repos/pwreg/data/processed/registered/no_change_control/testing_April/test_prob_maps/prob_map_warped.tif\")\n",
    "\n",
    "lost = from_json(Points, f'{project_path}/data/processed/registered/no_change_control/testing_April/test_prob_maps/ptc_lost.json')\n",
    "gained = from_json(Points, f'{project_path}/data/processed/registered/no_change_control/testing_April/test_prob_maps/ptc_gained.json')\n",
    "uncB = from_json(Points, f'{project_path}/data/processed/registered/no_change_control/testing_April/test_prob_maps/ptc_uncB.json')\n",
    "uncA = from_json(Points, f'{project_path}/data/processed/registered/no_change_control/testing_April/test_prob_maps/ptc_uncA.json')"
   ]
  },
  {
   "cell_type": "code",
   "execution_count": 4,
   "id": "b7cba549-ff89-493b-8c2b-40cf9a1459c4",
   "metadata": {
    "pycharm": {
     "name": "#%%\n"
    }
   },
   "outputs": [],
   "source": [
    "imgptc = ImagePointsView({'fixed' : fixed, 'warped' : warped,'prob_map_fixed' : prob_map_fixed, 'prob_map_warped' : prob_map_warped},\n",
    "                         {'lost':lost, 'gained':gained, 'uncB':uncB, 'uncA':uncA}, [0.658, 0.23, 0.23])\n",
    "imgptc.view_in_napari(['red','green', 'cyan','yellow'],['cyan', 'yellow', 'white', 'magenta'])"
   ]
  },
  {
   "cell_type": "code",
   "execution_count": null,
   "id": "9fa0c544-ea82-4c2d-a733-3bbede8121ae",
   "metadata": {
    "pycharm": {
     "name": "#%%\n"
    }
   },
   "outputs": [],
   "source": []
  }
 ],
 "metadata": {
  "kernelspec": {
   "display_name": "Python 3 (ipykernel)",
   "language": "python",
   "name": "python3"
  },
  "language_info": {
   "codemirror_mode": {
    "name": "ipython",
    "version": 3
   },
   "file_extension": ".py",
   "mimetype": "text/x-python",
   "name": "python",
   "nbconvert_exporter": "python",
   "pygments_lexer": "ipython3",
   "version": "3.9.12"
  }
 },
 "nbformat": 4,
 "nbformat_minor": 5
}