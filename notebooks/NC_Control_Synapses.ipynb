{
 "cells": [
  {
   "cell_type": "code",
   "execution_count": 1,
   "id": "6a2aa857-09d4-42e6-b14f-c95bf61edfc8",
   "metadata": {},
   "outputs": [
    {
     "name": "stderr",
     "output_type": "stream",
     "text": [
      "<frozen importlib._bootstrap>:219: RuntimeWarning: scipy._lib.messagestream.MessageStream size changed, may indicate binary incompatibility. Expected 56 from C header, got 64 from PyObject\n",
      "/home/ply/anaconda3/envs/ants/lib/python3.8/site-packages/statsmodels/compat/pandas.py:65: FutureWarning: pandas.Int64Index is deprecated and will be removed from pandas in a future version. Use pandas.Index with the appropriate dtype instead.\n",
      "  from pandas import Int64Index as NumericIndex\n"
     ]
    },
    {
     "data": {
      "text/plain": [
       "'/mnt/d/Code/repos/pwreg'"
      ]
     },
     "execution_count": 1,
     "metadata": {},
     "output_type": "execute_result"
    }
   ],
   "source": [
    "import sys\n",
    "# win:\n",
    "# project_path = 'D:/Code/repos/gad1b-redistribution/src'\n",
    "# wsl:\n",
    "project_path = '/mnt/d/Code/repos/pwreg'\n",
    "sys.path.insert(1, f'{project_path}/pwreg')\n",
    "\n",
    "from core.core import *\n",
    "from visualize.viewers import *\n",
    "\n",
    "import pickle\n",
    "import pandas as pd\n",
    "\n",
    "import inspect\n",
    "# print(inspect.getsource(Something))\n",
    "\n",
    "%load_ext autoreload\n",
    "%autoreload 2\n",
    "\n",
    "project_path"
   ]
  },
  {
   "cell_type": "code",
   "execution_count": 3,
   "id": "3ecd10a0-158d-4396-9229-b8e24cf5e7d2",
   "metadata": {},
   "outputs": [
    {
     "name": "stdout",
     "output_type": "stream",
     "text": [
      "shape\n",
      "Fixed (118, 1024, 1024),\n",
      "Moving (114, 1024, 1024)\n",
      "masks :\n",
      "Fixed {'zmin': 51, 'zmax': 169, 'xmin': None, 'xmax': None, 'ymin': None, 'ymax': None},\n",
      "Moving {'zmin': 51, 'zmax': 165, 'xmin': None, 'xmax': None, 'ymin': None, 'ymax': None}\n"
     ]
    }
   ],
   "source": [
    "mask_tp1 = {'zmin': 51,'zmax': 168 + 1}\n",
    "mask_tp2 = {'zmin': 51,'zmax': 164 + 1}\n",
    "\n",
    "# make it a bit more constictive \n",
    "# mask_tp1 = {'zmin': 52,'zmax': 168}\n",
    "# mask_tp2 = {'zmin': 52,'zmax': 164}\n",
    "\n",
    "fixed = Image([0.658, 0.23, 0.23], filename = f'{project_path}/data/raw/img/no_change_control/Image_1-20FJ.ome.tif', mask = mask_tp1) # tp 1\n",
    "moving = Image([0.658, 0.23, 0.23], filename = f'{project_path}/data/raw/img/no_change_control/Image_1-20FM.ome.tif', mask = mask_tp2) # tp 2\n",
    "\n",
    "print(f'shape\\nFixed {fixed.shape},\\nMoving {moving.shape}')\n",
    "print(f'masks :\\nFixed {fixed.mask},\\nMoving {moving.mask}')"
   ]
  },
  {
   "cell_type": "code",
   "execution_count": 4,
   "id": "cdc0588d-b806-4935-b250-4de6349377fd",
   "metadata": {},
   "outputs": [
    {
     "data": {
      "text/plain": [
       "1 blockpairs"
      ]
     },
     "execution_count": 4,
     "metadata": {},
     "output_type": "execute_result"
    }
   ],
   "source": [
    "fixed_blc_size = list(fixed.img.shape)\n",
    "moving_blc_size = list(moving.img.shape)\n",
    "fixed_overlap = 0\n",
    "moving_overlap = 0\n",
    "\n",
    "bps = BlockPairs.from_image_pair(fixed, moving, fixed_blc_size, fixed_overlap, moving_blc_size, moving_overlap)\n",
    "bps"
   ]
  },
  {
   "cell_type": "code",
   "execution_count": 6,
   "id": "61c5a528-bcfd-49b6-917b-b4dc4db9ca65",
   "metadata": {},
   "outputs": [
    {
     "name": "stderr",
     "output_type": "stream",
     "text": [
      "  0%|                                                                                             | 0/1 [00:00<?, ?it/s]"
     ]
    },
    {
     "name": "stdout",
     "output_type": "stream",
     "text": [
      "fixed : ANTsImage (RAI)\n",
      "\t Pixel Type : float (float32)\n",
      "\t Components : 1\n",
      "\t Dimensions : (118, 1024, 1024)\n",
      "\t Spacing    : (0.658, 0.23, 0.23)\n",
      "\t Origin     : (0.0, 0.0, 0.0)\n",
      "\t Direction  : [1. 0. 0. 0. 1. 0. 0. 0. 1.]\n",
      "\n",
      "moving : ANTsImage (RAI)\n",
      "\t Pixel Type : float (float32)\n",
      "\t Components : 1\n",
      "\t Dimensions : (114, 1024, 1024)\n",
      "\t Spacing    : (0.658, 0.23, 0.23)\n",
      "\t Origin     : (0.0, 0.0, 0.0)\n",
      "\t Direction  : [1. 0. 0. 0. 1. 0. 0. 0. 1.]\n",
      "\n"
     ]
    },
    {
     "name": "stderr",
     "output_type": "stream",
     "text": [
      "100%|████████████████████████████████████████████████████████████████████████████████████| 1/1 [04:26<00:00, 266.08s/it]\n"
     ]
    }
   ],
   "source": [
    "bps.register(verbose = True)"
   ]
  },
  {
   "cell_type": "code",
   "execution_count": 9,
   "id": "543c7b66-484e-405d-8939-bdaf92d6d9ec",
   "metadata": {},
   "outputs": [],
   "source": [
    "tag = 'v03312022_old_code'\n",
    "\n",
    "Image([0.658, 0.23, 0.23], img = bps.pairs[0].warp()).imwrite(f'{project_path}/data/processed/registered/no_change_control/testing_synapses/1-20FM_to_1-20FJ_affine_{tag}.tif')\n",
    "fixed.imwrite(f'{project_path}/data/processed/registered/no_change_control/testing_synapses/1-20FJ_cropped_{tag}.tif')\n",
    "\n",
    "# bps.pairs[0].alignment['affine'].to_json(f'{project_path}/data/processed/registered/no_change_control/testing_synapses/1-20FJ_to_1-20FM_affine_global_alignment_{tag}.json')\n",
    "# bps.to_json(f'{project_path}/data/processed/registered/no_change_control/testing_synapses/1-20FJ_to_1-20FM_affine_global_bps_{tag}.json')"
   ]
  },
  {
   "cell_type": "markdown",
   "id": "0bd665d9-c6b5-4673-85b3-abead174f364",
   "metadata": {},
   "source": [
    "# PW Reg"
   ]
  },
  {
   "cell_type": "code",
   "execution_count": 10,
   "id": "982024d4-d6f9-45b4-b32c-337504e102da",
   "metadata": {},
   "outputs": [],
   "source": [
    "prereg = bps.pairs[0].warp(interpolator='linear')"
   ]
  },
  {
   "cell_type": "code",
   "execution_count": 11,
   "id": "1be54900-dbef-46b8-94fe-87b781da7cc1",
   "metadata": {},
   "outputs": [
    {
     "name": "stderr",
     "output_type": "stream",
     "text": [
      "/mnt/d/Code/repos/pwreg/pwreg/core/core.py:108: UserWarning:\n",
      "\n",
      "Specified voxel size + overlap don't cover the whole image.Image size is [ 118 1024 1024], block size [ 18 102 102], overlap [2 5 5] results in [ 7.25       10.50515464 10.50515464] blocks.\n",
      "Leaving some image out. \n",
      "\n"
     ]
    },
    {
     "data": {
      "text/plain": [
       "700 blockpairs"
      ]
     },
     "execution_count": 11,
     "metadata": {},
     "output_type": "execute_result"
    }
   ],
   "source": [
    "fixed_blc_size = [18,102,102]\n",
    "moving_blc_size = [18,102,102]\n",
    "fixed_overlap = [2,5,5]\n",
    "moving_overlap = [2,5,5]\n",
    "\n",
    "bps = BlockPairs.from_image_pair(fixed, Image([0.658, 0.23, 0.23], img =prereg), fixed_blc_size, fixed_overlap, moving_blc_size, moving_overlap)\n",
    "bps"
   ]
  },
  {
   "cell_type": "code",
   "execution_count": 12,
   "id": "097477b7-9933-4f7c-a468-4035d7186ec3",
   "metadata": {},
   "outputs": [
    {
     "name": "stderr",
     "output_type": "stream",
     "text": [
      "100%|█████████████████████████████████████████████████████████████████████████████████| 700/700 [06:07<00:00,  1.90it/s]\n"
     ]
    }
   ],
   "source": [
    "bps.register(verbose = False)"
   ]
  },
  {
   "cell_type": "code",
   "execution_count": 13,
   "id": "28a297c5-706c-4582-833f-7421e97035ff",
   "metadata": {},
   "outputs": [
    {
     "name": "stderr",
     "output_type": "stream",
     "text": [
      "/mnt/d/Code/repos/pwreg/pwreg/core/core.py:108: UserWarning:\n",
      "\n",
      "Specified voxel size + overlap don't cover the whole image.Image size is [ 118 1024 1024], block size [ 18 102 102], overlap [2 5 5] results in [ 7.25       10.50515464 10.50515464] blocks.\n",
      "Leaving some image out. \n",
      "\n"
     ]
    }
   ],
   "source": [
    "tag = '18x102x102_2x5x5_old_code_v03312022'\n",
    "\n",
    "bps.to_json(f'{project_path}/data/processed/registered/no_change_control/testing_synapses/1-20FJ_to_1-20FM_pw_block_pairs_{tag}.json')\n",
    "\n",
    "padding = 10\n",
    "fixed_blc = fixed.split(fixed_blc_size,fixed_overlap)\n",
    "BlockView(fixed_blc, padding).write_volume(f'{project_path}/data/processed/registered/no_change_control/testing_synapses/blocks_1-20FJ_{tag}.tif')\n",
    "BlockPairView(bps.pairs, padding).write_volume(f'{project_path}/data/processed/registered/no_change_control/testing_synapses/blocks_1-20FM_to_1-20FM_pwreg_{tag}.tif')"
   ]
  },
  {
   "cell_type": "markdown",
   "id": "7b8ca498-bb3e-4363-a1b7-fd792a310ff7",
   "metadata": {},
   "source": [
    "# Apply all transforms to points"
   ]
  },
  {
   "cell_type": "code",
   "execution_count": 14,
   "id": "5a68da7b-ecd5-4940-be7b-12ce40709c22",
   "metadata": {},
   "outputs": [
    {
     "ename": "FileNotFoundError",
     "evalue": "[Errno 2] No such file or directory: '/mnt/d/Code/repos/pwreg/data/processed/registered/no_change_control/testing_synapses/1-20FM_to_1-20FJ_affine_18x102x102_2x5x5_old_code_v03312022.json'",
     "output_type": "error",
     "traceback": [
      "\u001b[0;31m---------------------------------------------------------------------------\u001b[0m",
      "\u001b[0;31mFileNotFoundError\u001b[0m                         Traceback (most recent call last)",
      "\u001b[0;32m/tmp/ipykernel_153/3751600932.py\u001b[0m in \u001b[0;36m<module>\u001b[0;34m\u001b[0m\n\u001b[1;32m     16\u001b[0m \u001b[0mptc2\u001b[0m\u001b[0;34m.\u001b[0m\u001b[0mto_json\u001b[0m\u001b[0;34m(\u001b[0m\u001b[0;34mf'{project_path}/data/processed/registered/no_change_control/ptc2_global_{tag}.json'\u001b[0m\u001b[0;34m)\u001b[0m\u001b[0;34m\u001b[0m\u001b[0;34m\u001b[0m\u001b[0m\n\u001b[1;32m     17\u001b[0m \u001b[0;34m\u001b[0m\u001b[0m\n\u001b[0;32m---> 18\u001b[0;31m \u001b[0maf\u001b[0m \u001b[0;34m=\u001b[0m \u001b[0mAffineTransform\u001b[0m\u001b[0;34m.\u001b[0m\u001b[0mfrom_json\u001b[0m\u001b[0;34m(\u001b[0m\u001b[0;34mf'{project_path}/data/processed/registered/no_change_control/testing_synapses/1-20FM_to_1-20FJ_affine_{tag}.json'\u001b[0m\u001b[0;34m)\u001b[0m\u001b[0;34m\u001b[0m\u001b[0;34m\u001b[0m\u001b[0m\n\u001b[0m\u001b[1;32m     19\u001b[0m \u001b[0mptc2_af\u001b[0m \u001b[0;34m=\u001b[0m \u001b[0mptc2\u001b[0m\u001b[0;34m.\u001b[0m\u001b[0mtransform\u001b[0m\u001b[0;34m(\u001b[0m\u001b[0maf\u001b[0m\u001b[0;34m,\u001b[0m \u001b[0munits\u001b[0m\u001b[0;34m=\u001b[0m\u001b[0;34m'phs'\u001b[0m\u001b[0;34m)\u001b[0m\u001b[0;34m\u001b[0m\u001b[0;34m\u001b[0m\u001b[0m\n\u001b[1;32m     20\u001b[0m \u001b[0mptc2_af\u001b[0m\u001b[0;34m.\u001b[0m\u001b[0mto_json\u001b[0m\u001b[0;34m(\u001b[0m\u001b[0;34mf'{project_path}/data/processed/registered/no_change_control/testing_synapses/ptc2_1-20FM_to_1-20FJ_affine_{tag}.json'\u001b[0m\u001b[0;34m)\u001b[0m\u001b[0;34m\u001b[0m\u001b[0;34m\u001b[0m\u001b[0m\n",
      "\u001b[0;32m/mnt/d/Code/repos/pwreg/pwreg/core/core.py\u001b[0m in \u001b[0;36mfrom_json\u001b[0;34m(cls, filename)\u001b[0m\n\u001b[1;32m    366\u001b[0m         \"\"\"\n\u001b[1;32m    367\u001b[0m         \u001b[0;31m# create an object for the class to return\u001b[0m\u001b[0;34m\u001b[0m\u001b[0;34m\u001b[0m\u001b[0;34m\u001b[0m\u001b[0m\n\u001b[0;32m--> 368\u001b[0;31m         \u001b[0;32mwith\u001b[0m \u001b[0mopen\u001b[0m\u001b[0;34m(\u001b[0m\u001b[0mfilename\u001b[0m\u001b[0;34m)\u001b[0m \u001b[0;32mas\u001b[0m \u001b[0mjson_file\u001b[0m\u001b[0;34m:\u001b[0m\u001b[0;34m\u001b[0m\u001b[0;34m\u001b[0m\u001b[0m\n\u001b[0m\u001b[1;32m    369\u001b[0m             \u001b[0mj\u001b[0m \u001b[0;34m=\u001b[0m \u001b[0mjson\u001b[0m\u001b[0;34m.\u001b[0m\u001b[0mload\u001b[0m\u001b[0;34m(\u001b[0m\u001b[0mjson_file\u001b[0m\u001b[0;34m)\u001b[0m\u001b[0;34m\u001b[0m\u001b[0;34m\u001b[0m\u001b[0m\n\u001b[1;32m    370\u001b[0m \u001b[0;34m\u001b[0m\u001b[0m\n",
      "\u001b[0;31mFileNotFoundError\u001b[0m: [Errno 2] No such file or directory: '/mnt/d/Code/repos/pwreg/data/processed/registered/no_change_control/testing_synapses/1-20FM_to_1-20FJ_affine_18x102x102_2x5x5_old_code_v03312022.json'"
     ]
    }
   ],
   "source": [
    "segmentation_folder = '/mnt/d/Code/repos/psd95_segmentation/models/two_small_cnns/predictions/Gad1b_2021/Sequential_2tp_control/'\n",
    "ml_seg1 = pd.read_csv(f'{segmentation_folder}ML_segmentation_1-20GA_12-22-2021_2CNN_gui.csv') # tp1\n",
    "ml_seg2 = pd.read_csv(f'{segmentation_folder}ML_segmentation_1-20G6_12-22-2021_2CNN_gui.csv') # tp2\n",
    "\n",
    "prob_thr = 0.5\n",
    "\n",
    "ptc1 = Points(ml_seg1[['Z','Y','X']][ml_seg1[\"prob\"]>prob_thr].to_numpy(), units='pix', resolution=[0.658, 0.23, 0.23])\n",
    "ptc2 = Points(ml_seg2[['Z','Y','X']][ml_seg2[\"prob\"]>prob_thr].to_numpy(), units='pix', resolution=[0.658, 0.23, 0.23])\n",
    "\n",
    "ptc1 = ptc1.crop(mask_tp2, units='pix')\n",
    "ptc2 = ptc2.crop(mask_tp1, units='pix')\n",
    "ptc1 = ptc1.recenter([mask_tp1['zmin'],0,0], units = 'pix')\n",
    "ptc2 = ptc2.recenter([mask_tp2['zmin'],0,0], units = 'pix')\n",
    "\n",
    "ptc1.to_json(f'{project_path}/data/processed/registered/no_change_control/ptc1_global_{tag}.json')\n",
    "ptc2.to_json(f'{project_path}/data/processed/registered/no_change_control/ptc2_global_{tag}.json')\n",
    "\n",
    "af = AffineTransform.from_json(f'{project_path}/data/processed/registered/no_change_control/testing_synapses/1-20FM_to_1-20FJ_affine_{tag}.json')\n",
    "ptc2_af = ptc2.transform(af, units='phs')\n",
    "ptc2_af.to_json(f'{project_path}/data/processed/registered/no_change_control/testing_synapses/ptc2_1-20FM_to_1-20FJ_affine_{tag}.json')\n",
    "\n",
    "ptc2_pw = ptc2_af.pw_transform(bps.pairs)\n",
    "PointsList(ptc2_pw).to_json(f'{project_path}/data/processed/registered/no_change_control/testing_synapses/ptc2_1-20FM_to_1-20FJ_pwreg_{tag}.json')"
   ]
  },
  {
   "cell_type": "markdown",
   "id": "8203376b-0f6a-4898-9a12-2e5cc99dea80",
   "metadata": {},
   "source": [
    "# output stuff to be visualised "
   ]
  },
  {
   "cell_type": "code",
   "execution_count": 25,
   "id": "06ea8d75-5cd7-4ed8-b772-d1a1cd4bdca8",
   "metadata": {},
   "outputs": [],
   "source": [
    "fixed_blc = fixed.split(fixed_blc_size,fixed_overlap)\n",
    "padding = 10\n",
    "\n",
    "PointsBlockView(ptc1.split(fixed_blc), fixed_blc, padding).to_json(f'{project_path}/data/processed/registered/no_change_control/testing_synapses/ptc1_1-20FJ_{tag}.json')\n",
    "PointsBlockView(ptc2_pw, fixed_blc, padding).to_json(f'{project_path}/data/processed/registered/no_change_control/testing_synapses/ptc2_1-20FM_to_1-20FJ_pwreg_{tag}.json')"
   ]
  },
  {
   "cell_type": "markdown",
   "id": "d9d803a0-1726-4a31-bdff-574f33a585e2",
   "metadata": {},
   "source": [
    "## lost vs gained"
   ]
  },
  {
   "cell_type": "code",
   "execution_count": 32,
   "id": "c0cb7195-a105-4b4c-bc3e-eff954dba2b6",
   "metadata": {},
   "outputs": [],
   "source": [
    "from utils.synapse import *"
   ]
  },
  {
   "cell_type": "code",
   "execution_count": 43,
   "id": "b5925fdd-7c87-4296-b309-cba19eddd932",
   "metadata": {},
   "outputs": [
    {
     "name": "stderr",
     "output_type": "stream",
     "text": [
      "100%|█████████████████████████████████████████████████████████████████████████████████| 700/700 [04:37<00:00,  2.53it/s]\n"
     ]
    }
   ],
   "source": [
    "radius = 1.0\n",
    "synapse_study = PwSynapsePair(ptc1,ptc2_pw,radius)"
   ]
  },
  {
   "cell_type": "code",
   "execution_count": 45,
   "id": "ffbc5ab5-7ac6-4633-bc86-1f028f28774d",
   "metadata": {},
   "outputs": [],
   "source": [
    "PointsBlockView(synapse_study.lost, fixed_blc, padding).to_json(f'{project_path}/data/processed/registered/no_change_control/testing_synapses/ptc2_lost_1-20FM_to_1-20FJ_pwreg_v03242022.json')\n",
    "PointsBlockView(synapse_study.gained, fixed_blc, padding).to_json(f'{project_path}/data/processed/registered/no_change_control/testing_synapses/ptc2_gained_1-20FM_to_1-20FJ_pwreg_v03242022.json')\n",
    "PointsBlockView(synapse_study.uncB, fixed_blc, padding).to_json(f'{project_path}/data/processed/registered/no_change_control/testing_synapses/ptc2_uncB_1-20FM_to_1-20FJ_pwreg_v03242022.json')\n",
    "PointsBlockView(synapse_study.uncA, fixed_blc, padding).to_json(f'{project_path}/data/processed/registered/no_change_control/testing_synapses/ptc2_uncA_1-20FM_to_1-20FJ_pwreg_v03242022.json')"
   ]
  },
  {
   "cell_type": "code",
   "execution_count": null,
   "id": "0c7e7e30-c392-4faa-8905-db2ac1cbfe4a",
   "metadata": {},
   "outputs": [],
   "source": []
  },
  {
   "cell_type": "code",
   "execution_count": null,
   "id": "c3dcf70f-39d9-4801-9b9a-15f660344fc3",
   "metadata": {},
   "outputs": [],
   "source": []
  },
  {
   "cell_type": "code",
   "execution_count": null,
   "id": "6c9bd0ef-7f99-4c22-8842-bd4402168e9a",
   "metadata": {},
   "outputs": [],
   "source": []
  },
  {
   "cell_type": "code",
   "execution_count": null,
   "id": "4d80b4f8-b265-4624-b849-dd8a2b1a57ba",
   "metadata": {},
   "outputs": [],
   "source": []
  }
 ],
 "metadata": {
  "kernelspec": {
   "display_name": "Python 3 (ipykernel)",
   "language": "python",
   "name": "python3"
  },
  "language_info": {
   "codemirror_mode": {
    "name": "ipython",
    "version": 3
   },
   "file_extension": ".py",
   "mimetype": "text/x-python",
   "name": "python",
   "nbconvert_exporter": "python",
   "pygments_lexer": "ipython3",
   "version": "3.8.5"
  }
 },
 "nbformat": 4,
 "nbformat_minor": 5
}
