{
 "cells": [
  {
   "cell_type": "code",
   "execution_count": 1,
   "id": "422274d6",
   "metadata": {},
   "outputs": [
    {
     "name": "stderr",
     "output_type": "stream",
     "text": [
      "<frozen importlib._bootstrap>:219: RuntimeWarning: scipy._lib.messagestream.MessageStream size changed, may indicate binary incompatibility. Expected 56 from C header, got 64 from PyObject\n",
      "/home/ply/anaconda3/envs/ants/lib/python3.8/site-packages/statsmodels/compat/pandas.py:65: FutureWarning: pandas.Int64Index is deprecated and will be removed from pandas in a future version. Use pandas.Index with the appropriate dtype instead.\n",
      "  from pandas import Int64Index as NumericIndex\n"
     ]
    }
   ],
   "source": [
    "import sys\n",
    "import pwreg as pw\n",
    "\n",
    "import pickle\n",
    "import pandas as pd"
   ]
  },
  {
   "cell_type": "code",
   "execution_count": 2,
   "id": "1b0f8439",
   "metadata": {},
   "outputs": [],
   "source": [
    "project_path = \"/mnt/d/Code/repos/UGPy\""
   ]
  },
  {
   "cell_type": "markdown",
   "id": "c4c043ca",
   "metadata": {},
   "source": [
    "# Left side of the brain "
   ]
  },
  {
   "cell_type": "code",
   "execution_count": 3,
   "id": "7714a6ad",
   "metadata": {},
   "outputs": [
    {
     "name": "stderr",
     "output_type": "stream",
     "text": [
      "TiffPage 0: TypeError: read_bytes() missing 3 required positional arguments: 'dtype', 'count', and 'offsetsize'\n",
      "TiffPage 0: TypeError: read_bytes() missing 3 required positional arguments: 'dtype', 'count', and 'offsetsize'\n"
     ]
    },
    {
     "name": "stdout",
     "output_type": "stream",
     "text": [
      "shape\n",
      "Fixed (121, 799, 420),\n",
      "Moving (131, 799, 420)\n",
      "masks :\n",
      "Fixed None,\n",
      "Moving None\n"
     ]
    }
   ],
   "source": [
    "mask_tp2 = None # {'zmin': 51,'zmax': 164 + 1}\n",
    "mask_tp1 = None # {'zmin': 51,'zmax': 168 + 1}\n",
    "\n",
    "fixed = pw.Image([0.658, 0.23, 0.23], filename = f'{project_path}/data/changes/learners/1-23C4/crops/1-23E2_left_main.tif',\n",
    "                 mask = mask_tp1) # tp 1\n",
    "moving = pw.Image([0.658, 0.23, 0.23], filename = f'{project_path}/data/changes/learners/1-23C4/crops/1-23E4_left_main.tif',\n",
    "                  mask = mask_tp2) # tp 2\n",
    "\n",
    "print(f'shape\\nFixed {fixed.shape},\\nMoving {moving.shape}')\n",
    "print(f'masks :\\nFixed {fixed.mask},\\nMoving {moving.mask}')"
   ]
  },
  {
   "cell_type": "code",
   "execution_count": 4,
   "id": "7241e759",
   "metadata": {},
   "outputs": [],
   "source": [
    "# put the whole image size here\n",
    "voxels_f = fixed.split([121, 799, 420],0)\n",
    "voxels_m = moving.split([131, 799, 420],0)"
   ]
  },
  {
   "cell_type": "code",
   "execution_count": 5,
   "id": "f1420469",
   "metadata": {},
   "outputs": [
    {
     "name": "stdout",
     "output_type": "stream",
     "text": [
      "fixed : ANTsImage (RAI)\n",
      "\t Pixel Type : float (float32)\n",
      "\t Components : 1\n",
      "\t Dimensions : (121, 799, 420)\n",
      "\t Spacing    : (0.658, 0.23, 0.23)\n",
      "\t Origin     : (0.0, 0.0, 0.0)\n",
      "\t Direction  : [1.0 0.0 0.0 0.0 1.0 0.0 0.0 0.0 1.0]\n",
      "\n",
      "moving : ANTsImage (RAI)\n",
      "\t Pixel Type : float (float32)\n",
      "\t Components : 1\n",
      "\t Dimensions : (131, 799, 420)\n",
      "\t Spacing    : (0.658, 0.23, 0.23)\n",
      "\t Origin     : (0.0, 0.0, 0.0)\n",
      "\t Direction  : [1.0 0.0 0.0 0.0 1.0 0.0 0.0 0.0 1.0]\n",
      "\n"
     ]
    }
   ],
   "source": [
    "pair = pw.BlockPair(voxels_f[0],voxels_m[0])\n",
    "pair.register(f\"{project_path}/tmp\",verbose = True) # block 2 (blc2) -to-> block 1 (blc1)"
   ]
  },
  {
   "cell_type": "code",
   "execution_count": 6,
   "id": "bef71bab",
   "metadata": {},
   "outputs": [],
   "source": [
    "# fixed.imwrite(f'/mnt/d/Code/repos/UGPy/data/changes/learners/1-23C4/registered/1-23E2_{tag}.tif')\n",
    "# moving.imwrite(f'/mnt/d/Code/repos/UGPy/data/changes/learners/1-23C4/registered/1-23E4_{tag}.tif')\n",
    "pair.warp().imwrite(f'/mnt/d/Code/repos/UGPy/data/changes/learners/1-23C4/registered/crops/1-23E4_to_1-23E2_left_main.tif')\n"
   ]
  },
  {
   "cell_type": "markdown",
   "id": "75285556",
   "metadata": {},
   "source": [
    "### Now probability maps : "
   ]
  },
  {
   "cell_type": "code",
   "execution_count": 7,
   "id": "c68972f2",
   "metadata": {},
   "outputs": [],
   "source": [
    "fixed = pw.Image([0.658, 0.23, 0.23],\n",
    "                 filename = f'{project_path}/data/changes/learners/1-23C4/prob_map/crops/map_id_rzn02jyz_ckpt_3m51q4ne_1-23E2_left_main.tif',\n",
    "                 mask = mask_tp1) # tp 1\n",
    "moving = pw.Image([0.658, 0.23, 0.23], \n",
    "                  filename = f'{project_path}/data/changes/learners/1-23C4/prob_map/crops/map_id_74tmf0l2_ckpt_3m51q4ne_1-23E4_left_main.tif',\n",
    "                  mask = mask_tp2) # tp 2\n",
    "# put the whole image size here\n",
    "voxels_f = fixed.split([121, 799, 420],0)\n",
    "voxels_m = moving.split([131, 799, 420],0)"
   ]
  },
  {
   "cell_type": "code",
   "execution_count": 8,
   "id": "fecb43a9",
   "metadata": {},
   "outputs": [],
   "source": [
    "pair_pm = pw.BlockPair(voxels_f[0],voxels_m[0], alignment=pair.alignment)\n",
    "pair_pm.warp().imwrite(\n",
    "    f'{project_path}/data/changes/learners/1-23C4/registered/crops/map_id_74tmf0l2_ckpt_3m51q4ne_1-23E4_to_1-23E2_left_main.tif')\n"
   ]
  }
 ],
 "metadata": {
  "kernelspec": {
   "display_name": "Python 3 (ipykernel)",
   "language": "python",
   "name": "python3"
  },
  "language_info": {
   "codemirror_mode": {
    "name": "ipython",
    "version": 3
   },
   "file_extension": ".py",
   "mimetype": "text/x-python",
   "name": "python",
   "nbconvert_exporter": "python",
   "pygments_lexer": "ipython3",
   "version": "3.8.5"
  }
 },
 "nbformat": 4,
 "nbformat_minor": 5
}
