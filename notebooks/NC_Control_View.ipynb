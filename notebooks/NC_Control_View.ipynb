{
 "cells": [
  {
   "cell_type": "code",
   "execution_count": 17,
   "id": "6f842bab-e24e-46bd-bdeb-13f92de3c41e",
   "metadata": {},
   "outputs": [
    {
     "name": "stdout",
     "output_type": "stream",
     "text": [
      "The autoreload extension is already loaded. To reload it, use:\n",
      "  %reload_ext autoreload\n"
     ]
    }
   ],
   "source": [
    "import sys\n",
    "# win:\n",
    "project_path = 'D:/Code/repos/pwreg'\n",
    "sys.path.insert(1, f'{project_path}/pwreg')\n",
    "\n",
    "from core.core import *\n",
    "from visualize.viewers import *\n",
    "from utils.napari_utils import *\n",
    "\n",
    "import inspect\n",
    "# print(inspect.getsource(Something))\n",
    "\n",
    "%load_ext autoreload\n",
    "%autoreload 2"
   ]
  },
  {
   "cell_type": "markdown",
   "id": "6db23328-1f6d-4a73-96ec-8daecda4c02b",
   "metadata": {},
   "source": [
    "# Look at global Images and points"
   ]
  },
  {
   "cell_type": "code",
   "execution_count": 20,
   "id": "9a497d20-1a2d-49d0-a066-81a075888d6b",
   "metadata": {},
   "outputs": [
    {
     "name": "stdout",
     "output_type": "stream",
     "text": [
      "Exception occured when trying to import ants !\n",
      " BlockPair.register method won't work and will cause an error if you use it. \n"
     ]
    }
   ],
   "source": [
    "fixed = Image([0.658, 0.23, 0.23], filename = f'{project_path}/data/raw/img/no_change_control/Image_1-20FM.ome.tif', mask= {'zmin': 51,'zmax': 164 + 1}) # tp 2\n",
    "moving = Image([0.658, 0.23, 0.23], filename = f'{project_path}/data/raw/img/no_change_control/Image_1-20FJ.ome.tif', mask= {'zmin': 51,'zmax': 164 + 1}) # tp 1"
   ]
  },
  {
   "cell_type": "code",
   "execution_count": null,
   "id": "8248c2e3-0da2-44d6-a6a3-1b5ce58d1e51",
   "metadata": {},
   "outputs": [],
   "source": [
    "ptc1 = Points.from_json(f'{project_path}/data/processed/registered/no_change_control/ptc1_global.json')\n",
    "ptc2 = Points.from_json(f'{project_path}/data/processed/registered/no_change_control/ptc2_global.json')"
   ]
  },
  {
   "cell_type": "code",
   "execution_count": 5,
   "id": "84048373-3c07-418b-8b62-5377f5eb0af7",
   "metadata": {},
   "outputs": [],
   "source": [
    "# looks good \n",
    "imgptc = ImagePointsView(moving,ptc1)\n",
    "imgptc.view_in_napari()"
   ]
  },
  {
   "cell_type": "code",
   "execution_count": 4,
   "id": "0502ff86-88d5-494a-8139-f8a62710fbb6",
   "metadata": {},
   "outputs": [],
   "source": [
    "# looks good \n",
    "imgptc = ImagePointsView(fixed,ptc2)\n",
    "imgptc.view_in_napari()"
   ]
  },
  {
   "cell_type": "code",
   "execution_count": 27,
   "id": "29e4b761-6674-4429-9136-b71f47b94278",
   "metadata": {},
   "outputs": [],
   "source": [
    "transformed = Image([0.658, 0.23, 0.23], filename = f'{project_path}/data/processed/registered/no_change_control/1-20FJ_to_1-20FM_affine_TS_resolution_ZYX.tif') # tp 1 --> tp 2\n",
    "ptc1_tw = Points.from_json(f'{project_path}/data/processed/registered/no_change_control/ptc1_global_tansformed_to_ptc2_TS_resolution_ZYX.json')"
   ]
  },
  {
   "cell_type": "code",
   "execution_count": 29,
   "id": "01316ee0-894b-4c27-b39e-260450adcc1f",
   "metadata": {},
   "outputs": [],
   "source": [
    "# looks good\n",
    "imgptc = ImagePointsView({'fixed' : fixed,'tp1 to tp2' : transformed},{'ptc1 to ptc2':ptc1_tw}, [0.658, 0.23, 0.23])\n",
    "imgptc.view_in_napari(['green','red'],['cyan'])"
   ]
  },
  {
   "cell_type": "markdown",
   "id": "100cfed7-763b-4aac-aabc-20b657da7035",
   "metadata": {},
   "source": [
    "# Look at pw Images and points"
   ]
  },
  {
   "cell_type": "code",
   "execution_count": 34,
   "id": "57380021-fe35-4ce9-820d-ef51c90de7b8",
   "metadata": {},
   "outputs": [
    {
     "name": "stdout",
     "output_type": "stream",
     "text": [
      "Exception occured when trying to import ants !\n",
      " BlockPair.register method won't work and will cause an error if you use it. \n"
     ]
    }
   ],
   "source": [
    "fixed = Image([0.658, 0.23, 0.23], filename = f'{project_path}/data/processed/registered/no_change_control/pw_registration_fixed_1-20FM_overlap_NN_ZYX.tif') # tp 2\n",
    "ptc2 = Points.from_json(f'{project_path}/data/processed/registered/no_change_control/ptc2_block_ZYX.json')"
   ]
  },
  {
   "cell_type": "code",
   "execution_count": 35,
   "id": "49d621fc-6095-497f-9fd6-e7346aa606e0",
   "metadata": {},
   "outputs": [],
   "source": [
    "# looks good\n",
    "imgptc = ImagePointsView({'fixed' : fixed},{'ptc2':ptc2}, [0.658, 0.23, 0.23])\n",
    "imgptc.view_in_napari(['gray'],['cyan'])"
   ]
  },
  {
   "cell_type": "code",
   "execution_count": 41,
   "id": "48b286bd-c9af-462f-ba75-675efa3db9f2",
   "metadata": {},
   "outputs": [
    {
     "name": "stdout",
     "output_type": "stream",
     "text": [
      "Exception occured when trying to import ants !\n",
      " BlockPair.register method won't work and will cause an error if you use it. \n"
     ]
    }
   ],
   "source": [
    "transformed = Image([0.658, 0.23, 0.23], filename = f'{project_path}/data/processed/registered/no_change_control/pw_registration_moving_1-20FJ_overlap_NN_ZYX.tif') # tp 1\n",
    "ptc1_tw = Points.from_json(f'{project_path}/data/processed/registered/no_change_control/ptc1_to_ptc2_block_ZYX.json')"
   ]
  },
  {
   "cell_type": "code",
   "execution_count": 42,
   "id": "62631365-bfd1-4d84-bbf4-c25d18398666",
   "metadata": {},
   "outputs": [
    {
     "name": "stderr",
     "output_type": "stream",
     "text": [
      "WARNING: DirectWrite: CreateFontFaceFromHDC() failed (Indicates an error in an input file such as a font file.) for QFontDef(Family=\"8514oem\", pointsize=12, pixelsize=20, styleHint=5, weight=50, stretch=100, hintingPreference=0) LOGFONT(\"8514oem\", lfWidth=0, lfHeight=-20) dpi=144\n"
     ]
    }
   ],
   "source": [
    "# looks slightly off \n",
    "imgptc = ImagePointsView({'transformed' : transformed},{'ptc1_tw':ptc1_tw}, [0.658, 0.23, 0.23])\n",
    "imgptc.view_in_napari(['gray'],['cyan'])"
   ]
  },
  {
   "cell_type": "code",
   "execution_count": 43,
   "id": "3aa0ec9e-ccda-4ccd-9d59-367551b6dfdf",
   "metadata": {},
   "outputs": [],
   "source": [
    "# looks good\n",
    "imgptc = ImagePointsView({'fixed' : fixed, 'transformed' : transformed},{'ptc2':ptc2, 'ptc1_tw':ptc1_tw}, [0.658, 0.23, 0.23])\n",
    "imgptc.view_in_napari(['green','red'],['red','green'])"
   ]
  },
  {
   "cell_type": "code",
   "execution_count": null,
   "id": "503c337e-22fe-4a99-ab08-a9f3ed1ba342",
   "metadata": {},
   "outputs": [],
   "source": []
  },
  {
   "cell_type": "code",
   "execution_count": null,
   "id": "63a70e4d-5bc2-4e3a-98d6-f31e6d4cfb13",
   "metadata": {},
   "outputs": [],
   "source": []
  },
  {
   "cell_type": "code",
   "execution_count": null,
   "id": "75c3a59b-3547-4448-bfbb-1a4065606dd6",
   "metadata": {},
   "outputs": [],
   "source": []
  },
  {
   "cell_type": "code",
   "execution_count": null,
   "id": "8662db7e-ee8f-4d66-bcde-9711590fd847",
   "metadata": {},
   "outputs": [],
   "source": []
  }
 ],
 "metadata": {
  "kernelspec": {
   "display_name": "Python 3",
   "language": "python",
   "name": "python3"
  },
  "language_info": {
   "codemirror_mode": {
    "name": "ipython",
    "version": 3
   },
   "file_extension": ".py",
   "mimetype": "text/x-python",
   "name": "python",
   "nbconvert_exporter": "python",
   "pygments_lexer": "ipython3",
   "version": "3.8.8"
  }
 },
 "nbformat": 4,
 "nbformat_minor": 5
}
