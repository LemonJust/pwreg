{
 "cells": [
  {
   "cell_type": "code",
   "execution_count": null,
   "id": "6f842bab-e24e-46bd-bdeb-13f92de3c41e",
   "metadata": {},
   "outputs": [],
   "source": [
    "import sys\n",
    "# win:\n",
    "project_path = 'D:/Code/repos/pwreg'\n",
    "sys.path.insert(1, f'{project_path}/pwreg')\n",
    "\n",
    "from core.core import *\n",
    "from visualize.viewers import *\n",
    "from utils.napari_utils import *\n",
    "\n",
    "import inspect\n",
    "# print(inspect.getsource(Something))\n",
    "\n",
    "%load_ext autoreload\n",
    "%autoreload 2"
   ]
  },
  {
   "cell_type": "code",
   "execution_count": null,
   "id": "1fd757ea-6a79-45f3-8371-6a503fb600e6",
   "metadata": {},
   "outputs": [],
   "source": [
    "fixed = Image([0.658, 0.23, 0.23], filename = f'{project_path}/data/raw/img/no_change_control/Image_1-20FM.ome.tif', mask= {'zmin': 51,'zmax': 164 + 1}) # tp 2\n",
    "moving = Image([0.658, 0.23, 0.23], filename = f'{project_path}/data/raw/img/no_change_control/Image_1-20FJ.ome.tif', mask= {'zmin': 51,'zmax': 168 + 1}) # tp 1\n",
    "\n",
    "print(f'shape\\nFixed {fixed.shape},\\nMoving {moving.shape}')\n",
    "print(f'masks :\\nFixed {fixed.mask},\\nMoving {moving.mask}')"
   ]
  },
  {
   "cell_type": "code",
   "execution_count": null,
   "id": "9a497d20-1a2d-49d0-a066-81a075888d6b",
   "metadata": {},
   "outputs": [],
   "source": [
    "imgptc = ImagePointsView(fixed,ptc1)\n",
    "imgptc.view_in_napari()"
   ]
  }
 ],
 "metadata": {
  "kernelspec": {
   "display_name": "Python 3 (ipykernel)",
   "language": "python",
   "name": "python3"
  },
  "language_info": {
   "codemirror_mode": {
    "name": "ipython",
    "version": 3
   },
   "file_extension": ".py",
   "mimetype": "text/x-python",
   "name": "python",
   "nbconvert_exporter": "python",
   "pygments_lexer": "ipython3",
   "version": "3.8.5"
  }
 },
 "nbformat": 4,
 "nbformat_minor": 5
}
