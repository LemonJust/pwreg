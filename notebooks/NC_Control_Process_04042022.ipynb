{
 "cells": [
  {
   "cell_type": "markdown",
   "id": "712acb2a-58ff-4f5e-94f3-f46d239fbab6",
   "metadata": {
    "pycharm": {
     "name": "#%% md\n"
    }
   },
   "source": [
    "## Block Matching Regisrtation\n",
    "\n",
    "This notebook outputs transformaed pointclouds + alignmnet matrices + warped images. \n",
    "This notebut is run in WSL since it is using ants , which is not available for windows. \n",
    "\n",
    "For vizualisation, go to \" NC_Control_View\" notebook , which is run from windows ... "
   ]
  },
  {
   "cell_type": "code",
   "execution_count": 1,
   "id": "590c73f9-6070-460f-9397-5fe0d84cc3a0",
   "metadata": {
    "pycharm": {
     "is_executing": true,
     "name": "#%%\n"
    }
   },
   "outputs": [
    {
     "name": "stderr",
     "output_type": "stream",
     "text": [
      "<frozen importlib._bootstrap>:219: RuntimeWarning: scipy._lib.messagestream.MessageStream size changed, may indicate binary incompatibility. Expected 56 from C header, got 64 from PyObject\n",
      "/home/ply/anaconda3/envs/ants/lib/python3.8/site-packages/statsmodels/compat/pandas.py:65: FutureWarning: pandas.Int64Index is deprecated and will be removed from pandas in a future version. Use pandas.Index with the appropriate dtype instead.\n",
      "  from pandas import Int64Index as NumericIndex\n"
     ]
    }
   ],
   "source": [
    "import sys\n",
    "import pwreg as pw\n",
    "\n",
    "import pickle\n",
    "import pandas as pd"
   ]
  },
  {
   "cell_type": "code",
   "execution_count": 2,
   "id": "1a2fa943-6b27-4aa2-aae8-7904e9304e34",
   "metadata": {
    "pycharm": {
     "name": "#%%\n"
    }
   },
   "outputs": [],
   "source": [
    "project_path = \"/mnt/d/Code/repos/pwreg\""
   ]
  },
  {
   "cell_type": "markdown",
   "id": "5e0131b4-368e-4bd8-a0fe-6afe43e7244c",
   "metadata": {
    "pycharm": {
     "name": "#%% md\n"
    }
   },
   "source": [
    "### Global image alignment \n",
    "( TODO : allow rigid ) "
   ]
  },
  {
   "cell_type": "code",
   "execution_count": 3,
   "id": "e967cb31-1e6e-4338-bb8d-176399c674d8",
   "metadata": {
    "pycharm": {
     "name": "#%%\n"
    }
   },
   "outputs": [
    {
     "name": "stdout",
     "output_type": "stream",
     "text": [
      "shape\n",
      "Fixed (118, 1024, 1024),\n",
      "Moving (114, 1024, 1024)\n",
      "masks :\n",
      "Fixed {'zmin': 51, 'zmax': 169, 'xmin': None, 'xmax': None, 'ymin': None, 'ymax': None},\n",
      "Moving {'zmin': 51, 'zmax': 165, 'xmin': None, 'xmax': None, 'ymin': None, 'ymax': None}\n"
     ]
    }
   ],
   "source": [
    "mask_tp2 = {'zmin': 51,'zmax': 164 + 1}\n",
    "mask_tp1 = {'zmin': 51,'zmax': 168 + 1}\n",
    "\n",
    "fixed = pw.Image([0.658, 0.23, 0.23], filename = f'{project_path}/data/raw/img/no_change_control/Image_1-20FJ.ome.tif', mask = mask_tp1) # tp 1\n",
    "moving = pw.Image([0.658, 0.23, 0.23], filename = f'{project_path}/data/raw/img/no_change_control/Image_1-20FM.ome.tif', mask = mask_tp2) # tp 2\n",
    "\n",
    "print(f'shape\\nFixed {fixed.shape},\\nMoving {moving.shape}')\n",
    "print(f'masks :\\nFixed {fixed.mask},\\nMoving {moving.mask}')"
   ]
  },
  {
   "cell_type": "code",
   "execution_count": 4,
   "id": "7411443b-ebb3-495b-a38f-f7e01a2b53da",
   "metadata": {
    "pycharm": {
     "name": "#%%\n"
    }
   },
   "outputs": [],
   "source": [
    "# put the whole image size here\n",
    "voxels_f = fixed.split([118,1024,1024],0)\n",
    "voxels_m = moving.split([114,1024,1024],0)"
   ]
  },
  {
   "cell_type": "code",
   "execution_count": 5,
   "id": "27a7e803",
   "metadata": {
    "pycharm": {
     "name": "#%%\n"
    }
   },
   "outputs": [
    {
     "name": "stdout",
     "output_type": "stream",
     "text": [
      "[start [0 0 0]\n",
      "size [ 118 1024 1024]\n",
      "idx [0 0 0]\n",
      "overlap [0 0 0]]\n"
     ]
    }
   ],
   "source": [
    "print(voxels_f)"
   ]
  },
  {
   "cell_type": "code",
   "execution_count": 6,
   "id": "3bd40fe2-8a3d-4691-ba83-9914ed92aa2e",
   "metadata": {
    "pycharm": {
     "name": "#%%\n"
    }
   },
   "outputs": [
    {
     "name": "stdout",
     "output_type": "stream",
     "text": [
      "fixed : ANTsImage (RAI)\n",
      "\t Pixel Type : float (float32)\n",
      "\t Components : 1\n",
      "\t Dimensions : (118, 1024, 1024)\n",
      "\t Spacing    : (0.658, 0.23, 0.23)\n",
      "\t Origin     : (0.0, 0.0, 0.0)\n",
      "\t Direction  : [1.0 0.0 0.0 0.0 1.0 0.0 0.0 0.0 1.0]\n",
      "\n",
      "moving : ANTsImage (RAI)\n",
      "\t Pixel Type : float (float32)\n",
      "\t Components : 1\n",
      "\t Dimensions : (114, 1024, 1024)\n",
      "\t Spacing    : (0.658, 0.23, 0.23)\n",
      "\t Origin     : (0.0, 0.0, 0.0)\n",
      "\t Direction  : [1.0 0.0 0.0 0.0 1.0 0.0 0.0 0.0 1.0]\n",
      "\n"
     ]
    }
   ],
   "source": [
    "pair = pw.BlockPair(voxels_f[0],voxels_m[0])\n",
    "pair.register(f\"{project_path}/tmp\",verbose = True) # block 2 (blc2) -to-> block 1 (blc1)"
   ]
  },
  {
   "cell_type": "code",
   "execution_count": 7,
   "id": "9a2c96d1-2a5f-42ac-a054-7c85de1d9176",
   "metadata": {
    "pycharm": {
     "name": "#%%\n"
    }
   },
   "outputs": [],
   "source": [
    "tag = 'global_083022'\n",
    "fixed.imwrite(f'{project_path}/data/processed/registered/no_change_control/testing_April/1-20FJ_{tag}.tif')\n",
    "moving.imwrite(f'{project_path}/data/processed/registered/no_change_control/testing_April/1-20FM_{tag}.tif')\n",
    "pair.warp().imwrite(f'{project_path}/data/processed/registered/no_change_control/testing_April/1-20FJ_to_1-20FM_{tag}.tif')\n"
   ]
  },
  {
   "cell_type": "code",
   "execution_count": 13,
   "id": "2ac5ca3f-5c0d-49b9-a407-5f2ca12054a8",
   "metadata": {
    "pycharm": {
     "name": "#%%\n"
    }
   },
   "outputs": [],
   "source": [
    "\n",
    "to_json(pair.alignment['affine'],f'{project_path}/data/processed/registered/no_change_control/testing_April/affinetransform_1-20FJ_to_1-20FM_{tag}.json')"
   ]
  },
  {
   "cell_type": "markdown",
   "id": "ef5f4cb7-d66a-4c8f-9599-51fb90b26601",
   "metadata": {
    "pycharm": {
     "name": "#%% md\n"
    }
   },
   "source": [
    "### Global points alignment"
   ]
  },
  {
   "cell_type": "code",
   "execution_count": 16,
   "id": "c019796b-51e3-4712-a64b-c82ce10b8123",
   "metadata": {
    "pycharm": {
     "name": "#%%\n"
    }
   },
   "outputs": [],
   "source": [
    "segmentation_folder = '/mnt/d/Code/repos/psd95_segmentation/models/two_small_cnns/predictions/Gad1b_2021/Sequential_2tp_control/'\n",
    "\n",
    "ptc1 = Points.from_predictions(f'{segmentation_folder}ML_segmentation_1-20GA_12-22-2021_2CNN_gui.csv', prob_thr = 0.6, units='pix', resolution=[0.658, 0.23, 0.23])\n",
    "ptc2 = Points.from_predictions(f'{segmentation_folder}ML_segmentation_1-20G6_12-22-2021_2CNN_gui.csv', prob_thr = 0.0, units='pix', resolution=[0.658, 0.23, 0.23])"
   ]
  },
  {
   "cell_type": "code",
   "execution_count": 17,
   "id": "febb4081-5be7-47b3-ac3d-d6e4a183be56",
   "metadata": {
    "pycharm": {
     "name": "#%%\n"
    }
   },
   "outputs": [],
   "source": [
    "ptc1 = ptc1.crop(mask_tp1, units='pix')\n",
    "ptc1 = ptc1.recenter([mask_tp1['zmin'],0,0], units = 'pix')\n",
    "\n",
    "ptc2 = ptc2.crop(mask_tp2, units='pix')\n",
    "ptc2 = ptc2.recenter([mask_tp2['zmin'],0,0], units = 'pix')\n",
    "\n",
    "af = from_json(AffineTransform, f'{project_path}/data/processed/registered/no_change_control/testing_April/affinetransform_1-20FJ_to_1-20FM_{tag}.json')\n",
    "ptc1_tf = ptc1.transform(af, units='phs')\n",
    "\n",
    "to_json(ptc1, f'{project_path}/data/processed/registered/no_change_control/testing_April/ptc1_global_{tag}.json')\n",
    "to_json(ptc2, f'{project_path}/data/processed/registered/no_change_control/testing_April/ptc2_global_{tag}.json')\n",
    "to_json(ptc1_tf, f'{project_path}/data/processed/registered/no_change_control/testing_April/ptc1_to_ptc2_global_{tag}.json')"
   ]
  },
  {
   "cell_type": "markdown",
   "id": "0ebf8416-d013-4205-beb4-21c7314dc1b8",
   "metadata": {
    "pycharm": {
     "name": "#%% md\n"
    }
   },
   "source": [
    "### Block affine registration"
   ]
  },
  {
   "cell_type": "code",
   "execution_count": 18,
   "id": "72bffba5-3a9d-455b-8da4-8b185020e08c",
   "metadata": {
    "pycharm": {
     "name": "#%%\n"
    }
   },
   "outputs": [],
   "source": [
    "# use the pre-registered \n",
    "prereg = pair.warp(interpolator = 'linear')"
   ]
  },
  {
   "cell_type": "markdown",
   "id": "eeade928-1e65-4082-b6da-9820a0f73ee2",
   "metadata": {
    "pycharm": {
     "name": "#%% md\n"
    }
   },
   "source": [
    "Let's try with the overlap:"
   ]
  },
  {
   "cell_type": "code",
   "execution_count": 19,
   "id": "dad042f0-bc7a-4d5f-9384-3226bc723cc1",
   "metadata": {
    "pycharm": {
     "name": "#%%\n"
    }
   },
   "outputs": [
    {
     "name": "stderr",
     "output_type": "stream",
     "text": [
      "/mnt/d/Code/repos/pwreg/pwreg/core/core.py:108: UserWarning:\n",
      "\n",
      "Specified voxel size + overlap don't cover the whole image.Image size is [ 118 1024 1024], block size [ 18 102 102], overlap [3 7 7] results in [ 7.66666667 10.70526316 10.70526316] blocks.\n",
      "Leaving some image out. \n",
      "\n"
     ]
    }
   ],
   "source": [
    "# you want to pick the overlap so that it is larger than the pairing radius that you will be using ... ( here I'm thinking of 1.5 um radius ) \n",
    "voxels_f = fixed.split([18,102,102],[3,7,7])\n",
    "voxels_m = prereg.split([18,102,102],[3,7,7])"
   ]
  },
  {
   "cell_type": "code",
   "execution_count": 20,
   "id": "ac21bd1b-3440-45b9-83a2-93b5b3d4db94",
   "metadata": {
    "pycharm": {
     "name": "#%%\n"
    }
   },
   "outputs": [],
   "source": [
    "pairs = [BlockPair(voxf,voxm) for voxf,voxm in zip(voxels_f,voxels_m)]\n",
    "for pair in pairs: \n",
    "    pair.register()"
   ]
  },
  {
   "cell_type": "code",
   "execution_count": null,
   "id": "540d3aba-85e1-451d-9668-99f8cfa41c8e",
   "metadata": {
    "pycharm": {
     "name": "#%%\n"
    }
   },
   "outputs": [],
   "source": []
  },
  {
   "cell_type": "code",
   "execution_count": null,
   "id": "afd71fe4-b05a-45aa-ab44-d1237e744de1",
   "metadata": {
    "pycharm": {
     "name": "#%%\n"
    }
   },
   "outputs": [],
   "source": []
  },
  {
   "cell_type": "code",
   "execution_count": null,
   "id": "488d5b3e-b015-4562-a0e9-35f5d217936b",
   "metadata": {
    "pycharm": {
     "name": "#%%\n"
    }
   },
   "outputs": [],
   "source": []
  },
  {
   "cell_type": "code",
   "execution_count": 44,
   "id": "aa708ca0-21aa-4f3e-9878-761781eb877b",
   "metadata": {
    "pycharm": {
     "name": "#%%\n"
    }
   },
   "outputs": [],
   "source": [
    "BlockPairView(pairs, 10).write_volume(f'{project_path}/data/processed/registered/no_change_control/pw_registration_moving_1-20FJ_overlap_NN_ZYX.tif')\n",
    "BlockView(voxels_f,10).write_volume(f'{project_path}/data/processed/registered/no_change_control/pw_registration_fixed_1-20FM_overlap_NN_ZYX.tif')"
   ]
  },
  {
   "cell_type": "code",
   "execution_count": null,
   "id": "f24fec0c-7b3a-428c-bf23-75f12453e85c",
   "metadata": {
    "pycharm": {
     "name": "#%%\n"
    }
   },
   "outputs": [],
   "source": []
  },
  {
   "cell_type": "markdown",
   "id": "9949f8c1-f677-4ab3-a1fa-ed52e8eb2e52",
   "metadata": {
    "pycharm": {
     "name": "#%% md\n"
    }
   },
   "source": [
    "### Block points registration"
   ]
  },
  {
   "cell_type": "code",
   "execution_count": 74,
   "id": "6d850069-6a82-4bc7-82b0-8f4d87aaea60",
   "metadata": {
    "pycharm": {
     "name": "#%%\n"
    }
   },
   "outputs": [],
   "source": [
    "segmentation_folder = '/mnt/d/Code/repos/psd95_segmentation/models/two_small_cnns/predictions/Gad1b_2021/Sequential_2tp_control/'\n",
    "ptc2 = Points.from_predictions(f'{segmentation_folder}ML_segmentation_1-20G6_12-22-2021_2CNN_gui.csv', prob_thr=0.5, units='pix', resolution=[0.658, 0.23, 0.23]) # tp2\n",
    "\n",
    "ptc2 = ptc2.crop(mask_tp2, units='pix')\n",
    "ptc2 = ptc2.recenter([51,0,0], units = 'pix')"
   ]
  },
  {
   "cell_type": "code",
   "execution_count": 82,
   "id": "2c771fe2-7587-4d9b-92eb-e5088c6c9d85",
   "metadata": {
    "pycharm": {
     "name": "#%%\n"
    }
   },
   "outputs": [],
   "source": [
    "ptc2_in_blocks = ptc2.split(voxels_f)\n",
    "PointsBlockView(ptc2_in_blocks, voxels_f, 10).to_json(f'{project_path}/data/processed/registered/no_change_control/ptc2_block_ZYX.json')"
   ]
  },
  {
   "cell_type": "code",
   "execution_count": 90,
   "id": "b60c7255-426e-40d5-8809-f9084726949d",
   "metadata": {
    "pycharm": {
     "name": "#%%\n"
    }
   },
   "outputs": [],
   "source": [
    "ptc1_global = Points.from_json(f'{project_path}/data/processed/registered/no_change_control/ptc1_global_tansformed_to_ptc2_TS_resolution_ZYX.json')\n",
    "ptc1_to_ptc2_in_blocks = ptc1_global.pw_transform(pairs)\n",
    "PointsBlockView(ptc1_to_ptc2_in_blocks, voxels_f, 10).to_json(f'{project_path}/data/processed/registered/no_change_control/ptc1_to_ptc2_block_ZYX.json')"
   ]
  },
  {
   "cell_type": "code",
   "execution_count": null,
   "id": "5bc4f162-6f4b-42ac-90ff-3a919473cee7",
   "metadata": {
    "pycharm": {
     "name": "#%%\n"
    }
   },
   "outputs": [],
   "source": []
  },
  {
   "cell_type": "code",
   "execution_count": 83,
   "id": "28df6046-7603-44ef-a2b3-b504730d9e2a",
   "metadata": {
    "pycharm": {
     "name": "#%%\n"
    }
   },
   "outputs": [],
   "source": []
  },
  {
   "cell_type": "code",
   "execution_count": null,
   "id": "84f92b07-23f0-4edb-9e35-a1992201cc39",
   "metadata": {
    "pycharm": {
     "name": "#%%\n"
    }
   },
   "outputs": [],
   "source": []
  },
  {
   "cell_type": "code",
   "execution_count": null,
   "id": "1601288d-ee2b-4694-8a08-d824ec36ca8b",
   "metadata": {
    "pycharm": {
     "name": "#%%\n"
    }
   },
   "outputs": [],
   "source": []
  }
 ],
 "metadata": {
  "kernelspec": {
   "display_name": "Python 3 (ipykernel)",
   "language": "python",
   "name": "python3"
  },
  "language_info": {
   "codemirror_mode": {
    "name": "ipython",
    "version": 3
   },
   "file_extension": ".py",
   "mimetype": "text/x-python",
   "name": "python",
   "nbconvert_exporter": "python",
   "pygments_lexer": "ipython3",
   "version": "3.8.5"
  }
 },
 "nbformat": 4,
 "nbformat_minor": 5
}