{
 "cells": [
  {
   "cell_type": "code",
   "execution_count": 3,
   "id": "6a2aa857-09d4-42e6-b14f-c95bf61edfc8",
   "metadata": {},
   "outputs": [
    {
     "name": "stdout",
     "output_type": "stream",
     "text": [
      "The autoreload extension is already loaded. To reload it, use:\n",
      "  %reload_ext autoreload\n"
     ]
    },
    {
     "data": {
      "text/plain": [
       "'D:/Code/repos/pwreg'"
      ]
     },
     "execution_count": 3,
     "metadata": {},
     "output_type": "execute_result"
    }
   ],
   "source": [
    "import sys\n",
    "# win:\n",
    "# project_path = 'D:/Code/repos/gad1b-redistribution/src'\n",
    "# wsl:\n",
    "project_path = 'D:/Code/repos/pwreg'\n",
    "sys.path.insert(1, f'{project_path}/pwreg')\n",
    "\n",
    "from core.core import *\n",
    "from visualize.viewers import *\n",
    "from utils.synapse import *\n",
    "\n",
    "import pandas as pd\n",
    "import matplotlib.pyplot as plt\n",
    "\n",
    "\n",
    "%load_ext autoreload\n",
    "%autoreload 2\n",
    "\n",
    "project_path"
   ]
  },
  {
   "cell_type": "markdown",
   "id": "7b8ca498-bb3e-4363-a1b7-fd792a310ff7",
   "metadata": {},
   "source": [
    "# Apply all transforms to points"
   ]
  },
  {
   "cell_type": "code",
   "execution_count": 4,
   "id": "5a68da7b-ecd5-4940-be7b-12ce40709c22",
   "metadata": {},
   "outputs": [
    {
     "name": "stderr",
     "output_type": "stream",
     "text": [
      "100%|█████████████████████████████████████████████████████████████████████████████| 700/700 [00:00<00:00, 43853.81it/s]\n"
     ]
    }
   ],
   "source": [
    "segmentation_folder = 'D:/Code/repos/psd95_segmentation/models/two_small_cnns/predictions/Gad1b_2021/Sequential_2tp_control/'\n",
    "ptc1 = Points.from_predictions(f'{segmentation_folder}ML_segmentation_1-20GA_12-22-2021_2CNN_gui.csv', prob_thr=0.5, units='pix', resolution=[0.658, 0.23, 0.23])\n",
    "ptc2 = Points.from_predictions(f'{segmentation_folder}ML_segmentation_1-20G6_12-22-2021_2CNN_gui.csv', prob_thr=0.5, units='pix', resolution=[0.658, 0.23, 0.23])\n",
    "\n",
    "# preprocess points\n",
    "# copy masks from when you were preprocessing the Images ... \n",
    "mask_tp1 = {'zmin': 51,'zmax': 168 + 1}\n",
    "mask_tp2 = {'zmin': 51,'zmax': 164 + 1}\n",
    "ptc1 = ptc1.crop(mask_tp2, units='pix')\n",
    "ptc2 = ptc2.crop(mask_tp1, units='pix')\n",
    "ptc1 = ptc1.recenter([mask_tp1['zmin'],0,0], units = 'pix')\n",
    "ptc2 = ptc2.recenter([mask_tp2['zmin'],0,0], units = 'pix')\n",
    "\n",
    "# apply transforms to tp2 \n",
    "af = AffineTransform.from_json(f'{project_path}/data/processed/registered/no_change_control/testing_synapses/1-20FJ_to_1-20FM_affine_global_alignment_v03282022.json')\n",
    "ptc2_af = ptc2.transform(af, units='phs')\n",
    "bps = BlockPairs.from_json(f'{project_path}/data/processed/registered/no_change_control/testing_synapses/1-20FJ_to_1-20FM_pw_block_pairs_700_v03282022.json')\n",
    "ptc2_pw = ptc2_af.pw_transform(bps.pairs)"
   ]
  },
  {
   "cell_type": "markdown",
   "id": "8203376b-0f6a-4898-9a12-2e5cc99dea80",
   "metadata": {},
   "source": [
    "# output stuff to be visualised "
   ]
  },
  {
   "cell_type": "markdown",
   "id": "d9d803a0-1726-4a31-bdff-574f33a585e2",
   "metadata": {},
   "source": [
    "## lost vs gained"
   ]
  },
  {
   "cell_type": "code",
   "execution_count": 6,
   "id": "b5925fdd-7c87-4296-b309-cba19eddd932",
   "metadata": {},
   "outputs": [
    {
     "name": "stderr",
     "output_type": "stream",
     "text": [
      "100%|████████████████████████████████████████████████████████████████████████████████| 700/700 [07:27<00:00,  1.56it/s]\n"
     ]
    }
   ],
   "source": [
    "radius = 1\n",
    "synapse_study = PwSynapsePair(ptc1,ptc2_pw,radius)"
   ]
  },
  {
   "cell_type": "code",
   "execution_count": 29,
   "id": "c3dcf70f-39d9-4801-9b9a-15f660344fc3",
   "metadata": {},
   "outputs": [],
   "source": [
    "blocks = [pair.blc1 for pair in bps.pairs]"
   ]
  },
  {
   "cell_type": "code",
   "execution_count": 30,
   "id": "ef15aa60-25fb-480b-a6dc-a1582dcda029",
   "metadata": {},
   "outputs": [],
   "source": [
    "ch = synapse_study.get_unique_match(blocks)"
   ]
  },
  {
   "cell_type": "code",
   "execution_count": null,
   "id": "2647eb77-4fcc-4cc3-ade3-539f9eac84fc",
   "metadata": {},
   "outputs": [],
   "source": []
  },
  {
   "cell_type": "code",
   "execution_count": null,
   "id": "f630774f-3dd5-44ae-b4ca-6d20f8948fec",
   "metadata": {},
   "outputs": [],
   "source": []
  },
  {
   "cell_type": "code",
   "execution_count": 31,
   "id": "f82b4058-c6c4-4f4d-82ab-3a5f61695ba4",
   "metadata": {},
   "outputs": [
    {
     "data": {
      "text/plain": [
       "2"
      ]
     },
     "execution_count": 31,
     "metadata": {},
     "output_type": "execute_result"
    }
   ],
   "source": [
    "ch['tot_num']['per1'].max()"
   ]
  },
  {
   "cell_type": "code",
   "execution_count": 26,
   "id": "98d82f0c-d266-41b3-9eb0-7a90cf1019ba",
   "metadata": {},
   "outputs": [
    {
     "data": {
      "image/png": "[encoded data removed]",
      "text/plain": [
       "<Figure size 432x288 with 1 Axes>"
      ]
     },
     "metadata": {
      "needs_background": "light"
     },
     "output_type": "display_data"
    },
    {
     "data": {
      "image/png": "[encoded data removed]",
      "text/plain": [
       "<Figure size 432x288 with 1 Axes>"
      ]
     },
     "metadata": {
      "needs_background": "light"
     },
     "output_type": "display_data"
    },
    {
     "ename": "IndexError",
     "evalue": "boolean index did not match indexed array along dimension 0; dimension is 11558 but corresponding boolean dimension is 11696",
     "output_type": "error",
     "traceback": [
      "\u001b[1;31m---------------------------------------------------------------------------\u001b[0m",
      "\u001b[1;31mIndexError\u001b[0m                                Traceback (most recent call last)",
      "\u001b[1;32m<ipython-input-26-992668e8c16d>\u001b[0m in \u001b[0;36m<module>\u001b[1;34m\u001b[0m\n\u001b[0;32m      3\u001b[0m \u001b[0mplt\u001b[0m\u001b[1;33m.\u001b[0m\u001b[0mhist\u001b[0m\u001b[1;33m(\u001b[0m\u001b[0mch\u001b[0m\u001b[1;33m[\u001b[0m\u001b[1;34m'tot_num'\u001b[0m\u001b[1;33m]\u001b[0m\u001b[1;33m[\u001b[0m\u001b[1;34m'per2'\u001b[0m\u001b[1;33m]\u001b[0m\u001b[1;33m,\u001b[0m\u001b[0mbins\u001b[0m \u001b[1;33m=\u001b[0m \u001b[1;33m[\u001b[0m\u001b[1;36m0\u001b[0m\u001b[1;33m,\u001b[0m\u001b[1;36m1\u001b[0m\u001b[1;33m,\u001b[0m\u001b[1;36m2\u001b[0m\u001b[1;33m,\u001b[0m\u001b[1;36m3\u001b[0m\u001b[1;33m]\u001b[0m\u001b[1;33m)\u001b[0m\u001b[1;33m\u001b[0m\u001b[1;33m\u001b[0m\u001b[0m\n\u001b[0;32m      4\u001b[0m \u001b[0mplt\u001b[0m\u001b[1;33m.\u001b[0m\u001b[0mshow\u001b[0m\u001b[1;33m(\u001b[0m\u001b[1;33m)\u001b[0m\u001b[1;33m\u001b[0m\u001b[1;33m\u001b[0m\u001b[0m\n\u001b[1;32m----> 5\u001b[1;33m \u001b[0mplt\u001b[0m\u001b[1;33m.\u001b[0m\u001b[0mhist\u001b[0m\u001b[1;33m(\u001b[0m\u001b[0mch\u001b[0m\u001b[1;33m[\u001b[0m\u001b[1;34m'tot_num'\u001b[0m\u001b[1;33m]\u001b[0m\u001b[1;33m[\u001b[0m\u001b[1;34m'per2'\u001b[0m\u001b[1;33m]\u001b[0m\u001b[1;33m[\u001b[0m\u001b[0mch\u001b[0m\u001b[1;33m[\u001b[0m\u001b[1;34m'unique'\u001b[0m\u001b[1;33m]\u001b[0m\u001b[1;33m[\u001b[0m\u001b[1;34m'per1'\u001b[0m\u001b[1;33m]\u001b[0m\u001b[1;33m[\u001b[0m\u001b[0mch\u001b[0m\u001b[1;33m[\u001b[0m\u001b[1;34m'tot_num'\u001b[0m\u001b[1;33m]\u001b[0m\u001b[1;33m[\u001b[0m\u001b[1;34m'per1'\u001b[0m\u001b[1;33m]\u001b[0m\u001b[1;33m>\u001b[0m\u001b[1;36m1\u001b[0m\u001b[1;33m]\u001b[0m\u001b[1;33m]\u001b[0m\u001b[1;33m,\u001b[0m\u001b[0mbins\u001b[0m \u001b[1;33m=\u001b[0m \u001b[1;33m[\u001b[0m\u001b[1;36m0\u001b[0m\u001b[1;33m,\u001b[0m\u001b[1;36m1\u001b[0m\u001b[1;33m,\u001b[0m\u001b[1;36m2\u001b[0m\u001b[1;33m,\u001b[0m\u001b[1;36m3\u001b[0m\u001b[1;33m]\u001b[0m\u001b[1;33m)\u001b[0m\u001b[1;33m\u001b[0m\u001b[1;33m\u001b[0m\u001b[0m\n\u001b[0m",
      "\u001b[1;31mIndexError\u001b[0m: boolean index did not match indexed array along dimension 0; dimension is 11558 but corresponding boolean dimension is 11696"
     ]
    }
   ],
   "source": [
    "plt.hist(ch['tot_num']['per1'],bins = [0,1,2,3])\n",
    "plt.show()\n",
    "plt.hist(ch['tot_num']['per2'],bins = [0,1,2,3])\n",
    "plt.show()\n",
    "plt.hist(ch['tot_num']['per2'][ch['unique']['per1'][ch['tot_num']['per1']>1]],bins = [0,1,2,3])"
   ]
  },
  {
   "cell_type": "code",
   "execution_count": 59,
   "id": "ff53d8dd-53e9-4f58-8ab3-7821c3c2714c",
   "metadata": {},
   "outputs": [
    {
     "data": {
      "text/plain": [
       "1"
      ]
     },
     "execution_count": 59,
     "metadata": {},
     "output_type": "execute_result"
    },
    {
     "data": {
      "image/png": "[encoded data removed]",
      "text/plain": [
       "<Figure size 432x288 with 1 Axes>"
      ]
     },
     "metadata": {
      "needs_background": "light"
     },
     "output_type": "display_data"
    }
   ],
   "source": [
    "one_choice_only1 = np.concatenate(np.array(ch['unique']['per1'] , dtype=list)[ch['tot_num']['per1']==1])\n",
    "u, c = np.unique(one_choice_only1, return_counts=True)\n",
    "\n",
    "plt.hist(c)\n",
    "np.sum(c>1)"
   ]
  },
  {
   "cell_type": "code",
   "execution_count": 60,
   "id": "0e72e1b3-dfad-4698-96bc-0e5a99de1760",
   "metadata": {},
   "outputs": [
    {
     "data": {
      "text/plain": [
       "1"
      ]
     },
     "execution_count": 60,
     "metadata": {},
     "output_type": "execute_result"
    },
    {
     "data": {
      "image/png": "[encoded data removed]",
      "text/plain": [
       "<Figure size 432x288 with 1 Axes>"
      ]
     },
     "metadata": {
      "needs_background": "light"
     },
     "output_type": "display_data"
    }
   ],
   "source": [
    "one_choice_only2 = np.concatenate(np.array(ch['unique']['per2'] , dtype=list)[ch['tot_num']['per2']==1])\n",
    "u, c = np.unique(one_choice_only2, return_counts=True)\n",
    "\n",
    "plt.hist(c)\n",
    "np.sum(c>1)"
   ]
  },
  {
   "cell_type": "code",
   "execution_count": 63,
   "id": "962c8be4-e589-46db-aba2-4b46f0356db5",
   "metadata": {},
   "outputs": [
    {
     "data": {
      "text/plain": [
       "(8259,)"
      ]
     },
     "execution_count": 63,
     "metadata": {},
     "output_type": "execute_result"
    }
   ],
   "source": [
    "one_choice_only1[one_choice_only1>-1].shape"
   ]
  },
  {
   "cell_type": "code",
   "execution_count": 64,
   "id": "f3fe0801-2d8b-4424-8a81-198b32ffb8da",
   "metadata": {},
   "outputs": [
    {
     "data": {
      "text/plain": [
       "(8227,)"
      ]
     },
     "execution_count": 64,
     "metadata": {},
     "output_type": "execute_result"
    }
   ],
   "source": [
    "one_choice_only2[one_choice_only2>-1].shape"
   ]
  },
  {
   "cell_type": "code",
   "execution_count": 92,
   "id": "0ea08736-6d45-451d-8a26-eacf088df33d",
   "metadata": {},
   "outputs": [
    {
     "name": "stdout",
     "output_type": "stream",
     "text": [
      "pair is off: 2668\n",
      " tried to get paired with 2447 in tp1\n",
      " but tp1 options are : [-1]\n"
     ]
    }
   ],
   "source": [
    "matching_pair = []\n",
    "for i,p in enumerate(ch['unique']['per2']):\n",
    "    if ch['tot_num']['per2'][i]==1 and p[0]>-1:\n",
    "        have_a_match = i in ch['unique']['per1'][p[0]] \n",
    "        matching_pair.append(have_a_match)\n",
    "        if not have_a_match:\n",
    "            print(f'pair is off: {i}') \n",
    "            print(f' tried to get paired with {p[0]} in tp1')\n",
    "            print(f\" but tp1 options are : {ch['unique']['per1'][p[0]]}\")"
   ]
  },
  {
   "cell_type": "code",
   "execution_count": 93,
   "id": "f2660288-b4f7-4aef-b4b9-ba870ee4073a",
   "metadata": {},
   "outputs": [
    {
     "name": "stdout",
     "output_type": "stream",
     "text": [
      "pair is off: 8411\n",
      " tried to get paired with 9289 in tp2\n",
      " but tp2 options are : []\n"
     ]
    }
   ],
   "source": [
    "matching_pair = []\n",
    "for i,p in enumerate(ch['unique']['per1']):\n",
    "    if ch['tot_num']['per1'][i]==1 and p[0]>-1:\n",
    "        have_a_match = i in ch['unique']['per2'][p[0]] \n",
    "        matching_pair.append(have_a_match)\n",
    "        if not have_a_match:\n",
    "            print(f'pair is off: {i}') \n",
    "            print(f' tried to get paired with {p[0]} in tp2')\n",
    "            print(f\" but tp2 options are : {ch['unique']['per2'][p[0]]}\")"
   ]
  },
  {
   "cell_type": "code",
   "execution_count": 94,
   "id": "5023b0b5-741b-46e6-9015-3486051208bf",
   "metadata": {},
   "outputs": [
    {
     "data": {
      "text/plain": [
       "array([78.0, 569.0, 484.0])"
      ]
     },
     "execution_count": 94,
     "metadata": {},
     "output_type": "execute_result"
    }
   ],
   "source": [
    "ptc2_pw[0].zyx['pix'][9289]"
   ]
  },
  {
   "cell_type": "code",
   "execution_count": 87,
   "id": "97a561aa-517f-40fb-b509-5b7ce0f265ef",
   "metadata": {},
   "outputs": [
    {
     "data": {
      "text/plain": [
       "array([56.0, 260.0, 303.0])"
      ]
     },
     "execution_count": 87,
     "metadata": {},
     "output_type": "execute_result"
    }
   ],
   "source": []
  },
  {
   "cell_type": "code",
   "execution_count": null,
   "id": "f29f27ea-f511-493b-9d95-7d78687a5df4",
   "metadata": {},
   "outputs": [],
   "source": [
    "mask = synapse_study.assign_to_block(blocks)\n",
    "sum1 = np.sum(mask['per_idx1'], axis = 1)\n",
    "plt.hist(sum1,bins = [0,1,2,3])"
   ]
  },
  {
   "cell_type": "code",
   "execution_count": null,
   "id": "5097c0ab-6508-4eba-be35-08f59762ddbd",
   "metadata": {},
   "outputs": [],
   "source": [
    "[unique_match['per_idx1'][i] for i, l in enumerate(n_options['per_idx1']) if l>1]"
   ]
  },
  {
   "cell_type": "code",
   "execution_count": null,
   "id": "217c6ce0-5ab5-482e-bb9d-6ea0a318692d",
   "metadata": {},
   "outputs": [],
   "source": [
    "n_options"
   ]
  },
  {
   "cell_type": "code",
   "execution_count": null,
   "id": "d5c376eb-73d4-4c33-ac28-55601dc226e5",
   "metadata": {},
   "outputs": [],
   "source": []
  },
  {
   "cell_type": "code",
   "execution_count": null,
   "id": "e1a1217b-28b9-4856-ae29-1c88d987bab3",
   "metadata": {},
   "outputs": [],
   "source": [
    "stim = [2,2,2,3,3,3,5,5,5]\n",
    "blanks = [15, 18, 21, 27]\n",
    "\n",
    "pairs = []\n",
    "for s in stim:\n",
    "    pair = [s, np.random.choice(blanks)]\n",
    "    pairs.append(pair)\n",
    "pairs = np.array(pairs)\n",
    "\n",
    "order = np.arange(9)\n",
    "np.random.shuffle(order)\n",
    "\n",
    "ordered_pairs = np.r_[pairs[order],pairs[order],pairs[order],pairs[order]]\n",
    "pairs[order]"
   ]
  },
  {
   "cell_type": "code",
   "execution_count": null,
   "id": "01899349-3c72-4112-9bf8-6a30d197d018",
   "metadata": {},
   "outputs": [],
   "source": [
    "cycle_time = np.sum(pairs[:,1]) + 9*3\n",
    "print( f'Cycle time\\n{cycle_time}, s\\n {cycle_time/60}, min')"
   ]
  },
  {
   "cell_type": "code",
   "execution_count": null,
   "id": "88ecb59a-f2a0-4e68-9302-eda47b627281",
   "metadata": {},
   "outputs": [],
   "source": [
    "time = np.cumsum(ordered_pairs[:,1])\n",
    "signal = ordered_pairs[:,0]\n",
    "plt.figure(figsize = (15,5))\n",
    "plt.stem(time,signal)"
   ]
  },
  {
   "cell_type": "code",
   "execution_count": null,
   "id": "10ef35e6-2a92-4f94-a7c1-034e5183ae96",
   "metadata": {},
   "outputs": [],
   "source": [
    "plt.figure(figsize = (15,5))\n",
    "plt.stem(time,signal==2)"
   ]
  },
  {
   "cell_type": "code",
   "execution_count": null,
   "id": "db0a3a9c-e4c1-47e9-bd24-74e6bd54668c",
   "metadata": {},
   "outputs": [],
   "source": [
    "plt.figure(figsize = (15,5))\n",
    "plt.stem(time,signal==3)"
   ]
  },
  {
   "cell_type": "code",
   "execution_count": null,
   "id": "66c3aa3a-546b-4b69-8bd4-99974353934c",
   "metadata": {},
   "outputs": [],
   "source": [
    "plt.figure(figsize = (15,5))\n",
    "plt.stem(time,signal==5)"
   ]
  },
  {
   "cell_type": "code",
   "execution_count": null,
   "id": "a965d9a8-2729-4f93-8660-1503b8f35c04",
   "metadata": {},
   "outputs": [],
   "source": []
  }
 ],
 "metadata": {
  "kernelspec": {
   "display_name": "Python 3 (ipykernel)",
   "language": "python",
   "name": "python3"
  },
  "language_info": {
   "codemirror_mode": {
    "name": "ipython",
    "version": 3
   },
   "file_extension": ".py",
   "mimetype": "text/x-python",
   "name": "python",
   "nbconvert_exporter": "python",
   "pygments_lexer": "ipython3",
   "version": "3.10.2"
  }
 },
 "nbformat": 4,
 "nbformat_minor": 5
}
