{
 "cells": [
  {
   "cell_type": "code",
   "execution_count": 2,
   "id": "b2ba28f3-253a-435e-8eea-eca7d04fe3c8",
   "metadata": {},
   "outputs": [],
   "source": [
    "import napari\n",
    "from skimage import data\n",
    "import numpy as np\n",
    "from skimage.filters import gaussian\n",
    "from skimage.util import random_noise\n",
    "import tifffile as tif"
   ]
  },
  {
   "cell_type": "code",
   "execution_count": 2,
   "id": "1a84b95b-7f4e-4aa2-8249-b1621077b3dc",
   "metadata": {},
   "outputs": [],
   "source": [
    "# 3D case:\n",
    "img = data.binary_blobs(length=100,\n",
    "                        n_dim=3,\n",
    "                        blob_size_fraction=0.01,\n",
    "                        volume_fraction=0.001)\n",
    "\n",
    "img = gaussian(img, 1)\n",
    "img = random_noise(img, mode='gaussian', mean=np.mean(img), var=np.var(img))\n",
    "img = np.expand_dims(img, axis=0)"
   ]
  },
  {
   "cell_type": "code",
   "execution_count": 3,
   "id": "7cd4c116-6e9b-48d0-910f-1d314b0b460a",
   "metadata": {},
   "outputs": [
    {
     "data": {
      "text/plain": [
       "(1, 100, 100, 100)"
      ]
     },
     "execution_count": 3,
     "metadata": {},
     "output_type": "execute_result"
    }
   ],
   "source": [
    "img.shape\n"
   ]
  },
  {
   "cell_type": "code",
   "execution_count": 3,
   "id": "980a3fe8-2ba1-424b-8eb9-f4e8f20cf9e2",
   "metadata": {},
   "outputs": [],
   "source": [
    "img = tif.imread(\"D:/Code/repos/pwreg/data/processed/registered/no_change_control/testing_April/test_prob_maps/1-20FJ_global_040422_prob_map_thresholded_0p6_tiny_crop.tif\")"
   ]
  },
  {
   "cell_type": "code",
   "execution_count": 4,
   "id": "f7bda69e-9e31-4af1-8b01-0bffd51dc1f3",
   "metadata": {},
   "outputs": [
    {
     "data": {
      "text/plain": [
       "<Image layer 'img' at 0x1de95401cd0>"
      ]
     },
     "execution_count": 4,
     "metadata": {},
     "output_type": "execute_result"
    },
    {
     "name": "stderr",
     "output_type": "stream",
     "text": [
      "C:\\Users\\Lemon\\miniconda3\\envs\\napari-blob-detection\\lib\\site-packages\\trackpy\\find.py:109: UserWarning: Image is completely black.\n",
      "  warnings.warn(\"Image is completely black.\", UserWarning)\n",
      "C:\\Users\\Lemon\\miniconda3\\envs\\napari-blob-detection\\lib\\site-packages\\trackpy\\find.py:109: UserWarning: Image is completely black.\n",
      "  warnings.warn(\"Image is completely black.\", UserWarning)\n"
     ]
    }
   ],
   "source": [
    "resolution = [0.658, 0.23, 0.23]\n",
    "\n",
    "viewer = napari.Viewer()\n",
    "viewer.add_image(img, name=\"img\", scale=resolution)"
   ]
  },
  {
   "cell_type": "code",
   "execution_count": null,
   "id": "a8884fce-b02d-4132-920d-979a0216a5ac",
   "metadata": {},
   "outputs": [],
   "source": []
  }
 ],
 "metadata": {
  "kernelspec": {
   "display_name": "Python 3 (ipykernel)",
   "language": "python",
   "name": "python3"
  },
  "language_info": {
   "codemirror_mode": {
    "name": "ipython",
    "version": 3
   },
   "file_extension": ".py",
   "mimetype": "text/x-python",
   "name": "python",
   "nbconvert_exporter": "python",
   "pygments_lexer": "ipython3",
   "version": "3.9.12"
  }
 },
 "nbformat": 4,
 "nbformat_minor": 5
}
